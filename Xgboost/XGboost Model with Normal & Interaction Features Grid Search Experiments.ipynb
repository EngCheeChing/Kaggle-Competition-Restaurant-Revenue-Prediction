{
 "cells": [
  {
   "cell_type": "code",
   "execution_count": 1,
   "metadata": {},
   "outputs": [
    {
     "data": {
      "text/html": [
       "        <script type=\"text/javascript\">\n",
       "        window.PlotlyConfig = {MathJaxConfig: 'local'};\n",
       "        if (window.MathJax) {MathJax.Hub.Config({SVG: {font: \"STIX-Web\"}});}\n",
       "        if (typeof require !== 'undefined') {\n",
       "        require.undef(\"plotly\");\n",
       "        requirejs.config({\n",
       "            paths: {\n",
       "                'plotly': ['https://cdn.plot.ly/plotly-latest.min']\n",
       "            }\n",
       "        });\n",
       "        require(['plotly'], function(Plotly) {\n",
       "            window._Plotly = Plotly;\n",
       "        });\n",
       "        }\n",
       "        </script>\n",
       "        "
      ]
     },
     "metadata": {},
     "output_type": "display_data"
    },
    {
     "data": {
      "text/html": [
       "        <script type=\"text/javascript\">\n",
       "        window.PlotlyConfig = {MathJaxConfig: 'local'};\n",
       "        if (window.MathJax) {MathJax.Hub.Config({SVG: {font: \"STIX-Web\"}});}\n",
       "        if (typeof require !== 'undefined') {\n",
       "        require.undef(\"plotly\");\n",
       "        requirejs.config({\n",
       "            paths: {\n",
       "                'plotly': ['https://cdn.plot.ly/plotly-latest.min']\n",
       "            }\n",
       "        });\n",
       "        require(['plotly'], function(Plotly) {\n",
       "            window._Plotly = Plotly;\n",
       "        });\n",
       "        }\n",
       "        </script>\n",
       "        "
      ]
     },
     "metadata": {},
     "output_type": "display_data"
    }
   ],
   "source": [
    "import pandas as pd\n",
    "import numpy as np\n",
    "import plotly.plotly as py\n",
    "import plotly.graph_objs as go\n",
    "from plotly.offline import iplot, init_notebook_mode\n",
    "import matplotlib.pyplot as plt\n",
    "import seaborn as sns\n",
    "import cufflinks\n",
    "cufflinks.go_offline(connected=True)\n",
    "init_notebook_mode(connected=True)\n",
    "from sklearn.metrics import mean_squared_error,mean_absolute_error\n",
    "from statsmodels.tools.eval_measures import rmse\n",
    "from sklearn.ensemble import RandomForestClassifier\n",
    "from sklearn.model_selection import cross_val_score\n",
    "from sklearn.model_selection import train_test_split\n",
    "pd.set_option('display.max_row', 100)\n",
    "pd.set_option('display.max_column', 150)\n",
    "\n",
    "import warnings\n",
    "warnings.filterwarnings('ignore')"
   ]
  },
  {
   "cell_type": "code",
   "execution_count": 2,
   "metadata": {},
   "outputs": [],
   "source": [
    "train = pd.read_csv(\"train.csv\")\n",
    "test = pd.read_csv(\"test.csv\")\n",
    "Submission = pd.read_csv(\"sampleSubmission.csv\")"
   ]
  },
  {
   "cell_type": "code",
   "execution_count": 3,
   "metadata": {},
   "outputs": [],
   "source": [
    "train_x = train.drop(\"revenue\",axis=1)\n",
    "train_y = pd.DataFrame(train[\"revenue\"])"
   ]
  },
  {
   "cell_type": "code",
   "execution_count": 4,
   "metadata": {},
   "outputs": [
    {
     "name": "stdout",
     "output_type": "stream",
     "text": [
      "(137, 42)\n",
      "(100000, 42)\n"
     ]
    }
   ],
   "source": [
    "print(train_x.shape)\n",
    "print(test.shape)"
   ]
  },
  {
   "cell_type": "code",
   "execution_count": 5,
   "metadata": {},
   "outputs": [
    {
     "name": "stdout",
     "output_type": "stream",
     "text": [
      "(100137, 42)\n",
      "0\n"
     ]
    }
   ],
   "source": [
    "data = pd.concat([train_x,test])\n",
    "print(data.shape)\n",
    "print(data.isnull().sum().sum())"
   ]
  },
  {
   "cell_type": "code",
   "execution_count": 6,
   "metadata": {},
   "outputs": [],
   "source": [
    "def create_dummies(df,column_name):\n",
    "    dummies = pd.get_dummies(df[column_name],prefix=column_name)\n",
    "    df = pd.concat([df,dummies],axis=1)\n",
    "    return df"
   ]
  },
  {
   "cell_type": "code",
   "execution_count": 7,
   "metadata": {},
   "outputs": [],
   "source": [
    "def feature_engineer(df):\n",
    "    df = df.astype(float,errors=\"ignore\")\n",
    "    df[\"Open Date\"] = pd.to_datetime(df[\"Open Date\"], format='%m/%d/%Y')\n",
    "    df = df.set_index(\"Open Date\")\n",
    "    df[\"Open_Year\"] = df.index.year\n",
    "    df[\"Open_Month\"] = df.index.month\n",
    "    df = df.reset_index(drop=True)\n",
    "    df = create_dummies(df,\"Type\")\n",
    "    df = create_dummies(df,\"City Group\")\n",
    "    df = create_dummies(df,\"City\")\n",
    "    df = create_dummies(df,\"Open_Year\")\n",
    "    df = create_dummies(df,\"Open_Month\")\n",
    "    df = df.drop([\"City\",\"City Group\",\"Type\",\"Open_Year\",\"Open_Month\"],axis=1)\n",
    "    return df"
   ]
  },
  {
   "cell_type": "code",
   "execution_count": 8,
   "metadata": {},
   "outputs": [],
   "source": [
    "data_rf = feature_engineer(data)"
   ]
  },
  {
   "cell_type": "code",
   "execution_count": 9,
   "metadata": {},
   "outputs": [
    {
     "name": "stdout",
     "output_type": "stream",
     "text": [
      "(137, 139)\n",
      "(100000, 139)\n"
     ]
    }
   ],
   "source": [
    "train_rf_x = data_rf[:137]\n",
    "test_x = data_rf[137:]\n",
    "print(train_rf_x.shape)\n",
    "print(test_x.shape)"
   ]
  },
  {
   "cell_type": "code",
   "execution_count": 10,
   "metadata": {},
   "outputs": [],
   "source": [
    "train_rf_x = train_rf_x.drop(\"Id\",axis=1)\n",
    "Submission_id = pd.DataFrame(test_x[\"Id\"]).astype(int).reset_index(drop=True)\n",
    "test_rf_x = test_x.drop(\"Id\",axis=1).reset_index(drop=True)"
   ]
  },
  {
   "cell_type": "code",
   "execution_count": 11,
   "metadata": {},
   "outputs": [
    {
     "name": "stdout",
     "output_type": "stream",
     "text": [
      "(137, 138)\n",
      "(137, 1)\n",
      "(100000, 138)\n",
      "(100000, 1)\n"
     ]
    }
   ],
   "source": [
    "print(train_rf_x.shape) # Performed features normalization\n",
    "print(train_y.shape)\n",
    "print(test_rf_x.shape) # Performed features normalization\n",
    "print(Submission_id.shape)"
   ]
  },
  {
   "cell_type": "code",
   "execution_count": 12,
   "metadata": {},
   "outputs": [
    {
     "name": "stdout",
     "output_type": "stream",
     "text": [
      "0\n",
      "True\n"
     ]
    }
   ],
   "source": [
    "# Transform features only, and need no inverse_transform back\n",
    "from sklearn.preprocessing import StandardScaler\n",
    "train_score_scaler = StandardScaler()\n",
    "test_score_scaler = StandardScaler()\n",
    "normalize_train = pd.DataFrame(train_score_scaler.fit_transform(train_rf_x.loc[:,\"P1\":\"P37\"]),columns = train_rf_x.loc[:,\"P1\":\"P37\"].columns)\n",
    "normalize_test = pd.DataFrame(test_score_scaler.fit_transform(test_rf_x.loc[:,\"P1\":\"P37\"]),columns = test_rf_x.loc[:,\"P1\":\"P37\"].columns)\n",
    "# z- score transformation for train_rf_x & test_rf_x\n",
    "train_rf_x.loc[:,\"P1\":\"P37\"] = normalize_train\n",
    "test_rf_x.loc[:,\"P1\":\"P37\"] = normalize_test\n",
    "print(test_rf_x.isnull().sum().sum())\n",
    "print(train_rf_x.loc[:,\"P1\":\"P37\"].equals(normalize_train))"
   ]
  },
  {
   "cell_type": "code",
   "execution_count": 13,
   "metadata": {},
   "outputs": [],
   "source": [
    "# transformation for Train_y\n",
    "train_y_scaler = StandardScaler()\n",
    "normalize_train_y = pd.DataFrame(train_y_scaler.fit_transform(train_y),columns = train_y.columns)\n",
    "log_transform_y = train_y.apply(np.log)"
   ]
  },
  {
   "cell_type": "markdown",
   "metadata": {},
   "source": [
    "# Feature Engineering Part_2: Create N-way interaction features"
   ]
  },
  {
   "cell_type": "code",
   "execution_count": 14,
   "metadata": {},
   "outputs": [],
   "source": [
    "from sklearn.preprocessing import PolynomialFeatures"
   ]
  },
  {
   "cell_type": "code",
   "execution_count": 15,
   "metadata": {},
   "outputs": [],
   "source": [
    "# The interaction features can be as 2-way interaction, 3 way or more by adjusting the polynomial degree\n",
    "n_way_interactions = PolynomialFeatures(2, interaction_only=True, include_bias=False)"
   ]
  },
  {
   "cell_type": "code",
   "execution_count": 16,
   "metadata": {},
   "outputs": [],
   "source": [
    "n_way_interactions_columns = ['P1', 'P2', 'P3', 'P4', 'P5', 'P6', 'P7', 'P8', 'P9', 'P10', 'P11',\n",
    "       'P12', 'P13', 'P14', 'P15', 'P16', 'P17', 'P18', 'P19', 'P20', 'P21',\n",
    "       'P22', 'P23', 'P24', 'P25', 'P26', 'P27', 'P28', 'P29', 'P30', 'P31',\n",
    "       'P32', 'P33', 'P34', 'P35', 'P36', 'P37']"
   ]
  },
  {
   "cell_type": "code",
   "execution_count": 17,
   "metadata": {},
   "outputs": [],
   "source": [
    "train_interactions = pd.DataFrame(n_way_interactions.fit_transform(train_rf_x[n_way_interactions_columns]),columns = n_way_interactions.get_feature_names(train_rf_x[n_way_interactions_columns].columns))\n",
    "test_interactions = pd.DataFrame(n_way_interactions.fit_transform(test_rf_x[n_way_interactions_columns]),columns = n_way_interactions.get_feature_names(test_rf_x[n_way_interactions_columns].columns))"
   ]
  },
  {
   "cell_type": "code",
   "execution_count": 18,
   "metadata": {},
   "outputs": [
    {
     "name": "stdout",
     "output_type": "stream",
     "text": [
      "(137, 767)\n",
      "(100000, 767)\n"
     ]
    }
   ],
   "source": [
    "train_rf_x_interaction = pd.concat([train_rf_x,train_interactions],axis=1).drop(n_way_interactions_columns,axis=1)\n",
    "test_rf_x_interaction = pd.concat([test_rf_x,test_interactions],axis=1).drop(n_way_interactions_columns,axis=1)\n",
    "print(train_rf_x_interaction.shape)\n",
    "print(test_rf_x_interaction.shape)"
   ]
  },
  {
   "cell_type": "markdown",
   "metadata": {},
   "source": [
    "# XGboost, Grid Search with Features without interaction & log_transformation_y FULL MODEL"
   ]
  },
  {
   "cell_type": "code",
   "execution_count": 19,
   "metadata": {},
   "outputs": [],
   "source": [
    "import xgboost as xgb\n",
    "from sklearn.model_selection import cross_val_score\n",
    "from sklearn.model_selection import GridSearchCV\n",
    "from sklearn.metrics import confusion_matrix, mean_squared_error\n",
    "import pickle"
   ]
  },
  {
   "cell_type": "code",
   "execution_count": 20,
   "metadata": {},
   "outputs": [],
   "source": [
    "hyperparameters_dict = {\"learning_rate\": [0.1,0.2,0.3],              # range: [0,1], default = 0.3\n",
    "                   # Minimum loss reduction required to make a further partition on a leaf node of the tree. \n",
    "                   # The larger gamma is, the more conservative the algorithm will be.                   \n",
    "                   \"gamma\": [i/10.0 for i in range(1,10,2)],\n",
    "                   # Maximum depth of a tree. \n",
    "                   # Increasing this value will make the model more complex and more likely to overfit\n",
    "                   \"max_depth\": [6], \n",
    "                   # Used to control over-fitting\n",
    "                   # Too high values can lead to under-fitting hence, it should be tuned using grid search\n",
    "                   \"min_child_weight\": [1],\n",
    "                   # Usually this parameter is not needed, but it might help in logistic regression when class is extremely imbalanced\n",
    "                   \"max_delta_step\": [0],\n",
    "                   # Denotes the fraction of observations to be randomly samples for each tree\n",
    "                   # Typical values: 0.5-1\n",
    "                   \"subsample\": [0.8],\n",
    "                   # Similar to max_features in GBM, Typical values: 0.5 - 1\n",
    "                   # Denotes the fraction of columns to be randomly samples for each tree.\n",
    "                   \"colsample_bytree\": [0.8,1],\n",
    "                   \"colsample_bylevel\": [1], # colsample_bytree will control the decision over this, default = 1\n",
    "                   \"colsample_bynode\": [1],  # colsample_bytree will control the decision over this, default = 1\n",
    "                   # L2 regularization term on weights. Increasing this value will make model more conservative.\n",
    "                   \"reg_lambda\": [1], # default = 1\n",
    "                   # L1 regularization term on weights. Increasing this value will make model more conservative.\n",
    "                   \"reg_alpha\": [1],  # default = 0\n",
    "                   # Control the balance of positive and negative weights, useful for unbalanced classes. \n",
    "                   # A typical value to consider: sum(negative instances) / sum(positive instances)\n",
    "                   \"scale_pos_weight\": [1],\n",
    "                   # No. of trees ensemble, too high sometimes still can cause overfitting\n",
    "                   \"n_estimators\": [300,400], \n",
    "                   \"booster\": [\"gbtree\"],\n",
    "                   \"verbosity\": [1],\n",
    "                   \"objective\": [\"reg:squarederror\"],\n",
    "                   \"seed\": [50]\n",
    "                   }"
   ]
  },
  {
   "cell_type": "code",
   "execution_count": 102,
   "metadata": {},
   "outputs": [],
   "source": [
    "hyperparameters_tuning = {'learning_rate': [0.1],               # 6th when boosting\n",
    "                          'gamma': [0.5],                       # 3rd\n",
    "                          'max_depth': [4],                     # 1st to tune\n",
    "                          'min_child_weight': [1],              # 2nd\n",
    "                          'max_delta_step': [0],\n",
    "                          'subsample': [0.8],                   # 4th\n",
    "                          'colsample_bytree': [0.8],            # 4th \n",
    "                          'colsample_bylevel': [1],\n",
    "                          'colsample_bynode': [1],\n",
    "                          'reg_lambda': [1.3],                    # 5th\n",
    "                          'reg_alpha': [0],                     # 5th\n",
    "                          'scale_pos_weight': [1.0],            # only when dealing with imbalance classes\n",
    "                          'n_estimators': [400],                # 1st\n",
    "                          \"booster\": [\"gbtree\"],\n",
    "                          \"verbosity\": [1],\n",
    "                          \"objective\": [\"reg:squarederror\"],\n",
    "                          \"seed\": [1]\n",
    "                         }                "
   ]
  },
  {
   "cell_type": "code",
   "execution_count": 103,
   "metadata": {},
   "outputs": [],
   "source": [
    "# General Parameters setting inside Regressor\n",
    "xgboost = xgb.XGBRegressor()"
   ]
  },
  {
   "cell_type": "code",
   "execution_count": 104,
   "metadata": {},
   "outputs": [],
   "source": [
    "xgboost_grid = GridSearchCV(estimator = xgboost, param_grid = hyperparameters_tuning, cv = 6, iid = False, scoring=\"neg_mean_squared_error\")"
   ]
  },
  {
   "cell_type": "code",
   "execution_count": 105,
   "metadata": {},
   "outputs": [
    {
     "data": {
      "text/plain": [
       "GridSearchCV(cv=6, error_score='raise-deprecating',\n",
       "       estimator=XGBRegressor(base_score=0.5, booster='gbtree', colsample_bylevel=1,\n",
       "       colsample_bynode=1, colsample_bytree=1, gamma=0,\n",
       "       importance_type='gain', learning_rate=0.1, max_delta_step=0,\n",
       "       max_depth=3, min_child_weight=1, missing=None, n_estimators=100,\n",
       "       n_jobs=1, nthread=None, objective='reg:linear', random_state=0,\n",
       "       reg_alpha=0, reg_lambda=1, scale_pos_weight=1, seed=None,\n",
       "       silent=None, subsample=1, verbosity=1),\n",
       "       fit_params=None, iid=False, n_jobs=None,\n",
       "       param_grid={'learning_rate': [0.1], 'gamma': [0.5], 'max_depth': [4], 'min_child_weight': [1], 'max_delta_step': [0], 'subsample': [0.8], 'colsample_bytree': [0.8], 'colsample_bylevel': [1], 'colsample_bynode': [1], 'reg_lambda': [0.1, 0.3, 0.5, 0.7, 0.9, 1.1, 1.3, 1.5, 1.7, 1.9], 'reg_alpha': [0], 'scale_pos_weight': [1.0], 'n_estimators': [400], 'booster': ['gbtree'], 'verbosity': [1], 'objective': ['reg:squarederror'], 'seed': [1]},\n",
       "       pre_dispatch='2*n_jobs', refit=True, return_train_score='warn',\n",
       "       scoring='neg_mean_squared_error', verbose=0)"
      ]
     },
     "execution_count": 105,
     "metadata": {},
     "output_type": "execute_result"
    }
   ],
   "source": [
    "xgboost_grid.fit(train_rf_x,log_transform_y)"
   ]
  },
  {
   "cell_type": "code",
   "execution_count": 106,
   "metadata": {},
   "outputs": [
    {
     "name": "stdout",
     "output_type": "stream",
     "text": [
      "-0.19474596459896074\n",
      "0.6857284749486563\n",
      "XGBRegressor(base_score=0.5, booster='gbtree', colsample_bylevel=1,\n",
      "       colsample_bynode=1, colsample_bytree=0.8, gamma=0.5,\n",
      "       importance_type='gain', learning_rate=0.1, max_delta_step=0,\n",
      "       max_depth=4, min_child_weight=1, missing=None, n_estimators=400,\n",
      "       n_jobs=1, nthread=None, objective='reg:squarederror',\n",
      "       random_state=0, reg_alpha=0, reg_lambda=1.3, scale_pos_weight=1.0,\n",
      "       seed=1, silent=None, subsample=0.8, verbosity=1)\n"
     ]
    }
   ],
   "source": [
    "best_cv_score = xgboost_grid.cv_results_ #thus no need train-test split, as cv will automatic run for us \n",
    "best_params = xgboost_grid.best_params_\n",
    "best_score = xgboost_grid.best_score_\n",
    "best_rf = xgboost_grid.best_estimator_\n",
    "best_R2_score = best_rf.score(train_rf_x,log_transform_y)\n",
    "best_score_list.append(best_score)\n",
    "best_params_list.append(best_rf)\n",
    "best_R2_list.append(best_R2_score)\n",
    "print(best_score)\n",
    "print(best_R2_score)\n",
    "print(best_rf)"
   ]
  },
  {
   "cell_type": "code",
   "execution_count": 92,
   "metadata": {},
   "outputs": [],
   "source": [
    "# To track the iteration records for parameters tuning\n",
    "best_score_list = []\n",
    "best_params_list = []\n",
    "best_R2_list = []"
   ]
  },
  {
   "cell_type": "code",
   "execution_count": 107,
   "metadata": {},
   "outputs": [
    {
     "name": "stdout",
     "output_type": "stream",
     "text": [
      "[-0.19604912470677804, -0.19604912470677804, -0.19474596459896074]\n",
      "[0.6953005035408982, 0.6953005035408982, 0.6857284749486563]\n",
      "[XGBRegressor(base_score=0.5, booster='gbtree', colsample_bylevel=1,\n",
      "       colsample_bynode=1, colsample_bytree=0.8, gamma=0.5,\n",
      "       importance_type='gain', learning_rate=0.1, max_delta_step=0,\n",
      "       max_depth=4, min_child_weight=1, missing=None, n_estimators=400,\n",
      "       n_jobs=1, nthread=None, objective='reg:squarederror',\n",
      "       random_state=0, reg_alpha=0, reg_lambda=1, scale_pos_weight=1.0,\n",
      "       seed=1, silent=None, subsample=0.8, verbosity=1), XGBRegressor(base_score=0.5, booster='gbtree', colsample_bylevel=1,\n",
      "       colsample_bynode=1, colsample_bytree=0.8, gamma=0.5,\n",
      "       importance_type='gain', learning_rate=0.1, max_delta_step=0,\n",
      "       max_depth=4, min_child_weight=1, missing=None, n_estimators=400,\n",
      "       n_jobs=1, nthread=None, objective='reg:squarederror',\n",
      "       random_state=0, reg_alpha=0, reg_lambda=1, scale_pos_weight=1.0,\n",
      "       seed=1, silent=None, subsample=0.8, verbosity=1), XGBRegressor(base_score=0.5, booster='gbtree', colsample_bylevel=1,\n",
      "       colsample_bynode=1, colsample_bytree=0.8, gamma=0.5,\n",
      "       importance_type='gain', learning_rate=0.1, max_delta_step=0,\n",
      "       max_depth=4, min_child_weight=1, missing=None, n_estimators=400,\n",
      "       n_jobs=1, nthread=None, objective='reg:squarederror',\n",
      "       random_state=0, reg_alpha=0, reg_lambda=1.3, scale_pos_weight=1.0,\n",
      "       seed=1, silent=None, subsample=0.8, verbosity=1)]\n"
     ]
    }
   ],
   "source": [
    "print(best_score_list)\n",
    "print(best_R2_list)\n",
    "print(best_params_list)"
   ]
  },
  {
   "cell_type": "code",
   "execution_count": 75,
   "metadata": {},
   "outputs": [],
   "source": [
    "# Another way to easy the tuning process\n",
    "# to tune parameter in smaller grid, conclusion decide by cv_score\n",
    "# cv_params = {'gamma': [i/10.0 for i in range(1,10,2)]}\n",
    "# To update hyperparameters tuning and fix the best choices be constant\n",
    "# hyperparameters2[\"max_depth\"] = grid.best_params_['max_depth']"
   ]
  },
  {
   "cell_type": "markdown",
   "metadata": {},
   "source": [
    "# Create XGBoost's DMatrix, after fine tuning the parameters"
   ]
  },
  {
   "cell_type": "code",
   "execution_count": 110,
   "metadata": {},
   "outputs": [],
   "source": [
    "trainDMat = xgb.DMatrix(data = train_rf_x, label = log_transform_y)"
   ]
  },
  {
   "cell_type": "code",
   "execution_count": 111,
   "metadata": {},
   "outputs": [],
   "source": [
    "# Lower the learning_rate and set a large num_boost_round hyperparameter to ensure convergence. \n",
    "# If convergence is slow, retry with a slightly higher learning rate (e.g. 0.075 instead of 0.05)"
   ]
  },
  {
   "cell_type": "code",
   "execution_count": 112,
   "metadata": {},
   "outputs": [],
   "source": [
    "num_boost_round = 3000\n",
    "early_stopping_rounds = 30\n",
    "# Activates early stopping. CV error needs to decrease at least every <early_stopping_rounds> round(s) to continue.\n",
    "# Last entry in evaluation history is the one from best iteration."
   ]
  },
  {
   "cell_type": "code",
   "execution_count": 114,
   "metadata": {},
   "outputs": [],
   "source": [
    "hyperparameters_boosting ={'learning_rate': 0.01,               # 6th when boosting\n",
    "                          'gamma': 0.5,                       # 3rd\n",
    "                          'max_depth': 4,                     # 1st to tune\n",
    "                          'min_child_weight': 1,              # 2nd\n",
    "                          'max_delta_step': 0,\n",
    "                          'subsample': 0.8,                   # 4th\n",
    "                          'colsample_bytree': 0.8,            # 4th \n",
    "                          'colsample_bylevel': 1,\n",
    "                          'colsample_bynode': 1,\n",
    "                          'reg_lambda': 1.3,                    # 5th\n",
    "                          'reg_alpha': 0,                     # 5th\n",
    "                          'scale_pos_weight': 1.0,            # only when dealing with imbalance classes\n",
    "                          'n_estimators': 400,                # 1st\n",
    "                          \"booster\": \"gbtree\",\n",
    "                          \"verbosity\": 1,\n",
    "                          \"objective\": \"reg:squarederror\",\n",
    "                          \"seed\": 1\n",
    "                         }                "
   ]
  },
  {
   "cell_type": "code",
   "execution_count": 115,
   "metadata": {
    "collapsed": true
   },
   "outputs": [
    {
     "name": "stdout",
     "output_type": "stream",
     "text": [
      "[0]\ttrain-rmse:14.5502+0.0164308\ttest-rmse:14.549+0.0846514\n",
      "[1]\ttrain-rmse:14.4069+0.0162559\ttest-rmse:14.4057+0.0848303\n",
      "[2]\ttrain-rmse:14.2651+0.0160954\ttest-rmse:14.2638+0.0849893\n",
      "[3]\ttrain-rmse:14.1248+0.0158143\ttest-rmse:14.1235+0.0852804\n",
      "[4]\ttrain-rmse:13.9855+0.0157197\ttest-rmse:13.9843+0.0853704\n",
      "[5]\ttrain-rmse:13.8478+0.0155352\ttest-rmse:13.8465+0.085551\n",
      "[6]\ttrain-rmse:13.7114+0.0153749\ttest-rmse:13.7101+0.0857158\n",
      "[7]\ttrain-rmse:13.5762+0.0153187\ttest-rmse:13.575+0.0857707\n",
      "[8]\ttrain-rmse:13.4423+0.0151216\ttest-rmse:13.441+0.0859665\n",
      "[9]\ttrain-rmse:13.3099+0.0150033\ttest-rmse:13.3087+0.0860895\n",
      "[10]\ttrain-rmse:13.1787+0.0148094\ttest-rmse:13.1775+0.0862895\n",
      "[11]\ttrain-rmse:13.0489+0.0145146\ttest-rmse:13.0476+0.0865845\n",
      "[12]\ttrain-rmse:12.9205+0.0144096\ttest-rmse:12.9192+0.086688\n",
      "[13]\ttrain-rmse:12.7934+0.0143017\ttest-rmse:12.7921+0.0867997\n",
      "[14]\ttrain-rmse:12.6673+0.014259\ttest-rmse:12.6661+0.0868411\n",
      "[15]\ttrain-rmse:12.5426+0.0141671\ttest-rmse:12.5413+0.0869365\n",
      "[16]\ttrain-rmse:12.419+0.0140725\ttest-rmse:12.4177+0.0870337\n",
      "[17]\ttrain-rmse:12.2967+0.0139941\ttest-rmse:12.2955+0.0871098\n",
      "[18]\ttrain-rmse:12.1757+0.01384\ttest-rmse:12.1744+0.0872794\n",
      "[19]\ttrain-rmse:12.0558+0.0138998\ttest-rmse:12.0545+0.0872162\n",
      "[20]\ttrain-rmse:11.9371+0.0137044\ttest-rmse:11.9358+0.0874069\n",
      "[21]\ttrain-rmse:11.8197+0.013419\ttest-rmse:11.8184+0.0876917\n",
      "[22]\ttrain-rmse:11.7034+0.0131364\ttest-rmse:11.7021+0.0879693\n",
      "[23]\ttrain-rmse:11.588+0.0130676\ttest-rmse:11.5867+0.0880364\n",
      "[24]\ttrain-rmse:11.474+0.0129055\ttest-rmse:11.4727+0.088199\n",
      "[25]\ttrain-rmse:11.3612+0.0127907\ttest-rmse:11.3599+0.0883158\n",
      "[26]\ttrain-rmse:11.2493+0.0126364\ttest-rmse:11.248+0.0884728\n",
      "[27]\ttrain-rmse:11.1387+0.0125916\ttest-rmse:11.1374+0.0885057\n",
      "[28]\ttrain-rmse:11.0291+0.0124113\ttest-rmse:11.0277+0.0886843\n",
      "[29]\ttrain-rmse:10.9205+0.012234\ttest-rmse:10.9192+0.0888805\n",
      "[30]\ttrain-rmse:10.813+0.0120946\ttest-rmse:10.8117+0.0890135\n",
      "[31]\ttrain-rmse:10.7066+0.0117995\ttest-rmse:10.7052+0.0893071\n",
      "[32]\ttrain-rmse:10.6011+0.0117218\ttest-rmse:10.5998+0.0893858\n",
      "[33]\ttrain-rmse:10.4967+0.0116542\ttest-rmse:10.4954+0.0894629\n",
      "[34]\ttrain-rmse:10.3935+0.0115755\ttest-rmse:10.3922+0.0895343\n",
      "[35]\ttrain-rmse:10.2914+0.0112428\ttest-rmse:10.2901+0.0898703\n",
      "[36]\ttrain-rmse:10.1903+0.0111959\ttest-rmse:10.1889+0.0899112\n",
      "[37]\ttrain-rmse:10.0901+0.0110772\ttest-rmse:10.0887+0.0900333\n",
      "[38]\ttrain-rmse:9.99064+0.0109293\ttest-rmse:9.9893+0.0901991\n",
      "[39]\ttrain-rmse:9.89234+0.0108793\ttest-rmse:9.89099+0.0902426\n",
      "[40]\ttrain-rmse:9.79512+0.0105786\ttest-rmse:9.79377+0.0905545\n",
      "[41]\ttrain-rmse:9.6987+0.0105548\ttest-rmse:9.69734+0.0905654\n",
      "[42]\ttrain-rmse:9.60334+0.010442\ttest-rmse:9.60198+0.0906756\n",
      "[43]\ttrain-rmse:9.50889+0.0103744\ttest-rmse:9.50752+0.0907329\n",
      "[44]\ttrain-rmse:9.41533+0.0103515\ttest-rmse:9.41396+0.0907546\n",
      "[45]\ttrain-rmse:9.32261+0.010254\ttest-rmse:9.32124+0.0908552\n",
      "[46]\ttrain-rmse:9.23096+0.010347\ttest-rmse:9.22959+0.0907635\n",
      "[47]\ttrain-rmse:9.14015+0.0101086\ttest-rmse:9.13877+0.0909932\n",
      "[48]\ttrain-rmse:9.0504+0.00982722\ttest-rmse:9.04902+0.0912637\n",
      "[49]\ttrain-rmse:8.96153+0.00971159\ttest-rmse:8.96015+0.0913817\n",
      "[50]\ttrain-rmse:8.87363+0.00965827\ttest-rmse:8.87225+0.0914272\n",
      "[51]\ttrain-rmse:8.78636+0.00960207\ttest-rmse:8.78497+0.0914885\n",
      "[52]\ttrain-rmse:8.70021+0.00947758\ttest-rmse:8.69881+0.0916228\n",
      "[53]\ttrain-rmse:8.61482+0.00932457\ttest-rmse:8.61342+0.0917795\n",
      "[54]\ttrain-rmse:8.53007+0.00902777\ttest-rmse:8.52867+0.0920735\n",
      "[55]\ttrain-rmse:8.44614+0.00896883\ttest-rmse:8.44473+0.092129\n",
      "[56]\ttrain-rmse:8.36288+0.00886199\ttest-rmse:8.36147+0.0922398\n",
      "[57]\ttrain-rmse:8.28051+0.00884729\ttest-rmse:8.2791+0.092261\n",
      "[58]\ttrain-rmse:8.19922+0.00883696\ttest-rmse:8.1978+0.0922699\n",
      "[59]\ttrain-rmse:8.11857+0.00868225\ttest-rmse:8.11715+0.0924296\n",
      "[60]\ttrain-rmse:8.0388+0.0085543\ttest-rmse:8.03737+0.0925441\n",
      "[61]\ttrain-rmse:7.95971+0.00830334\ttest-rmse:7.95828+0.0927959\n",
      "[62]\ttrain-rmse:7.88144+0.00821562\ttest-rmse:7.88001+0.0928816\n",
      "[63]\ttrain-rmse:7.80402+0.00822629\ttest-rmse:7.80258+0.0928676\n",
      "[64]\ttrain-rmse:7.72744+0.00803228\ttest-rmse:7.726+0.093056\n",
      "[65]\ttrain-rmse:7.65143+0.00779341\ttest-rmse:7.64998+0.0932966\n",
      "[66]\ttrain-rmse:7.57622+0.00751791\ttest-rmse:7.57477+0.0935784\n",
      "[67]\ttrain-rmse:7.50159+0.00748594\ttest-rmse:7.50014+0.0936081\n",
      "[68]\ttrain-rmse:7.42782+0.00737621\ttest-rmse:7.42636+0.0937236\n",
      "[69]\ttrain-rmse:7.35482+0.00719652\ttest-rmse:7.35335+0.0939093\n",
      "[70]\ttrain-rmse:7.28261+0.00706257\ttest-rmse:7.28114+0.0940475\n",
      "[71]\ttrain-rmse:7.21118+0.00709785\ttest-rmse:7.2097+0.0940312\n",
      "[72]\ttrain-rmse:7.14051+0.0070221\ttest-rmse:7.13904+0.0941197\n",
      "[73]\ttrain-rmse:7.07034+0.00713824\ttest-rmse:7.06886+0.0939857\n",
      "[74]\ttrain-rmse:7.0009+0.00716374\ttest-rmse:6.99941+0.0939622\n",
      "[75]\ttrain-rmse:6.93216+0.00701815\ttest-rmse:6.93067+0.0941042\n",
      "[76]\ttrain-rmse:6.86421+0.00677023\ttest-rmse:6.86271+0.0943556\n",
      "[77]\ttrain-rmse:6.79699+0.00658155\ttest-rmse:6.79548+0.0945347\n",
      "[78]\ttrain-rmse:6.73027+0.00643338\ttest-rmse:6.72876+0.0946791\n",
      "[79]\ttrain-rmse:6.66434+0.00645708\ttest-rmse:6.66283+0.0946499\n",
      "[80]\ttrain-rmse:6.59873+0.00620649\ttest-rmse:6.59721+0.0949002\n",
      "[81]\ttrain-rmse:6.534+0.0061593\ttest-rmse:6.53248+0.0949369\n",
      "[82]\ttrain-rmse:6.46982+0.00618678\ttest-rmse:6.46829+0.0949092\n",
      "[83]\ttrain-rmse:6.40623+0.00625398\ttest-rmse:6.40469+0.0948399\n",
      "[84]\ttrain-rmse:6.3434+0.00605327\ttest-rmse:6.34187+0.0950497\n",
      "[85]\ttrain-rmse:6.2811+0.00605873\ttest-rmse:6.27955+0.0950457\n",
      "[86]\ttrain-rmse:6.21963+0.00613864\ttest-rmse:6.21808+0.0949638\n",
      "[87]\ttrain-rmse:6.15854+0.00633878\ttest-rmse:6.15699+0.0947672\n",
      "[88]\ttrain-rmse:6.09811+0.00619487\ttest-rmse:6.09655+0.0949045\n",
      "[89]\ttrain-rmse:6.03847+0.00609946\ttest-rmse:6.0369+0.0950055\n",
      "[90]\ttrain-rmse:5.97924+0.00608113\ttest-rmse:5.97767+0.095011\n",
      "[91]\ttrain-rmse:5.92081+0.00603112\ttest-rmse:5.91923+0.0950559\n",
      "[92]\ttrain-rmse:5.86278+0.00589195\ttest-rmse:5.8612+0.0951871\n",
      "[93]\ttrain-rmse:5.80545+0.00580606\ttest-rmse:5.80386+0.0953032\n",
      "[94]\ttrain-rmse:5.74857+0.00582153\ttest-rmse:5.74698+0.0952742\n",
      "[95]\ttrain-rmse:5.69245+0.00595276\ttest-rmse:5.69086+0.0951545\n",
      "[96]\ttrain-rmse:5.63669+0.00591819\ttest-rmse:5.63509+0.0951748\n",
      "[97]\ttrain-rmse:5.58142+0.00576416\ttest-rmse:5.57981+0.0953166\n",
      "[98]\ttrain-rmse:5.5268+0.00569029\ttest-rmse:5.52518+0.0953855\n",
      "[99]\ttrain-rmse:5.47271+0.00576085\ttest-rmse:5.47109+0.0953284\n",
      "[100]\ttrain-rmse:5.41929+0.00568035\ttest-rmse:5.41766+0.095411\n",
      "[101]\ttrain-rmse:5.36624+0.00545518\ttest-rmse:5.36461+0.0956389\n",
      "[102]\ttrain-rmse:5.31376+0.00520255\ttest-rmse:5.31212+0.0958747\n",
      "[103]\ttrain-rmse:5.26176+0.00511079\ttest-rmse:5.26011+0.0960124\n",
      "[104]\ttrain-rmse:5.21021+0.00513438\ttest-rmse:5.20856+0.0959705\n",
      "[105]\ttrain-rmse:5.15927+0.00514707\ttest-rmse:5.15761+0.0959688\n",
      "[106]\ttrain-rmse:5.10882+0.00504079\ttest-rmse:5.10716+0.096071\n",
      "[107]\ttrain-rmse:5.05885+0.00498393\ttest-rmse:5.05718+0.0961303\n",
      "[108]\ttrain-rmse:5.0094+0.00488904\ttest-rmse:5.00773+0.0962036\n",
      "[109]\ttrain-rmse:4.96052+0.00472459\ttest-rmse:4.95884+0.0963482\n",
      "[110]\ttrain-rmse:4.91197+0.00477849\ttest-rmse:4.91028+0.0962797\n",
      "[111]\ttrain-rmse:4.86393+0.00476444\ttest-rmse:4.86223+0.0962958\n",
      "[112]\ttrain-rmse:4.81633+0.00467603\ttest-rmse:4.81463+0.0963779\n",
      "[113]\ttrain-rmse:4.76942+0.00478325\ttest-rmse:4.76771+0.0962931\n",
      "[114]\ttrain-rmse:4.72282+0.00462899\ttest-rmse:4.7211+0.0964631\n",
      "[115]\ttrain-rmse:4.67684+0.00447985\ttest-rmse:4.67511+0.0966115\n",
      "[116]\ttrain-rmse:4.63127+0.00448839\ttest-rmse:4.62954+0.0965837\n",
      "[117]\ttrain-rmse:4.586+0.00437239\ttest-rmse:4.58426+0.0967037\n",
      "[118]\ttrain-rmse:4.5412+0.00440448\ttest-rmse:4.53946+0.0966842\n",
      "[119]\ttrain-rmse:4.49701+0.00446242\ttest-rmse:4.49526+0.0966564\n",
      "[120]\ttrain-rmse:4.45321+0.00439503\ttest-rmse:4.45145+0.0967184\n",
      "[121]\ttrain-rmse:4.40974+0.00437085\ttest-rmse:4.40797+0.0967598\n",
      "[122]\ttrain-rmse:4.36679+0.0042757\ttest-rmse:4.36502+0.0968436\n",
      "[123]\ttrain-rmse:4.32425+0.00433571\ttest-rmse:4.32247+0.0967979\n",
      "[124]\ttrain-rmse:4.28209+0.00436199\ttest-rmse:4.2803+0.0967766\n",
      "[125]\ttrain-rmse:4.24031+0.00445942\ttest-rmse:4.23851+0.0966789\n",
      "[126]\ttrain-rmse:4.19893+0.00442822\ttest-rmse:4.19713+0.0966837\n",
      "[127]\ttrain-rmse:4.15808+0.00445123\ttest-rmse:4.15627+0.0966614\n",
      "[128]\ttrain-rmse:4.11765+0.00442174\ttest-rmse:4.11583+0.0966826\n",
      "[129]\ttrain-rmse:4.07784+0.00434887\ttest-rmse:4.07602+0.0967613\n",
      "[130]\ttrain-rmse:4.03831+0.004359\ttest-rmse:4.03648+0.0967181\n",
      "[131]\ttrain-rmse:3.99906+0.00418588\ttest-rmse:3.99722+0.0968948\n"
     ]
    },
    {
     "name": "stdout",
     "output_type": "stream",
     "text": [
      "[132]\ttrain-rmse:3.96019+0.00421845\ttest-rmse:3.95834+0.0968515\n",
      "[133]\ttrain-rmse:3.92176+0.00421257\ttest-rmse:3.9199+0.0968446\n",
      "[134]\ttrain-rmse:3.88371+0.00425624\ttest-rmse:3.88185+0.0968205\n",
      "[135]\ttrain-rmse:3.84598+0.00417994\ttest-rmse:3.8441+0.0969034\n",
      "[136]\ttrain-rmse:3.80872+0.00425476\ttest-rmse:3.80684+0.0968064\n",
      "[137]\ttrain-rmse:3.77194+0.00421101\ttest-rmse:3.77004+0.0968546\n",
      "[138]\ttrain-rmse:3.73532+0.00416453\ttest-rmse:3.73342+0.0969278\n",
      "[139]\ttrain-rmse:3.69899+0.00422137\ttest-rmse:3.69708+0.096897\n",
      "[140]\ttrain-rmse:3.66312+0.00431416\ttest-rmse:3.66121+0.0968464\n",
      "[141]\ttrain-rmse:3.62753+0.00432165\ttest-rmse:3.6256+0.0967782\n",
      "[142]\ttrain-rmse:3.59245+0.00425681\ttest-rmse:3.59051+0.0968531\n",
      "[143]\ttrain-rmse:3.55767+0.00429848\ttest-rmse:3.55573+0.0968232\n",
      "[144]\ttrain-rmse:3.5232+0.00419632\ttest-rmse:3.52125+0.0969106\n",
      "[145]\ttrain-rmse:3.48922+0.00418203\ttest-rmse:3.48726+0.0968887\n",
      "[146]\ttrain-rmse:3.45546+0.00416519\ttest-rmse:3.45349+0.0969197\n",
      "[147]\ttrain-rmse:3.42197+0.00421417\ttest-rmse:3.42+0.0969227\n",
      "[148]\ttrain-rmse:3.38898+0.00419168\ttest-rmse:3.387+0.0969537\n",
      "[149]\ttrain-rmse:3.35621+0.00424988\ttest-rmse:3.35422+0.0969329\n",
      "[150]\ttrain-rmse:3.32368+0.00424562\ttest-rmse:3.32167+0.0969742\n",
      "[151]\ttrain-rmse:3.29164+0.00415853\ttest-rmse:3.28963+0.0971392\n",
      "[152]\ttrain-rmse:3.25993+0.00414818\ttest-rmse:3.25791+0.0971852\n",
      "[153]\ttrain-rmse:3.22845+0.00417643\ttest-rmse:3.22642+0.097167\n",
      "[154]\ttrain-rmse:3.19736+0.00425567\ttest-rmse:3.19532+0.0971892\n",
      "[155]\ttrain-rmse:3.16651+0.00417723\ttest-rmse:3.16446+0.0971878\n",
      "[156]\ttrain-rmse:3.13605+0.0040864\ttest-rmse:3.13399+0.0973265\n",
      "[157]\ttrain-rmse:3.10584+0.00404162\ttest-rmse:3.10377+0.0974488\n",
      "[158]\ttrain-rmse:3.07609+0.00410057\ttest-rmse:3.07401+0.097518\n",
      "[159]\ttrain-rmse:3.04646+0.00398929\ttest-rmse:3.04437+0.0976087\n",
      "[160]\ttrain-rmse:3.01726+0.00407596\ttest-rmse:3.01516+0.0975768\n",
      "[161]\ttrain-rmse:2.98826+0.00407894\ttest-rmse:2.98615+0.0975192\n",
      "[162]\ttrain-rmse:2.95958+0.00399571\ttest-rmse:2.95746+0.0975994\n",
      "[163]\ttrain-rmse:2.93104+0.00403023\ttest-rmse:2.92891+0.0975825\n",
      "[164]\ttrain-rmse:2.90302+0.00407482\ttest-rmse:2.90089+0.0975035\n",
      "[165]\ttrain-rmse:2.87516+0.00413992\ttest-rmse:2.87301+0.0974408\n",
      "[166]\ttrain-rmse:2.84756+0.00411286\ttest-rmse:2.84539+0.0972986\n",
      "[167]\ttrain-rmse:2.82015+0.00409974\ttest-rmse:2.81797+0.097357\n",
      "[168]\ttrain-rmse:2.79324+0.00418435\ttest-rmse:2.79106+0.097295\n",
      "[169]\ttrain-rmse:2.7664+0.00414694\ttest-rmse:2.76421+0.0973889\n",
      "[170]\ttrain-rmse:2.74002+0.00415686\ttest-rmse:2.73781+0.0973448\n",
      "[171]\ttrain-rmse:2.71386+0.00440903\ttest-rmse:2.71165+0.0971472\n",
      "[172]\ttrain-rmse:2.68793+0.00436093\ttest-rmse:2.68571+0.0972745\n",
      "[173]\ttrain-rmse:2.66229+0.00442037\ttest-rmse:2.66005+0.0971749\n",
      "[174]\ttrain-rmse:2.63666+0.00445568\ttest-rmse:2.63442+0.0970763\n",
      "[175]\ttrain-rmse:2.61157+0.0044092\ttest-rmse:2.60931+0.0970827\n",
      "[176]\ttrain-rmse:2.58669+0.00436306\ttest-rmse:2.58442+0.0971062\n",
      "[177]\ttrain-rmse:2.56198+0.00429175\ttest-rmse:2.55982+0.0970936\n",
      "[178]\ttrain-rmse:2.53773+0.00414116\ttest-rmse:2.53556+0.0971769\n",
      "[179]\ttrain-rmse:2.5134+0.00397122\ttest-rmse:2.51135+0.0972307\n",
      "[180]\ttrain-rmse:2.48944+0.00397375\ttest-rmse:2.48738+0.0972261\n",
      "[181]\ttrain-rmse:2.46578+0.00394657\ttest-rmse:2.4637+0.097266\n",
      "[182]\ttrain-rmse:2.4423+0.00392438\ttest-rmse:2.44021+0.0972499\n",
      "[183]\ttrain-rmse:2.41914+0.00380949\ttest-rmse:2.41717+0.0973077\n",
      "[184]\ttrain-rmse:2.39615+0.0036785\ttest-rmse:2.39424+0.0973511\n",
      "[185]\ttrain-rmse:2.3734+0.0037244\ttest-rmse:2.37148+0.0972779\n",
      "[186]\ttrain-rmse:2.35098+0.00363007\ttest-rmse:2.34917+0.097296\n",
      "[187]\ttrain-rmse:2.32898+0.00361184\ttest-rmse:2.32725+0.0972106\n",
      "[188]\ttrain-rmse:2.30687+0.00358591\ttest-rmse:2.30512+0.0971767\n",
      "[189]\ttrain-rmse:2.28511+0.00358214\ttest-rmse:2.28331+0.0971011\n",
      "[190]\ttrain-rmse:2.26332+0.00364253\ttest-rmse:2.26157+0.0969745\n",
      "[191]\ttrain-rmse:2.24216+0.00352758\ttest-rmse:2.24032+0.0969946\n",
      "[192]\ttrain-rmse:2.22089+0.00365051\ttest-rmse:2.21916+0.0967994\n",
      "[193]\ttrain-rmse:2.19991+0.00360999\ttest-rmse:2.19798+0.0967567\n",
      "[194]\ttrain-rmse:2.17928+0.00354699\ttest-rmse:2.17727+0.0968431\n",
      "[195]\ttrain-rmse:2.15873+0.00359253\ttest-rmse:2.15671+0.0968477\n",
      "[196]\ttrain-rmse:2.13857+0.00377482\ttest-rmse:2.13655+0.096673\n",
      "[197]\ttrain-rmse:2.11847+0.00374943\ttest-rmse:2.11637+0.096751\n",
      "[198]\ttrain-rmse:2.09864+0.00375656\ttest-rmse:2.09694+0.0965984\n",
      "[199]\ttrain-rmse:2.07907+0.00374796\ttest-rmse:2.07741+0.0964915\n",
      "[200]\ttrain-rmse:2.05986+0.00372031\ttest-rmse:2.05819+0.0965907\n",
      "[201]\ttrain-rmse:2.04057+0.00375366\ttest-rmse:2.03885+0.0964495\n",
      "[202]\ttrain-rmse:2.02141+0.00378631\ttest-rmse:2.01977+0.096309\n",
      "[203]\ttrain-rmse:2.00255+0.00392331\ttest-rmse:2.00085+0.0963958\n",
      "[204]\ttrain-rmse:1.98384+0.00390069\ttest-rmse:1.98241+0.0962145\n",
      "[205]\ttrain-rmse:1.9652+0.00396988\ttest-rmse:1.96384+0.0961135\n",
      "[206]\ttrain-rmse:1.9471+0.0041159\ttest-rmse:1.9457+0.0959752\n",
      "[207]\ttrain-rmse:1.92878+0.00410896\ttest-rmse:1.92725+0.095888\n",
      "[208]\ttrain-rmse:1.91087+0.00412905\ttest-rmse:1.90933+0.0959774\n",
      "[209]\ttrain-rmse:1.89312+0.00419851\ttest-rmse:1.89168+0.0958555\n",
      "[210]\ttrain-rmse:1.87562+0.00426498\ttest-rmse:1.87415+0.0956694\n",
      "[211]\ttrain-rmse:1.85843+0.00421507\ttest-rmse:1.857+0.0956037\n",
      "[212]\ttrain-rmse:1.84141+0.00416218\ttest-rmse:1.8399+0.0954743\n",
      "[213]\ttrain-rmse:1.8243+0.00411757\ttest-rmse:1.82273+0.0953909\n",
      "[214]\ttrain-rmse:1.80749+0.00417179\ttest-rmse:1.806+0.0954564\n",
      "[215]\ttrain-rmse:1.79089+0.00409723\ttest-rmse:1.78931+0.0954581\n",
      "[216]\ttrain-rmse:1.7744+0.00410978\ttest-rmse:1.77267+0.0953919\n",
      "[217]\ttrain-rmse:1.75814+0.00407929\ttest-rmse:1.75657+0.0952329\n",
      "[218]\ttrain-rmse:1.74199+0.00397565\ttest-rmse:1.74053+0.0951788\n",
      "[219]\ttrain-rmse:1.72618+0.00409145\ttest-rmse:1.72486+0.0949523\n",
      "[220]\ttrain-rmse:1.71036+0.00413182\ttest-rmse:1.709+0.094812\n",
      "[221]\ttrain-rmse:1.69503+0.0040947\ttest-rmse:1.69359+0.0946971\n",
      "[222]\ttrain-rmse:1.67969+0.00418374\ttest-rmse:1.67815+0.0945576\n",
      "[223]\ttrain-rmse:1.66431+0.00417147\ttest-rmse:1.66277+0.0945828\n",
      "[224]\ttrain-rmse:1.64925+0.0040823\ttest-rmse:1.64757+0.0945881\n",
      "[225]\ttrain-rmse:1.63444+0.00417432\ttest-rmse:1.6329+0.0943758\n",
      "[226]\ttrain-rmse:1.61965+0.00429173\ttest-rmse:1.61801+0.094261\n",
      "[227]\ttrain-rmse:1.60501+0.00416424\ttest-rmse:1.60335+0.0943018\n",
      "[228]\ttrain-rmse:1.59047+0.00416913\ttest-rmse:1.58888+0.0942336\n",
      "[229]\ttrain-rmse:1.57615+0.00418292\ttest-rmse:1.57451+0.0940381\n",
      "[230]\ttrain-rmse:1.56196+0.00426936\ttest-rmse:1.56023+0.0938884\n",
      "[231]\ttrain-rmse:1.54797+0.00433793\ttest-rmse:1.54632+0.0937412\n",
      "[232]\ttrain-rmse:1.53423+0.00434801\ttest-rmse:1.5327+0.0936581\n",
      "[233]\ttrain-rmse:1.52043+0.00438245\ttest-rmse:1.51888+0.0935022\n",
      "[234]\ttrain-rmse:1.50679+0.00445888\ttest-rmse:1.5054+0.0932742\n",
      "[235]\ttrain-rmse:1.49326+0.00459015\ttest-rmse:1.49176+0.0931491\n",
      "[236]\ttrain-rmse:1.47996+0.00469379\ttest-rmse:1.47849+0.0929524\n",
      "[237]\ttrain-rmse:1.46699+0.00459621\ttest-rmse:1.46559+0.0927995\n",
      "[238]\ttrain-rmse:1.45411+0.00458136\ttest-rmse:1.45272+0.0929558\n",
      "[239]\ttrain-rmse:1.44127+0.00448524\ttest-rmse:1.43999+0.0929064\n",
      "[240]\ttrain-rmse:1.42845+0.00453252\ttest-rmse:1.42732+0.0928154\n",
      "[241]\ttrain-rmse:1.41587+0.00460177\ttest-rmse:1.41491+0.09251\n",
      "[242]\ttrain-rmse:1.4034+0.0045743\ttest-rmse:1.40245+0.0924547\n",
      "[243]\ttrain-rmse:1.39099+0.00469436\ttest-rmse:1.39009+0.0924125\n",
      "[244]\ttrain-rmse:1.3788+0.00482607\ttest-rmse:1.37803+0.0922398\n",
      "[245]\ttrain-rmse:1.36674+0.00473242\ttest-rmse:1.36602+0.0922574\n",
      "[246]\ttrain-rmse:1.3549+0.00487608\ttest-rmse:1.35415+0.0921673\n",
      "[247]\ttrain-rmse:1.34321+0.00489879\ttest-rmse:1.34256+0.092177\n",
      "[248]\ttrain-rmse:1.33143+0.00497972\ttest-rmse:1.33105+0.0922077\n",
      "[249]\ttrain-rmse:1.31977+0.004995\ttest-rmse:1.31951+0.0920686\n",
      "[250]\ttrain-rmse:1.30825+0.004838\ttest-rmse:1.30806+0.0924095\n",
      "[251]\ttrain-rmse:1.29688+0.00488088\ttest-rmse:1.29668+0.0920859\n",
      "[252]\ttrain-rmse:1.28573+0.00504898\ttest-rmse:1.2858+0.0919918\n",
      "[253]\ttrain-rmse:1.27455+0.00493291\ttest-rmse:1.27481+0.091955\n",
      "[254]\ttrain-rmse:1.2636+0.00495568\ttest-rmse:1.26399+0.0919952\n",
      "[255]\ttrain-rmse:1.25275+0.00503652\ttest-rmse:1.25309+0.091542\n",
      "[256]\ttrain-rmse:1.24197+0.00493758\ttest-rmse:1.24249+0.0916501\n",
      "[257]\ttrain-rmse:1.23146+0.00510311\ttest-rmse:1.23223+0.091516\n",
      "[258]\ttrain-rmse:1.221+0.00524083\ttest-rmse:1.22162+0.0913571\n",
      "[259]\ttrain-rmse:1.21052+0.00530822\ttest-rmse:1.21142+0.0911397\n",
      "[260]\ttrain-rmse:1.2002+0.00534757\ttest-rmse:1.20151+0.0909948\n",
      "[261]\ttrain-rmse:1.19+0.0053774\ttest-rmse:1.19143+0.090762\n"
     ]
    },
    {
     "name": "stdout",
     "output_type": "stream",
     "text": [
      "[262]\ttrain-rmse:1.17987+0.00525867\ttest-rmse:1.18157+0.090543\n",
      "[263]\ttrain-rmse:1.1699+0.0052364\ttest-rmse:1.17193+0.090414\n",
      "[264]\ttrain-rmse:1.15989+0.00523528\ttest-rmse:1.16239+0.0902319\n",
      "[265]\ttrain-rmse:1.15016+0.005161\ttest-rmse:1.1529+0.0902618\n",
      "[266]\ttrain-rmse:1.14053+0.00510796\ttest-rmse:1.14331+0.0901484\n",
      "[267]\ttrain-rmse:1.13068+0.0051907\ttest-rmse:1.13354+0.0899578\n",
      "[268]\ttrain-rmse:1.12125+0.00514753\ttest-rmse:1.12457+0.0899476\n",
      "[269]\ttrain-rmse:1.1119+0.00514355\ttest-rmse:1.11529+0.0899371\n",
      "[270]\ttrain-rmse:1.10258+0.00503601\ttest-rmse:1.10629+0.0900636\n",
      "[271]\ttrain-rmse:1.09344+0.00518273\ttest-rmse:1.09753+0.0898418\n",
      "[272]\ttrain-rmse:1.08455+0.00522808\ttest-rmse:1.08879+0.0896737\n",
      "[273]\ttrain-rmse:1.07571+0.00520712\ttest-rmse:1.08013+0.0896801\n",
      "[274]\ttrain-rmse:1.06682+0.00526066\ttest-rmse:1.07135+0.0897213\n",
      "[275]\ttrain-rmse:1.0582+0.00519551\ttest-rmse:1.06279+0.0894381\n",
      "[276]\ttrain-rmse:1.04946+0.00510887\ttest-rmse:1.0541+0.0894099\n",
      "[277]\ttrain-rmse:1.04091+0.00518806\ttest-rmse:1.04586+0.0893155\n",
      "[278]\ttrain-rmse:1.03244+0.00517306\ttest-rmse:1.03776+0.0893323\n",
      "[279]\ttrain-rmse:1.02392+0.00504789\ttest-rmse:1.02937+0.0892082\n",
      "[280]\ttrain-rmse:1.01552+0.00503195\ttest-rmse:1.0213+0.089242\n",
      "[281]\ttrain-rmse:1.00732+0.00510182\ttest-rmse:1.01321+0.0891569\n",
      "[282]\ttrain-rmse:0.999183+0.00523904\ttest-rmse:1.00518+0.088937\n",
      "[283]\ttrain-rmse:0.991061+0.00523015\ttest-rmse:0.997253+0.0889866\n",
      "[284]\ttrain-rmse:0.983072+0.00504931\ttest-rmse:0.989485+0.0890397\n",
      "[285]\ttrain-rmse:0.975208+0.00497771\ttest-rmse:0.981766+0.088901\n",
      "[286]\ttrain-rmse:0.967298+0.00500649\ttest-rmse:0.974217+0.0887528\n",
      "[287]\ttrain-rmse:0.959628+0.00508513\ttest-rmse:0.966886+0.0886437\n",
      "[288]\ttrain-rmse:0.952071+0.00512101\ttest-rmse:0.959409+0.088352\n",
      "[289]\ttrain-rmse:0.944552+0.00519589\ttest-rmse:0.952121+0.0883657\n",
      "[290]\ttrain-rmse:0.937168+0.00517011\ttest-rmse:0.944926+0.0880667\n",
      "[291]\ttrain-rmse:0.929832+0.00525649\ttest-rmse:0.937586+0.0878634\n",
      "[292]\ttrain-rmse:0.922528+0.00533756\ttest-rmse:0.930725+0.0876975\n",
      "[293]\ttrain-rmse:0.915218+0.00525765\ttest-rmse:0.923688+0.0877173\n",
      "[294]\ttrain-rmse:0.908088+0.00536625\ttest-rmse:0.916614+0.0875657\n",
      "[295]\ttrain-rmse:0.901047+0.00524209\ttest-rmse:0.909741+0.0876453\n",
      "[296]\ttrain-rmse:0.89401+0.00523899\ttest-rmse:0.902962+0.0874203\n",
      "[297]\ttrain-rmse:0.887069+0.00535346\ttest-rmse:0.896302+0.0870322\n",
      "[298]\ttrain-rmse:0.880288+0.00545319\ttest-rmse:0.890119+0.0872255\n",
      "[299]\ttrain-rmse:0.873604+0.00552477\ttest-rmse:0.883618+0.0871002\n",
      "[300]\ttrain-rmse:0.86693+0.00556798\ttest-rmse:0.877344+0.0869852\n",
      "[301]\ttrain-rmse:0.860218+0.00555083\ttest-rmse:0.871055+0.0870229\n",
      "[302]\ttrain-rmse:0.853781+0.00547166\ttest-rmse:0.864807+0.0870523\n",
      "[303]\ttrain-rmse:0.847383+0.00553693\ttest-rmse:0.858832+0.0871042\n",
      "[304]\ttrain-rmse:0.840901+0.00557355\ttest-rmse:0.852791+0.0869219\n",
      "[305]\ttrain-rmse:0.834495+0.00560124\ttest-rmse:0.84719+0.0870923\n",
      "[306]\ttrain-rmse:0.828124+0.00555011\ttest-rmse:0.841313+0.0866775\n",
      "[307]\ttrain-rmse:0.821849+0.00538476\ttest-rmse:0.835574+0.0866868\n",
      "[308]\ttrain-rmse:0.815599+0.0053813\ttest-rmse:0.829843+0.0865596\n",
      "[309]\ttrain-rmse:0.809506+0.0053217\ttest-rmse:0.824048+0.0865791\n",
      "[310]\ttrain-rmse:0.803608+0.00538228\ttest-rmse:0.81819+0.0864584\n",
      "[311]\ttrain-rmse:0.797632+0.00534648\ttest-rmse:0.812638+0.0863911\n",
      "[312]\ttrain-rmse:0.791871+0.00541871\ttest-rmse:0.807082+0.0863119\n",
      "[313]\ttrain-rmse:0.786053+0.00534585\ttest-rmse:0.80203+0.0862409\n",
      "[314]\ttrain-rmse:0.780414+0.00536859\ttest-rmse:0.796632+0.0860987\n",
      "[315]\ttrain-rmse:0.77481+0.00539685\ttest-rmse:0.79137+0.086095\n",
      "[316]\ttrain-rmse:0.769309+0.0053483\ttest-rmse:0.786184+0.0858715\n",
      "[317]\ttrain-rmse:0.763928+0.00532957\ttest-rmse:0.780941+0.0855997\n",
      "[318]\ttrain-rmse:0.758486+0.00530744\ttest-rmse:0.775731+0.0852061\n",
      "[319]\ttrain-rmse:0.753103+0.00527067\ttest-rmse:0.770919+0.0849278\n",
      "[320]\ttrain-rmse:0.747616+0.00526265\ttest-rmse:0.765891+0.0848194\n",
      "[321]\ttrain-rmse:0.742181+0.00529982\ttest-rmse:0.761025+0.084534\n",
      "[322]\ttrain-rmse:0.736924+0.00534144\ttest-rmse:0.756144+0.0846855\n",
      "[323]\ttrain-rmse:0.731729+0.00528533\ttest-rmse:0.751359+0.0846354\n",
      "[324]\ttrain-rmse:0.726533+0.00526881\ttest-rmse:0.746642+0.0844048\n",
      "[325]\ttrain-rmse:0.721494+0.00537109\ttest-rmse:0.741822+0.0842698\n",
      "[326]\ttrain-rmse:0.716526+0.00522455\ttest-rmse:0.737397+0.0841656\n",
      "[327]\ttrain-rmse:0.711724+0.00525605\ttest-rmse:0.732968+0.0840337\n",
      "[328]\ttrain-rmse:0.706819+0.00536688\ttest-rmse:0.728272+0.0836438\n",
      "[329]\ttrain-rmse:0.701946+0.00524921\ttest-rmse:0.723878+0.0834003\n",
      "[330]\ttrain-rmse:0.697178+0.00519621\ttest-rmse:0.719585+0.0830192\n",
      "[331]\ttrain-rmse:0.692313+0.0050195\ttest-rmse:0.714917+0.0830355\n",
      "[332]\ttrain-rmse:0.687758+0.00507272\ttest-rmse:0.710624+0.0830607\n",
      "[333]\ttrain-rmse:0.683206+0.00512814\ttest-rmse:0.70638+0.0828297\n",
      "[334]\ttrain-rmse:0.678627+0.00515284\ttest-rmse:0.702203+0.0827178\n",
      "[335]\ttrain-rmse:0.674136+0.00515455\ttest-rmse:0.698071+0.0825333\n",
      "[336]\ttrain-rmse:0.669682+0.0051922\ttest-rmse:0.694208+0.0823787\n",
      "[337]\ttrain-rmse:0.665206+0.00535162\ttest-rmse:0.690024+0.0822995\n",
      "[338]\ttrain-rmse:0.660899+0.00541118\ttest-rmse:0.686099+0.0816737\n",
      "[339]\ttrain-rmse:0.65656+0.00540874\ttest-rmse:0.682282+0.0818774\n",
      "[340]\ttrain-rmse:0.652277+0.00540122\ttest-rmse:0.678336+0.0818847\n",
      "[341]\ttrain-rmse:0.648022+0.00551008\ttest-rmse:0.674565+0.0815675\n",
      "[342]\ttrain-rmse:0.643972+0.00561118\ttest-rmse:0.670878+0.0813797\n",
      "[343]\ttrain-rmse:0.639811+0.00560228\ttest-rmse:0.667245+0.0815083\n",
      "[344]\ttrain-rmse:0.635732+0.00566096\ttest-rmse:0.663589+0.0814151\n",
      "[345]\ttrain-rmse:0.631726+0.00576728\ttest-rmse:0.659943+0.0811236\n",
      "[346]\ttrain-rmse:0.627718+0.00590592\ttest-rmse:0.656347+0.0809629\n",
      "[347]\ttrain-rmse:0.623933+0.00603026\ttest-rmse:0.65288+0.0803994\n",
      "[348]\ttrain-rmse:0.619896+0.00609986\ttest-rmse:0.649583+0.0800774\n",
      "[349]\ttrain-rmse:0.615953+0.00612282\ttest-rmse:0.646068+0.0798567\n",
      "[350]\ttrain-rmse:0.612083+0.00622956\ttest-rmse:0.64274+0.0796786\n",
      "[351]\ttrain-rmse:0.608472+0.00624338\ttest-rmse:0.639502+0.0796413\n",
      "[352]\ttrain-rmse:0.604782+0.00643392\ttest-rmse:0.636293+0.079499\n",
      "[353]\ttrain-rmse:0.601013+0.00637265\ttest-rmse:0.632988+0.0793125\n",
      "[354]\ttrain-rmse:0.597263+0.00636687\ttest-rmse:0.629592+0.0791858\n",
      "[355]\ttrain-rmse:0.593642+0.00646376\ttest-rmse:0.626717+0.079075\n",
      "[356]\ttrain-rmse:0.590022+0.00648257\ttest-rmse:0.62348+0.0788719\n",
      "[357]\ttrain-rmse:0.586514+0.00662779\ttest-rmse:0.620656+0.0786415\n",
      "[358]\ttrain-rmse:0.583119+0.00655755\ttest-rmse:0.61792+0.0784847\n",
      "[359]\ttrain-rmse:0.579639+0.00671207\ttest-rmse:0.614962+0.0783878\n",
      "[360]\ttrain-rmse:0.576317+0.00678602\ttest-rmse:0.61224+0.0781696\n",
      "[361]\ttrain-rmse:0.573024+0.00675123\ttest-rmse:0.609236+0.0780858\n",
      "[362]\ttrain-rmse:0.569604+0.00670482\ttest-rmse:0.606471+0.0778762\n",
      "[363]\ttrain-rmse:0.566253+0.00665047\ttest-rmse:0.603667+0.0776873\n",
      "[364]\ttrain-rmse:0.5631+0.00674725\ttest-rmse:0.600762+0.0774906\n",
      "[365]\ttrain-rmse:0.559963+0.00672853\ttest-rmse:0.598057+0.077357\n",
      "[366]\ttrain-rmse:0.5569+0.0067408\ttest-rmse:0.595552+0.0770955\n",
      "[367]\ttrain-rmse:0.55379+0.00690656\ttest-rmse:0.592973+0.0768253\n",
      "[368]\ttrain-rmse:0.550815+0.0068948\ttest-rmse:0.590614+0.0767461\n",
      "[369]\ttrain-rmse:0.547744+0.00690105\ttest-rmse:0.587885+0.0764974\n",
      "[370]\ttrain-rmse:0.544906+0.00703656\ttest-rmse:0.585776+0.0764441\n",
      "[371]\ttrain-rmse:0.541844+0.00703722\ttest-rmse:0.583333+0.0760691\n",
      "[372]\ttrain-rmse:0.538993+0.00701213\ttest-rmse:0.58096+0.0760549\n",
      "[373]\ttrain-rmse:0.536155+0.00713772\ttest-rmse:0.57871+0.0759643\n",
      "[374]\ttrain-rmse:0.533302+0.00712145\ttest-rmse:0.576199+0.0757054\n",
      "[375]\ttrain-rmse:0.530632+0.00713731\ttest-rmse:0.573903+0.0756363\n",
      "[376]\ttrain-rmse:0.527833+0.00714903\ttest-rmse:0.571618+0.0752106\n",
      "[377]\ttrain-rmse:0.525093+0.00729759\ttest-rmse:0.569279+0.0747398\n",
      "[378]\ttrain-rmse:0.522367+0.00734295\ttest-rmse:0.566992+0.0744478\n",
      "[379]\ttrain-rmse:0.51966+0.00741417\ttest-rmse:0.56462+0.0742238\n",
      "[380]\ttrain-rmse:0.516934+0.00740568\ttest-rmse:0.56247+0.0740342\n",
      "[381]\ttrain-rmse:0.514348+0.00729646\ttest-rmse:0.560406+0.0738772\n",
      "[382]\ttrain-rmse:0.511755+0.00739102\ttest-rmse:0.558326+0.0736283\n",
      "[383]\ttrain-rmse:0.50917+0.00733572\ttest-rmse:0.55651+0.0738065\n",
      "[384]\ttrain-rmse:0.506409+0.00714384\ttest-rmse:0.554441+0.0736327\n",
      "[385]\ttrain-rmse:0.503909+0.00711728\ttest-rmse:0.552377+0.0737368\n",
      "[386]\ttrain-rmse:0.501377+0.00708185\ttest-rmse:0.550263+0.0733526\n",
      "[387]\ttrain-rmse:0.498849+0.00718838\ttest-rmse:0.548311+0.072919\n"
     ]
    },
    {
     "name": "stdout",
     "output_type": "stream",
     "text": [
      "[388]\ttrain-rmse:0.496388+0.00720864\ttest-rmse:0.546446+0.0727635\n",
      "[389]\ttrain-rmse:0.494065+0.00731201\ttest-rmse:0.544667+0.0726925\n",
      "[390]\ttrain-rmse:0.49185+0.00743806\ttest-rmse:0.54291+0.0725639\n",
      "[391]\ttrain-rmse:0.489508+0.00748442\ttest-rmse:0.540981+0.0724125\n",
      "[392]\ttrain-rmse:0.487345+0.00757152\ttest-rmse:0.539329+0.0723194\n",
      "[393]\ttrain-rmse:0.48501+0.00753627\ttest-rmse:0.53753+0.072324\n",
      "[394]\ttrain-rmse:0.482698+0.00758318\ttest-rmse:0.535858+0.0721614\n",
      "[395]\ttrain-rmse:0.480474+0.00764786\ttest-rmse:0.534264+0.0720013\n",
      "[396]\ttrain-rmse:0.478337+0.00787004\ttest-rmse:0.532668+0.0717417\n",
      "[397]\ttrain-rmse:0.476191+0.00783599\ttest-rmse:0.530996+0.0716678\n",
      "[398]\ttrain-rmse:0.473907+0.00780631\ttest-rmse:0.529268+0.0716401\n",
      "[399]\ttrain-rmse:0.471782+0.00779608\ttest-rmse:0.527665+0.0713562\n",
      "[400]\ttrain-rmse:0.469632+0.00794024\ttest-rmse:0.52604+0.0710262\n",
      "[401]\ttrain-rmse:0.467625+0.0079632\ttest-rmse:0.524667+0.0709558\n",
      "[402]\ttrain-rmse:0.465346+0.00794465\ttest-rmse:0.523197+0.0709604\n",
      "[403]\ttrain-rmse:0.46333+0.008148\ttest-rmse:0.521762+0.0706974\n",
      "[404]\ttrain-rmse:0.461092+0.00809077\ttest-rmse:0.520105+0.0703195\n",
      "[405]\ttrain-rmse:0.45899+0.00813265\ttest-rmse:0.51867+0.0700365\n",
      "[406]\ttrain-rmse:0.457089+0.00808145\ttest-rmse:0.51739+0.0699125\n",
      "[407]\ttrain-rmse:0.455277+0.00828651\ttest-rmse:0.515957+0.0697884\n",
      "[408]\ttrain-rmse:0.453452+0.00814994\ttest-rmse:0.514702+0.0698268\n",
      "[409]\ttrain-rmse:0.451555+0.00803991\ttest-rmse:0.513459+0.0697871\n",
      "[410]\ttrain-rmse:0.449776+0.00811018\ttest-rmse:0.512194+0.0697833\n",
      "[411]\ttrain-rmse:0.448082+0.00826224\ttest-rmse:0.510655+0.0696249\n",
      "[412]\ttrain-rmse:0.446305+0.008137\ttest-rmse:0.509451+0.0693813\n",
      "[413]\ttrain-rmse:0.444577+0.00808164\ttest-rmse:0.508242+0.0694931\n",
      "[414]\ttrain-rmse:0.442825+0.00817143\ttest-rmse:0.507017+0.0693612\n",
      "[415]\ttrain-rmse:0.44123+0.00817969\ttest-rmse:0.505895+0.0693387\n",
      "[416]\ttrain-rmse:0.43954+0.00835511\ttest-rmse:0.504769+0.0693961\n",
      "[417]\ttrain-rmse:0.437665+0.00834409\ttest-rmse:0.503651+0.0691508\n",
      "[418]\ttrain-rmse:0.435992+0.008443\ttest-rmse:0.502462+0.0688037\n",
      "[419]\ttrain-rmse:0.434227+0.00829224\ttest-rmse:0.501214+0.0689843\n",
      "[420]\ttrain-rmse:0.432518+0.00828064\ttest-rmse:0.500141+0.0688296\n",
      "[421]\ttrain-rmse:0.430745+0.00807868\ttest-rmse:0.499031+0.0689615\n",
      "[422]\ttrain-rmse:0.429273+0.00802168\ttest-rmse:0.498023+0.0689442\n",
      "[423]\ttrain-rmse:0.42778+0.0082341\ttest-rmse:0.49695+0.0686874\n",
      "[424]\ttrain-rmse:0.426213+0.00835865\ttest-rmse:0.495913+0.0686402\n",
      "[425]\ttrain-rmse:0.424556+0.0083576\ttest-rmse:0.494981+0.0686409\n",
      "[426]\ttrain-rmse:0.423026+0.00826535\ttest-rmse:0.494053+0.0685775\n",
      "[427]\ttrain-rmse:0.421706+0.00831569\ttest-rmse:0.493138+0.0684195\n",
      "[428]\ttrain-rmse:0.420176+0.00813626\ttest-rmse:0.492115+0.0685202\n",
      "[429]\ttrain-rmse:0.418876+0.00820362\ttest-rmse:0.491297+0.0685568\n",
      "[430]\ttrain-rmse:0.417479+0.00822828\ttest-rmse:0.490386+0.0684024\n",
      "[431]\ttrain-rmse:0.416045+0.00809504\ttest-rmse:0.48947+0.0684208\n",
      "[432]\ttrain-rmse:0.414713+0.00812946\ttest-rmse:0.488469+0.068508\n",
      "[433]\ttrain-rmse:0.413258+0.00799785\ttest-rmse:0.487547+0.0683329\n",
      "[434]\ttrain-rmse:0.411957+0.00803705\ttest-rmse:0.486563+0.0683543\n",
      "[435]\ttrain-rmse:0.41056+0.00809448\ttest-rmse:0.485692+0.0684405\n",
      "[436]\ttrain-rmse:0.409068+0.00802848\ttest-rmse:0.484738+0.0683373\n",
      "[437]\ttrain-rmse:0.407713+0.00816326\ttest-rmse:0.483795+0.0683421\n",
      "[438]\ttrain-rmse:0.406447+0.0080841\ttest-rmse:0.48308+0.0683494\n",
      "[439]\ttrain-rmse:0.405094+0.00810289\ttest-rmse:0.482257+0.0683198\n",
      "[440]\ttrain-rmse:0.403863+0.0082389\ttest-rmse:0.481693+0.0682333\n",
      "[441]\ttrain-rmse:0.402691+0.00825569\ttest-rmse:0.480828+0.068373\n",
      "[442]\ttrain-rmse:0.401445+0.0083746\ttest-rmse:0.480027+0.0684753\n",
      "[443]\ttrain-rmse:0.400173+0.00823664\ttest-rmse:0.479428+0.0684515\n",
      "[444]\ttrain-rmse:0.398787+0.00831108\ttest-rmse:0.478662+0.0686065\n",
      "[445]\ttrain-rmse:0.397634+0.0081639\ttest-rmse:0.477756+0.0688608\n",
      "[446]\ttrain-rmse:0.3965+0.00839081\ttest-rmse:0.477176+0.068866\n",
      "[447]\ttrain-rmse:0.395197+0.00852166\ttest-rmse:0.476572+0.0687927\n",
      "[448]\ttrain-rmse:0.394085+0.00846402\ttest-rmse:0.47601+0.0688911\n",
      "[449]\ttrain-rmse:0.393073+0.008476\ttest-rmse:0.475356+0.0688288\n",
      "[450]\ttrain-rmse:0.391846+0.00845526\ttest-rmse:0.474667+0.0686989\n",
      "[451]\ttrain-rmse:0.390744+0.00839181\ttest-rmse:0.474067+0.0687443\n",
      "[452]\ttrain-rmse:0.389703+0.00858627\ttest-rmse:0.473399+0.0686771\n",
      "[453]\ttrain-rmse:0.388654+0.0085021\ttest-rmse:0.472785+0.0685768\n",
      "[454]\ttrain-rmse:0.387643+0.00856114\ttest-rmse:0.472242+0.068592\n",
      "[455]\ttrain-rmse:0.386452+0.00862455\ttest-rmse:0.471762+0.0687429\n",
      "[456]\ttrain-rmse:0.385401+0.00867331\ttest-rmse:0.471027+0.0687234\n",
      "[457]\ttrain-rmse:0.384425+0.0085933\ttest-rmse:0.470474+0.0686808\n",
      "[458]\ttrain-rmse:0.383537+0.00865427\ttest-rmse:0.46988+0.0685956\n",
      "[459]\ttrain-rmse:0.38239+0.00889169\ttest-rmse:0.46948+0.0687453\n",
      "[460]\ttrain-rmse:0.381407+0.00885148\ttest-rmse:0.468973+0.0688042\n",
      "[461]\ttrain-rmse:0.380521+0.00883775\ttest-rmse:0.468387+0.0688129\n",
      "[462]\ttrain-rmse:0.379604+0.00879524\ttest-rmse:0.467685+0.0689999\n",
      "[463]\ttrain-rmse:0.378559+0.00879426\ttest-rmse:0.467283+0.0690477\n",
      "[464]\ttrain-rmse:0.377595+0.00869339\ttest-rmse:0.466643+0.0692564\n",
      "[465]\ttrain-rmse:0.376515+0.00868832\ttest-rmse:0.466201+0.0694217\n",
      "[466]\ttrain-rmse:0.375486+0.00861178\ttest-rmse:0.465592+0.0695602\n",
      "[467]\ttrain-rmse:0.37449+0.00863114\ttest-rmse:0.46517+0.0694381\n",
      "[468]\ttrain-rmse:0.373742+0.0087465\ttest-rmse:0.464708+0.0695153\n",
      "[469]\ttrain-rmse:0.372759+0.00871712\ttest-rmse:0.464265+0.0695336\n",
      "[470]\ttrain-rmse:0.371938+0.00868993\ttest-rmse:0.463772+0.0696128\n",
      "[471]\ttrain-rmse:0.371068+0.00868519\ttest-rmse:0.463411+0.0696718\n",
      "[472]\ttrain-rmse:0.370399+0.0085603\ttest-rmse:0.462875+0.0698184\n",
      "[473]\ttrain-rmse:0.369628+0.00851913\ttest-rmse:0.462432+0.0699455\n",
      "[474]\ttrain-rmse:0.369043+0.00858171\ttest-rmse:0.462019+0.0698952\n",
      "[475]\ttrain-rmse:0.368127+0.0086293\ttest-rmse:0.461641+0.069888\n",
      "[476]\ttrain-rmse:0.367274+0.00868824\ttest-rmse:0.461324+0.0699064\n",
      "[477]\ttrain-rmse:0.366569+0.00872337\ttest-rmse:0.460927+0.069815\n",
      "[478]\ttrain-rmse:0.365871+0.00880896\ttest-rmse:0.460494+0.069955\n",
      "[479]\ttrain-rmse:0.365099+0.00891573\ttest-rmse:0.460212+0.0699863\n",
      "[480]\ttrain-rmse:0.364318+0.00887862\ttest-rmse:0.459763+0.0700315\n",
      "[481]\ttrain-rmse:0.363552+0.00888541\ttest-rmse:0.45926+0.0700382\n",
      "[482]\ttrain-rmse:0.362789+0.00894216\ttest-rmse:0.458822+0.0702739\n",
      "[483]\ttrain-rmse:0.362167+0.00896402\ttest-rmse:0.45839+0.0703414\n",
      "[484]\ttrain-rmse:0.361289+0.00899285\ttest-rmse:0.458043+0.0703262\n",
      "[485]\ttrain-rmse:0.36062+0.00892984\ttest-rmse:0.457759+0.0702336\n",
      "[486]\ttrain-rmse:0.359897+0.00896204\ttest-rmse:0.457474+0.0703278\n",
      "[487]\ttrain-rmse:0.359125+0.00894326\ttest-rmse:0.457129+0.0705366\n",
      "[488]\ttrain-rmse:0.358362+0.0090043\ttest-rmse:0.456806+0.0708022\n",
      "[489]\ttrain-rmse:0.357795+0.00913605\ttest-rmse:0.456494+0.0708187\n",
      "[490]\ttrain-rmse:0.3571+0.00910205\ttest-rmse:0.456322+0.0708746\n",
      "[491]\ttrain-rmse:0.356386+0.00913926\ttest-rmse:0.455725+0.0708473\n",
      "[492]\ttrain-rmse:0.355695+0.00925618\ttest-rmse:0.455299+0.0708624\n",
      "[493]\ttrain-rmse:0.355167+0.0090478\ttest-rmse:0.454853+0.0710392\n",
      "[494]\ttrain-rmse:0.354591+0.0090711\ttest-rmse:0.454554+0.0712778\n",
      "[495]\ttrain-rmse:0.354056+0.0089044\ttest-rmse:0.454136+0.0714333\n",
      "[496]\ttrain-rmse:0.353429+0.00912564\ttest-rmse:0.453926+0.0714785\n",
      "[497]\ttrain-rmse:0.352712+0.0093947\ttest-rmse:0.4537+0.0714828\n",
      "[498]\ttrain-rmse:0.352241+0.00950174\ttest-rmse:0.45339+0.071471\n",
      "[499]\ttrain-rmse:0.351528+0.00936631\ttest-rmse:0.453125+0.0716602\n",
      "[500]\ttrain-rmse:0.351095+0.00929045\ttest-rmse:0.452899+0.0718357\n",
      "[501]\ttrain-rmse:0.350496+0.00921518\ttest-rmse:0.452592+0.0718418\n",
      "[502]\ttrain-rmse:0.350103+0.00922094\ttest-rmse:0.452361+0.0718981\n",
      "[503]\ttrain-rmse:0.349605+0.00921005\ttest-rmse:0.452179+0.0718344\n",
      "[504]\ttrain-rmse:0.349166+0.00910186\ttest-rmse:0.451833+0.0719585\n",
      "[505]\ttrain-rmse:0.34874+0.0090667\ttest-rmse:0.451605+0.0720072\n",
      "[506]\ttrain-rmse:0.34809+0.00908075\ttest-rmse:0.451401+0.0720614\n",
      "[507]\ttrain-rmse:0.347433+0.00894123\ttest-rmse:0.450989+0.0721239\n",
      "[508]\ttrain-rmse:0.34702+0.00905804\ttest-rmse:0.450853+0.0722219\n",
      "[509]\ttrain-rmse:0.34654+0.00903526\ttest-rmse:0.450671+0.0722838\n",
      "[510]\ttrain-rmse:0.346091+0.00899435\ttest-rmse:0.450317+0.072364\n",
      "[511]\ttrain-rmse:0.345481+0.00892258\ttest-rmse:0.450116+0.0724687\n",
      "[512]\ttrain-rmse:0.344785+0.00887337\ttest-rmse:0.449819+0.0724272\n",
      "[513]\ttrain-rmse:0.344458+0.00890467\ttest-rmse:0.44966+0.0725101\n"
     ]
    },
    {
     "name": "stdout",
     "output_type": "stream",
     "text": [
      "[514]\ttrain-rmse:0.344006+0.00902989\ttest-rmse:0.449468+0.0725348\n",
      "[515]\ttrain-rmse:0.343704+0.00907422\ttest-rmse:0.449308+0.0726176\n",
      "[516]\ttrain-rmse:0.343379+0.00902117\ttest-rmse:0.449146+0.072629\n",
      "[517]\ttrain-rmse:0.342866+0.00910663\ttest-rmse:0.448992+0.0726491\n",
      "[518]\ttrain-rmse:0.342376+0.00907693\ttest-rmse:0.448776+0.0727538\n",
      "[519]\ttrain-rmse:0.342058+0.00902941\ttest-rmse:0.448623+0.0727468\n",
      "[520]\ttrain-rmse:0.341721+0.00913148\ttest-rmse:0.448434+0.0727417\n",
      "[521]\ttrain-rmse:0.341414+0.00917631\ttest-rmse:0.448285+0.0727894\n",
      "[522]\ttrain-rmse:0.34095+0.00908127\ttest-rmse:0.448+0.072843\n",
      "[523]\ttrain-rmse:0.340469+0.00916779\ttest-rmse:0.447861+0.0728749\n",
      "[524]\ttrain-rmse:0.340133+0.0091355\ttest-rmse:0.447658+0.072936\n",
      "[525]\ttrain-rmse:0.339755+0.00924604\ttest-rmse:0.447659+0.0730565\n",
      "[526]\ttrain-rmse:0.339423+0.00927939\ttest-rmse:0.44749+0.0730889\n",
      "[527]\ttrain-rmse:0.338907+0.00939867\ttest-rmse:0.447191+0.0730391\n",
      "[528]\ttrain-rmse:0.338455+0.00941381\ttest-rmse:0.447092+0.0731207\n",
      "[529]\ttrain-rmse:0.337992+0.00939927\ttest-rmse:0.44686+0.0732607\n",
      "[530]\ttrain-rmse:0.337633+0.00938276\ttest-rmse:0.446741+0.0733508\n",
      "[531]\ttrain-rmse:0.33729+0.00935081\ttest-rmse:0.446554+0.0733942\n",
      "[532]\ttrain-rmse:0.336955+0.00934195\ttest-rmse:0.446266+0.0735556\n",
      "[533]\ttrain-rmse:0.336667+0.00942719\ttest-rmse:0.446067+0.073493\n",
      "[534]\ttrain-rmse:0.33628+0.00959788\ttest-rmse:0.445953+0.0735642\n",
      "[535]\ttrain-rmse:0.335709+0.00932209\ttest-rmse:0.445555+0.0737963\n",
      "[536]\ttrain-rmse:0.33541+0.00926863\ttest-rmse:0.445367+0.0738822\n",
      "[537]\ttrain-rmse:0.335102+0.00938611\ttest-rmse:0.445251+0.0738757\n",
      "[538]\ttrain-rmse:0.334715+0.00926242\ttest-rmse:0.444975+0.074001\n",
      "[539]\ttrain-rmse:0.334456+0.00930032\ttest-rmse:0.444876+0.0741025\n",
      "[540]\ttrain-rmse:0.334229+0.00934247\ttest-rmse:0.444744+0.0741241\n",
      "[541]\ttrain-rmse:0.333905+0.00924677\ttest-rmse:0.444549+0.0743175\n",
      "[542]\ttrain-rmse:0.333587+0.00922074\ttest-rmse:0.44432+0.0744342\n",
      "[543]\ttrain-rmse:0.333288+0.00917644\ttest-rmse:0.444249+0.0744747\n",
      "[544]\ttrain-rmse:0.332956+0.00913259\ttest-rmse:0.444132+0.0746391\n",
      "[545]\ttrain-rmse:0.332733+0.00918879\ttest-rmse:0.443965+0.0746217\n",
      "[546]\ttrain-rmse:0.332478+0.00919375\ttest-rmse:0.443753+0.0745776\n",
      "[547]\ttrain-rmse:0.332351+0.00919624\ttest-rmse:0.443674+0.0746061\n",
      "[548]\ttrain-rmse:0.332107+0.00905514\ttest-rmse:0.443456+0.0747575\n",
      "[549]\ttrain-rmse:0.331944+0.00905133\ttest-rmse:0.443362+0.0747988\n",
      "[550]\ttrain-rmse:0.331605+0.00902685\ttest-rmse:0.443298+0.074837\n",
      "[551]\ttrain-rmse:0.331398+0.00908282\ttest-rmse:0.443221+0.0748696\n",
      "[552]\ttrain-rmse:0.330982+0.00892849\ttest-rmse:0.443089+0.0749284\n",
      "[553]\ttrain-rmse:0.330702+0.00904429\ttest-rmse:0.443067+0.0750025\n",
      "[554]\ttrain-rmse:0.33042+0.00901844\ttest-rmse:0.442904+0.0750686\n",
      "[555]\ttrain-rmse:0.330129+0.00901054\ttest-rmse:0.442792+0.0750264\n",
      "[556]\ttrain-rmse:0.329845+0.00883315\ttest-rmse:0.442632+0.0751187\n",
      "[557]\ttrain-rmse:0.329521+0.00875719\ttest-rmse:0.442566+0.0752954\n",
      "[558]\ttrain-rmse:0.329299+0.00864887\ttest-rmse:0.442443+0.0753276\n",
      "[559]\ttrain-rmse:0.32901+0.00872908\ttest-rmse:0.442247+0.0752995\n",
      "[560]\ttrain-rmse:0.328819+0.00878345\ttest-rmse:0.442228+0.0753982\n",
      "[561]\ttrain-rmse:0.328529+0.00894437\ttest-rmse:0.442102+0.0753753\n",
      "[562]\ttrain-rmse:0.328278+0.00906393\ttest-rmse:0.442174+0.0755243\n",
      "[563]\ttrain-rmse:0.328006+0.00920368\ttest-rmse:0.442063+0.075538\n",
      "[564]\ttrain-rmse:0.327688+0.00919001\ttest-rmse:0.441927+0.0755686\n",
      "[565]\ttrain-rmse:0.327421+0.00929087\ttest-rmse:0.441796+0.0755649\n",
      "[566]\ttrain-rmse:0.327181+0.00925673\ttest-rmse:0.441693+0.0755992\n",
      "[567]\ttrain-rmse:0.32695+0.00916952\ttest-rmse:0.441649+0.0756609\n",
      "[568]\ttrain-rmse:0.326722+0.00913686\ttest-rmse:0.441602+0.0756841\n",
      "[569]\ttrain-rmse:0.326279+0.00914831\ttest-rmse:0.441504+0.075954\n",
      "[570]\ttrain-rmse:0.326082+0.00925183\ttest-rmse:0.441434+0.0759264\n",
      "[571]\ttrain-rmse:0.325682+0.00925586\ttest-rmse:0.44135+0.0759196\n",
      "[572]\ttrain-rmse:0.325549+0.00929328\ttest-rmse:0.441283+0.0759383\n",
      "[573]\ttrain-rmse:0.325219+0.00922845\ttest-rmse:0.4412+0.0761366\n",
      "[574]\ttrain-rmse:0.325049+0.00924662\ttest-rmse:0.441118+0.0761679\n",
      "[575]\ttrain-rmse:0.324847+0.00929546\ttest-rmse:0.441057+0.0762036\n",
      "[576]\ttrain-rmse:0.324553+0.00936824\ttest-rmse:0.440899+0.0762453\n",
      "[577]\ttrain-rmse:0.324381+0.0094018\ttest-rmse:0.44086+0.0762701\n",
      "[578]\ttrain-rmse:0.324157+0.00935077\ttest-rmse:0.440797+0.0762638\n",
      "[579]\ttrain-rmse:0.323913+0.0094843\ttest-rmse:0.440742+0.0762967\n",
      "[580]\ttrain-rmse:0.323663+0.00934415\ttest-rmse:0.440689+0.0763204\n",
      "[581]\ttrain-rmse:0.323405+0.009377\ttest-rmse:0.440638+0.0764225\n",
      "[582]\ttrain-rmse:0.323173+0.00947834\ttest-rmse:0.440615+0.0764905\n",
      "[583]\ttrain-rmse:0.322972+0.00937223\ttest-rmse:0.440535+0.0764838\n",
      "[584]\ttrain-rmse:0.322761+0.00945653\ttest-rmse:0.440487+0.0765151\n",
      "[585]\ttrain-rmse:0.322595+0.00947172\ttest-rmse:0.440479+0.0765977\n",
      "[586]\ttrain-rmse:0.322445+0.00943839\ttest-rmse:0.440437+0.0766457\n",
      "[587]\ttrain-rmse:0.32234+0.00946097\ttest-rmse:0.440424+0.076676\n",
      "[588]\ttrain-rmse:0.322186+0.0095287\ttest-rmse:0.440392+0.0767308\n",
      "[589]\ttrain-rmse:0.321831+0.0093911\ttest-rmse:0.440322+0.0767413\n",
      "[590]\ttrain-rmse:0.321618+0.00946952\ttest-rmse:0.440256+0.0767235\n",
      "[591]\ttrain-rmse:0.32137+0.0094354\ttest-rmse:0.440232+0.0768568\n",
      "[592]\ttrain-rmse:0.321323+0.00942607\ttest-rmse:0.440188+0.0768925\n",
      "[593]\ttrain-rmse:0.321237+0.00943206\ttest-rmse:0.440147+0.0769136\n",
      "[594]\ttrain-rmse:0.321102+0.00945787\ttest-rmse:0.440043+0.0769726\n",
      "[595]\ttrain-rmse:0.320981+0.00939418\ttest-rmse:0.43993+0.0770765\n",
      "[596]\ttrain-rmse:0.320757+0.00952043\ttest-rmse:0.439955+0.0771327\n",
      "[597]\ttrain-rmse:0.320567+0.00946019\ttest-rmse:0.439827+0.0771474\n",
      "[598]\ttrain-rmse:0.320359+0.00955974\ttest-rmse:0.439817+0.0771682\n",
      "[599]\ttrain-rmse:0.32023+0.00945741\ttest-rmse:0.439797+0.0771417\n",
      "[600]\ttrain-rmse:0.320061+0.00931815\ttest-rmse:0.439716+0.0772191\n",
      "[601]\ttrain-rmse:0.319964+0.00928857\ttest-rmse:0.43967+0.0773197\n",
      "[602]\ttrain-rmse:0.319807+0.00922344\ttest-rmse:0.439637+0.0773561\n",
      "[603]\ttrain-rmse:0.319452+0.00932795\ttest-rmse:0.439828+0.0775012\n",
      "[604]\ttrain-rmse:0.319222+0.00932883\ttest-rmse:0.439808+0.0774918\n",
      "[605]\ttrain-rmse:0.319033+0.0092004\ttest-rmse:0.439703+0.0775839\n",
      "[606]\ttrain-rmse:0.318916+0.00922969\ttest-rmse:0.439707+0.0776437\n",
      "[607]\ttrain-rmse:0.318867+0.00923355\ttest-rmse:0.439668+0.0776717\n",
      "[608]\ttrain-rmse:0.318761+0.00925266\ttest-rmse:0.439657+0.0776982\n",
      "[609]\ttrain-rmse:0.318544+0.00923122\ttest-rmse:0.439605+0.0778227\n",
      "[610]\ttrain-rmse:0.318414+0.00927842\ttest-rmse:0.439681+0.0779061\n",
      "[611]\ttrain-rmse:0.318283+0.00932694\ttest-rmse:0.439689+0.0779698\n",
      "[612]\ttrain-rmse:0.318156+0.00928615\ttest-rmse:0.439747+0.0780453\n",
      "[613]\ttrain-rmse:0.318056+0.00922703\ttest-rmse:0.439705+0.0780417\n",
      "[614]\ttrain-rmse:0.317992+0.00926009\ttest-rmse:0.439693+0.0780523\n",
      "[615]\ttrain-rmse:0.317863+0.00933581\ttest-rmse:0.43969+0.0780734\n",
      "[616]\ttrain-rmse:0.317765+0.00940049\ttest-rmse:0.439647+0.078059\n",
      "[617]\ttrain-rmse:0.317539+0.00935671\ttest-rmse:0.439621+0.0781761\n",
      "[618]\ttrain-rmse:0.317403+0.00946783\ttest-rmse:0.439577+0.0781731\n",
      "[619]\ttrain-rmse:0.317229+0.00955486\ttest-rmse:0.439603+0.0782064\n",
      "[620]\ttrain-rmse:0.316884+0.00943754\ttest-rmse:0.43962+0.0782485\n",
      "[621]\ttrain-rmse:0.316775+0.00946941\ttest-rmse:0.439662+0.0782988\n",
      "[622]\ttrain-rmse:0.316721+0.00946387\ttest-rmse:0.43962+0.0783074\n",
      "[623]\ttrain-rmse:0.316536+0.00945063\ttest-rmse:0.43966+0.0783322\n",
      "[624]\ttrain-rmse:0.316437+0.00952967\ttest-rmse:0.439663+0.078352\n",
      "[625]\ttrain-rmse:0.316331+0.0094808\ttest-rmse:0.439608+0.0784214\n",
      "[626]\ttrain-rmse:0.316113+0.00946228\ttest-rmse:0.439618+0.0783561\n",
      "[627]\ttrain-rmse:0.316028+0.00937815\ttest-rmse:0.439625+0.07836\n",
      "[628]\ttrain-rmse:0.315913+0.00936876\ttest-rmse:0.439586+0.0783801\n",
      "[629]\ttrain-rmse:0.315876+0.00936565\ttest-rmse:0.43956+0.0783951\n",
      "[630]\ttrain-rmse:0.315786+0.00931701\ttest-rmse:0.439511+0.0783868\n",
      "[631]\ttrain-rmse:0.315694+0.00923706\ttest-rmse:0.43943+0.0784797\n",
      "[632]\ttrain-rmse:0.315418+0.00929808\ttest-rmse:0.439395+0.0784791\n",
      "[633]\ttrain-rmse:0.315319+0.00936207\ttest-rmse:0.439388+0.0784974\n",
      "[634]\ttrain-rmse:0.315092+0.0092784\ttest-rmse:0.439316+0.0785402\n",
      "[635]\ttrain-rmse:0.315013+0.00921815\ttest-rmse:0.439244+0.0786\n",
      "[636]\ttrain-rmse:0.314858+0.00916266\ttest-rmse:0.439205+0.0785759\n",
      "[637]\ttrain-rmse:0.314778+0.00918274\ttest-rmse:0.439247+0.0786324\n",
      "[638]\ttrain-rmse:0.314617+0.00925036\ttest-rmse:0.439262+0.0786425\n"
     ]
    },
    {
     "name": "stdout",
     "output_type": "stream",
     "text": [
      "[639]\ttrain-rmse:0.314455+0.00919695\ttest-rmse:0.439188+0.0785858\n",
      "[640]\ttrain-rmse:0.314304+0.00930122\ttest-rmse:0.439107+0.0785393\n",
      "[641]\ttrain-rmse:0.314109+0.00927491\ttest-rmse:0.439071+0.0786231\n",
      "[642]\ttrain-rmse:0.313983+0.00922775\ttest-rmse:0.439049+0.0787166\n",
      "[643]\ttrain-rmse:0.313924+0.00927025\ttest-rmse:0.439051+0.0787072\n",
      "[644]\ttrain-rmse:0.313786+0.00935238\ttest-rmse:0.439035+0.0787246\n",
      "[645]\ttrain-rmse:0.313725+0.00940159\ttest-rmse:0.439003+0.07872\n",
      "[646]\ttrain-rmse:0.313704+0.0094043\ttest-rmse:0.438999+0.0787049\n",
      "[647]\ttrain-rmse:0.313624+0.00947486\ttest-rmse:0.439063+0.078757\n",
      "[648]\ttrain-rmse:0.313443+0.00962854\ttest-rmse:0.439061+0.078747\n",
      "[649]\ttrain-rmse:0.313356+0.00953348\ttest-rmse:0.439051+0.0787711\n",
      "[650]\ttrain-rmse:0.313154+0.00938117\ttest-rmse:0.438968+0.0789478\n",
      "[651]\ttrain-rmse:0.313048+0.00943807\ttest-rmse:0.438963+0.0789746\n",
      "[652]\ttrain-rmse:0.312778+0.00949512\ttest-rmse:0.438942+0.0791514\n",
      "[653]\ttrain-rmse:0.312657+0.0094174\ttest-rmse:0.438905+0.0792185\n",
      "[654]\ttrain-rmse:0.312566+0.00930815\ttest-rmse:0.438909+0.0792161\n",
      "[655]\ttrain-rmse:0.312503+0.00935153\ttest-rmse:0.438856+0.0792226\n",
      "[656]\ttrain-rmse:0.312398+0.00933586\ttest-rmse:0.4388+0.0792908\n",
      "[657]\ttrain-rmse:0.312217+0.00929416\ttest-rmse:0.438838+0.0793056\n",
      "[658]\ttrain-rmse:0.312094+0.00923023\ttest-rmse:0.438796+0.0793167\n",
      "[659]\ttrain-rmse:0.311945+0.00920468\ttest-rmse:0.438719+0.0793224\n",
      "[660]\ttrain-rmse:0.311925+0.00919825\ttest-rmse:0.438712+0.0793318\n",
      "[661]\ttrain-rmse:0.31191+0.00919587\ttest-rmse:0.438694+0.0793327\n",
      "[662]\ttrain-rmse:0.311802+0.00931183\ttest-rmse:0.438646+0.0792965\n",
      "[663]\ttrain-rmse:0.311762+0.00934885\ttest-rmse:0.438625+0.0792919\n",
      "[664]\ttrain-rmse:0.311664+0.00933697\ttest-rmse:0.438557+0.0792692\n",
      "[665]\ttrain-rmse:0.311556+0.00926888\ttest-rmse:0.438358+0.0794497\n",
      "[666]\ttrain-rmse:0.31145+0.00929153\ttest-rmse:0.438337+0.0794487\n",
      "[667]\ttrain-rmse:0.311192+0.00929404\ttest-rmse:0.438338+0.0795524\n",
      "[668]\ttrain-rmse:0.310991+0.00943857\ttest-rmse:0.438297+0.0795589\n",
      "[669]\ttrain-rmse:0.310939+0.00948482\ttest-rmse:0.438297+0.0795837\n",
      "[670]\ttrain-rmse:0.310731+0.00948924\ttest-rmse:0.438246+0.0796472\n",
      "[671]\ttrain-rmse:0.310656+0.00942324\ttest-rmse:0.438222+0.0797085\n",
      "[672]\ttrain-rmse:0.31052+0.00951921\ttest-rmse:0.438153+0.0796744\n",
      "[673]\ttrain-rmse:0.310421+0.0095565\ttest-rmse:0.438295+0.0798278\n",
      "[674]\ttrain-rmse:0.310407+0.00955184\ttest-rmse:0.438269+0.0798384\n",
      "[675]\ttrain-rmse:0.310254+0.0095056\ttest-rmse:0.438324+0.0798819\n",
      "[676]\ttrain-rmse:0.310203+0.00951607\ttest-rmse:0.438308+0.0798818\n",
      "[677]\ttrain-rmse:0.310189+0.00951123\ttest-rmse:0.438302+0.0798928\n",
      "[678]\ttrain-rmse:0.310132+0.00955195\ttest-rmse:0.438301+0.0798993\n",
      "[679]\ttrain-rmse:0.310116+0.00954964\ttest-rmse:0.438279+0.079908\n",
      "[680]\ttrain-rmse:0.3101+0.00954876\ttest-rmse:0.438261+0.0799077\n",
      "[681]\ttrain-rmse:0.310089+0.00954469\ttest-rmse:0.438266+0.0799178\n",
      "[682]\ttrain-rmse:0.309969+0.00948745\ttest-rmse:0.438159+0.0799412\n",
      "[683]\ttrain-rmse:0.309632+0.0096316\ttest-rmse:0.438066+0.0798764\n",
      "[684]\ttrain-rmse:0.309483+0.00960158\ttest-rmse:0.438011+0.080074\n",
      "[685]\ttrain-rmse:0.309451+0.00963403\ttest-rmse:0.43801+0.0800824\n",
      "[686]\ttrain-rmse:0.309227+0.00963256\ttest-rmse:0.437813+0.0801377\n",
      "[687]\ttrain-rmse:0.309059+0.00969614\ttest-rmse:0.437862+0.0801278\n",
      "[688]\ttrain-rmse:0.309046+0.00969951\ttest-rmse:0.437862+0.0801386\n",
      "[689]\ttrain-rmse:0.308963+0.00972118\ttest-rmse:0.437878+0.0801695\n",
      "[690]\ttrain-rmse:0.30885+0.00964504\ttest-rmse:0.43786+0.0801743\n",
      "[691]\ttrain-rmse:0.308653+0.00961555\ttest-rmse:0.437791+0.0801694\n",
      "[692]\ttrain-rmse:0.308571+0.00962755\ttest-rmse:0.437715+0.0802151\n",
      "[693]\ttrain-rmse:0.308566+0.00962408\ttest-rmse:0.437693+0.0802245\n",
      "[694]\ttrain-rmse:0.308553+0.00962591\ttest-rmse:0.437659+0.0802284\n",
      "[695]\ttrain-rmse:0.308548+0.00962155\ttest-rmse:0.437654+0.0802356\n",
      "[696]\ttrain-rmse:0.30851+0.00963488\ttest-rmse:0.437621+0.0802197\n",
      "[697]\ttrain-rmse:0.308426+0.0097019\ttest-rmse:0.437607+0.0802113\n",
      "[698]\ttrain-rmse:0.308395+0.00971561\ttest-rmse:0.43759+0.080218\n",
      "[699]\ttrain-rmse:0.308252+0.0097909\ttest-rmse:0.437618+0.080261\n",
      "[700]\ttrain-rmse:0.308097+0.00977594\ttest-rmse:0.437622+0.0803115\n",
      "[701]\ttrain-rmse:0.308028+0.00982724\ttest-rmse:0.43762+0.0803133\n",
      "[702]\ttrain-rmse:0.307967+0.00989096\ttest-rmse:0.437584+0.080286\n",
      "[703]\ttrain-rmse:0.307906+0.00994141\ttest-rmse:0.437578+0.0802925\n",
      "[704]\ttrain-rmse:0.307735+0.00979829\ttest-rmse:0.437498+0.0804292\n",
      "[705]\ttrain-rmse:0.307728+0.00980167\ttest-rmse:0.437507+0.0804434\n",
      "[706]\ttrain-rmse:0.307724+0.00980308\ttest-rmse:0.437505+0.0804479\n",
      "[707]\ttrain-rmse:0.30765+0.00975176\ttest-rmse:0.437477+0.080484\n",
      "[708]\ttrain-rmse:0.307574+0.00969064\ttest-rmse:0.437461+0.0805115\n",
      "[709]\ttrain-rmse:0.307502+0.00976492\ttest-rmse:0.437425+0.0805019\n",
      "[710]\ttrain-rmse:0.307368+0.00960561\ttest-rmse:0.437344+0.0806021\n",
      "[711]\ttrain-rmse:0.307254+0.00948672\ttest-rmse:0.437218+0.0807492\n",
      "[712]\ttrain-rmse:0.307109+0.00953582\ttest-rmse:0.437251+0.0808193\n",
      "[713]\ttrain-rmse:0.307079+0.00956128\ttest-rmse:0.43723+0.0808261\n",
      "[714]\ttrain-rmse:0.306993+0.0095712\ttest-rmse:0.437257+0.0808453\n",
      "[715]\ttrain-rmse:0.306983+0.00957319\ttest-rmse:0.437251+0.0808535\n",
      "[716]\ttrain-rmse:0.306903+0.0095133\ttest-rmse:0.437252+0.0808246\n",
      "[717]\ttrain-rmse:0.306755+0.00965666\ttest-rmse:0.437233+0.0808345\n",
      "[718]\ttrain-rmse:0.306752+0.00965857\ttest-rmse:0.437224+0.0808332\n",
      "[719]\ttrain-rmse:0.306688+0.00969535\ttest-rmse:0.437226+0.0808166\n",
      "[720]\ttrain-rmse:0.306557+0.00965793\ttest-rmse:0.43721+0.0807542\n",
      "[721]\ttrain-rmse:0.306461+0.00956893\ttest-rmse:0.43728+0.0806706\n",
      "[722]\ttrain-rmse:0.306387+0.00957871\ttest-rmse:0.437237+0.0806496\n",
      "[723]\ttrain-rmse:0.306348+0.0095207\ttest-rmse:0.437193+0.0807203\n",
      "[724]\ttrain-rmse:0.306226+0.00953135\ttest-rmse:0.437218+0.0807853\n",
      "[725]\ttrain-rmse:0.306162+0.0095848\ttest-rmse:0.437154+0.0807355\n",
      "[726]\ttrain-rmse:0.306098+0.00948392\ttest-rmse:0.437019+0.0808906\n",
      "[727]\ttrain-rmse:0.306053+0.00950369\ttest-rmse:0.437015+0.0808929\n",
      "[728]\ttrain-rmse:0.305993+0.00946278\ttest-rmse:0.436986+0.0809423\n",
      "[729]\ttrain-rmse:0.305986+0.00946036\ttest-rmse:0.436984+0.0809494\n",
      "[730]\ttrain-rmse:0.305948+0.00940652\ttest-rmse:0.437028+0.0809098\n",
      "[731]\ttrain-rmse:0.305907+0.00941691\ttest-rmse:0.437005+0.0808997\n",
      "[732]\ttrain-rmse:0.305721+0.00927206\ttest-rmse:0.43689+0.0809547\n",
      "[733]\ttrain-rmse:0.305661+0.00927942\ttest-rmse:0.436941+0.0810165\n",
      "[734]\ttrain-rmse:0.305572+0.00924836\ttest-rmse:0.436891+0.0809951\n",
      "[735]\ttrain-rmse:0.305487+0.00926129\ttest-rmse:0.436923+0.0810299\n",
      "[736]\ttrain-rmse:0.305413+0.00928108\ttest-rmse:0.436922+0.0810426\n",
      "[737]\ttrain-rmse:0.305346+0.00936671\ttest-rmse:0.436886+0.0810307\n",
      "[738]\ttrain-rmse:0.305067+0.00935689\ttest-rmse:0.436785+0.0810427\n",
      "[739]\ttrain-rmse:0.304919+0.0093316\ttest-rmse:0.436805+0.0811339\n",
      "[740]\ttrain-rmse:0.304812+0.00933476\ttest-rmse:0.436799+0.0811522\n",
      "[741]\ttrain-rmse:0.304805+0.00933682\ttest-rmse:0.436796+0.0811475\n",
      "[742]\ttrain-rmse:0.304749+0.00929364\ttest-rmse:0.436756+0.0812123\n",
      "[743]\ttrain-rmse:0.304709+0.0092327\ttest-rmse:0.436697+0.0812592\n",
      "[744]\ttrain-rmse:0.304704+0.00923382\ttest-rmse:0.436693+0.0812773\n",
      "[745]\ttrain-rmse:0.304629+0.00932368\ttest-rmse:0.436677+0.0812916\n",
      "[746]\ttrain-rmse:0.304582+0.00925638\ttest-rmse:0.436706+0.0812473\n",
      "[747]\ttrain-rmse:0.304541+0.00919687\ttest-rmse:0.436724+0.0812603\n",
      "[748]\ttrain-rmse:0.304536+0.00919491\ttest-rmse:0.436725+0.0812569\n",
      "[749]\ttrain-rmse:0.304531+0.00919492\ttest-rmse:0.436727+0.081271\n",
      "[750]\ttrain-rmse:0.304528+0.00919232\ttest-rmse:0.436728+0.0812794\n",
      "[751]\ttrain-rmse:0.304483+0.00919176\ttest-rmse:0.436729+0.081293\n",
      "[752]\ttrain-rmse:0.304328+0.00909225\ttest-rmse:0.436765+0.0813165\n",
      "[753]\ttrain-rmse:0.304173+0.00920073\ttest-rmse:0.436885+0.0814079\n",
      "[754]\ttrain-rmse:0.304073+0.00904889\ttest-rmse:0.436852+0.0815061\n",
      "[755]\ttrain-rmse:0.303928+0.00899909\ttest-rmse:0.436736+0.0815183\n",
      "[756]\ttrain-rmse:0.303928+0.00899857\ttest-rmse:0.436729+0.0815224\n",
      "[757]\ttrain-rmse:0.303924+0.00900249\ttest-rmse:0.436735+0.0815187\n",
      "[758]\ttrain-rmse:0.30373+0.00903813\ttest-rmse:0.436793+0.0815928\n",
      "[759]\ttrain-rmse:0.303671+0.00911065\ttest-rmse:0.436732+0.0815562\n",
      "[760]\ttrain-rmse:0.303598+0.00917607\ttest-rmse:0.436778+0.0815748\n",
      "[761]\ttrain-rmse:0.303526+0.0092391\ttest-rmse:0.436842+0.0815859\n",
      "[762]\ttrain-rmse:0.303497+0.00921341\ttest-rmse:0.436796+0.0816547\n",
      "[763]\ttrain-rmse:0.303472+0.0092143\ttest-rmse:0.436814+0.0816875\n"
     ]
    },
    {
     "name": "stdout",
     "output_type": "stream",
     "text": [
      "[764]\ttrain-rmse:0.303466+0.00921621\ttest-rmse:0.436815+0.0817016\n",
      "[765]\ttrain-rmse:0.303461+0.0092167\ttest-rmse:0.436807+0.0817013\n",
      "[766]\ttrain-rmse:0.303459+0.00921841\ttest-rmse:0.43681+0.0817036\n",
      "[767]\ttrain-rmse:0.303361+0.00913917\ttest-rmse:0.436902+0.0815473\n",
      "[768]\ttrain-rmse:0.303356+0.00913777\ttest-rmse:0.43692+0.0815651\n",
      "[769]\ttrain-rmse:0.303353+0.00913823\ttest-rmse:0.436925+0.0815733\n",
      "[770]\ttrain-rmse:0.303349+0.00913628\ttest-rmse:0.436921+0.0815679\n",
      "[771]\ttrain-rmse:0.303235+0.00905645\ttest-rmse:0.43693+0.0815394\n",
      "[772]\ttrain-rmse:0.303232+0.00905682\ttest-rmse:0.436927+0.0815525\n",
      "[773]\ttrain-rmse:0.303229+0.00905538\ttest-rmse:0.436947+0.0815817\n",
      "[774]\ttrain-rmse:0.303151+0.00912594\ttest-rmse:0.436944+0.081592\n"
     ]
    }
   ],
   "source": [
    "xgbCV = xgb.cv(\n",
    "    params = hyperparameters_boosting, \n",
    "    dtrain = trainDMat, \n",
    "    num_boost_round = num_boost_round,\n",
    "    nfold = 6, #same as CV\n",
    "    metrics = {'rmse'},\n",
    "    early_stopping_rounds = early_stopping_rounds,\n",
    "    verbose_eval = True,     \n",
    ")"
   ]
  },
  {
   "cell_type": "markdown",
   "metadata": {},
   "source": [
    "# Finalise XGboost model"
   ]
  },
  {
   "cell_type": "code",
   "execution_count": 123,
   "metadata": {},
   "outputs": [],
   "source": [
    "num_boost_round = len(xgbCV)\n",
    "\n",
    "xgbFinal = xgb.train(\n",
    "    params = hyperparameters_boosting, \n",
    "    dtrain = trainDMat, \n",
    "    num_boost_round = num_boost_round,\n",
    ")"
   ]
  },
  {
   "cell_type": "code",
   "execution_count": 122,
   "metadata": {
    "collapsed": true
   },
   "outputs": [
    {
     "data": {
      "text/plain": [
       "<matplotlib.axes._subplots.AxesSubplot at 0x1c23836c88>"
      ]
     },
     "execution_count": 122,
     "metadata": {},
     "output_type": "execute_result"
    },
    {
     "data": {
      "image/png": "[encoded data removed]",
      "text/plain": [
       "<Figure size 1440x1440 with 1 Axes>"
      ]
     },
     "metadata": {
      "needs_background": "light"
     },
     "output_type": "display_data"
    }
   ],
   "source": [
    "fig, ax = plt.subplots(figsize=(20, 20))\n",
    "xgb.plot_importance(xgbFinal, ax=ax)"
   ]
  },
  {
   "cell_type": "markdown",
   "metadata": {},
   "source": [
    "# Prediction for Kaggle Submission"
   ]
  },
  {
   "cell_type": "code",
   "execution_count": 124,
   "metadata": {},
   "outputs": [],
   "source": [
    "xgbFinal_submission = xgbFinal.predict(xgb.DMatrix(test_rf_x))\n",
    "xgbFinal_submission = np.exp(xgbFinal_submission)"
   ]
  },
  {
   "cell_type": "code",
   "execution_count": 125,
   "metadata": {},
   "outputs": [],
   "source": [
    "## Other submission style\n",
    "## Creating a Submission File to submit to Kaggle competition ##\n",
    "testData = pd.read_csv(\"test.csv\")\n",
    "submission = pd.DataFrame({\n",
    "        \"Id\": testData[\"Id\"],\n",
    "        \"Prediction\": xgbFinal_submission\n",
    "    })\n",
    "submission.to_csv('XGboost_full_model_13th_trial.csv',header=True, index=False)"
   ]
  },
  {
   "cell_type": "markdown",
   "metadata": {},
   "source": [
    "# Saving the final model"
   ]
  },
  {
   "cell_type": "code",
   "execution_count": 140,
   "metadata": {},
   "outputs": [],
   "source": [
    "pickle.dump(xgbFinal, open(\"xgbFinal.pickle.dat\", \"wb\"))"
   ]
  },
  {
   "cell_type": "markdown",
   "metadata": {},
   "source": [
    "# Loading the final model"
   ]
  },
  {
   "cell_type": "code",
   "execution_count": 142,
   "metadata": {},
   "outputs": [],
   "source": [
    "xgb_test = pickle.load(open(\"xgbFinal.pickle.dat\", \"rb\"))"
   ]
  },
  {
   "cell_type": "code",
   "execution_count": 143,
   "metadata": {},
   "outputs": [],
   "source": [
    "# Re-forecast the prediction to verify the model\n",
    "xgb_test_p = xgb_test.predict(xgb.DMatrix(test_rf_x))\n",
    "xgb_test_p = np.exp(xgb_test_p)"
   ]
  },
  {
   "cell_type": "code",
   "execution_count": 150,
   "metadata": {},
   "outputs": [
    {
     "data": {
      "text/plain": [
       "100000"
      ]
     },
     "execution_count": 150,
     "metadata": {},
     "output_type": "execute_result"
    }
   ],
   "source": [
    "verify_model = (xgbFinal_submission == xgb_test_p)\n",
    "verify_model.sum()"
   ]
  },
  {
   "cell_type": "markdown",
   "metadata": {},
   "source": [
    "# XGboost, Grid Search with 2-way interaction Features & log_transformation_y"
   ]
  },
  {
   "cell_type": "code",
   "execution_count": 191,
   "metadata": {},
   "outputs": [],
   "source": [
    "hyperparameters_tuning = {'learning_rate': [0.1],               # 6th when boosting\n",
    "                          'gamma': [0.9],                       # 3rd\n",
    "                          'max_depth': [8],                     # 1st to tune\n",
    "                          'min_child_weight': [7],              # 2nd\n",
    "                          'max_delta_step': [0],\n",
    "                          'subsample': [0.8],                   # 4th\n",
    "                          'colsample_bytree': [0.8],            # 4th \n",
    "                          'colsample_bylevel': [1],\n",
    "                          'colsample_bynode': [1],\n",
    "                          'reg_lambda': [1],                    # 5th\n",
    "                          'reg_alpha': [0],                     # 5th\n",
    "                          'scale_pos_weight': [1.0],            # only when dealing with imbalance classes\n",
    "                          'n_estimators': [780],                # 1st\n",
    "                          \"booster\": [\"gbtree\"],\n",
    "                          \"verbosity\": [1],\n",
    "                          \"objective\": [\"reg:squarederror\"],\n",
    "                          \"seed\": [1]\n",
    "                         }                "
   ]
  },
  {
   "cell_type": "code",
   "execution_count": 192,
   "metadata": {},
   "outputs": [],
   "source": [
    "# General Parameters setting inside Regressor\n",
    "xgboost = xgb.XGBRegressor()"
   ]
  },
  {
   "cell_type": "code",
   "execution_count": 193,
   "metadata": {},
   "outputs": [],
   "source": [
    "xgboost_grid = GridSearchCV(estimator = xgboost, param_grid = hyperparameters_tuning, cv = 6, iid = False, scoring=\"neg_mean_squared_error\")"
   ]
  },
  {
   "cell_type": "code",
   "execution_count": 194,
   "metadata": {},
   "outputs": [
    {
     "data": {
      "text/plain": [
       "GridSearchCV(cv=6, error_score='raise-deprecating',\n",
       "       estimator=XGBRegressor(base_score=0.5, booster='gbtree', colsample_bylevel=1,\n",
       "       colsample_bynode=1, colsample_bytree=1, gamma=0,\n",
       "       importance_type='gain', learning_rate=0.1, max_delta_step=0,\n",
       "       max_depth=3, min_child_weight=1, missing=None, n_estimators=100,\n",
       "       n_jobs=1, nthread=None, objective='reg:linear', random_state=0,\n",
       "       reg_alpha=0, reg_lambda=1, scale_pos_weight=1, seed=None,\n",
       "       silent=None, subsample=1, verbosity=1),\n",
       "       fit_params=None, iid=False, n_jobs=None,\n",
       "       param_grid={'learning_rate': [0.1], 'gamma': [0.9], 'max_depth': [8], 'min_child_weight': [7], 'max_delta_step': [0], 'subsample': [0.8], 'colsample_bytree': [0.8], 'colsample_bylevel': [1], 'colsample_bynode': [1], 'reg_lambda': [1], 'reg_alpha': [0], 'scale_pos_weight': [1.0], 'n_estimators': [780], 'booster': ['gbtree'], 'verbosity': [1], 'objective': ['reg:squarederror'], 'seed': [1]},\n",
       "       pre_dispatch='2*n_jobs', refit=True, return_train_score='warn',\n",
       "       scoring='neg_mean_squared_error', verbose=0)"
      ]
     },
     "execution_count": 194,
     "metadata": {},
     "output_type": "execute_result"
    }
   ],
   "source": [
    "xgboost_grid.fit(train_rf_x_interaction,log_transform_y)"
   ]
  },
  {
   "cell_type": "code",
   "execution_count": 195,
   "metadata": {},
   "outputs": [
    {
     "name": "stdout",
     "output_type": "stream",
     "text": [
      "-0.17951258851345084\n",
      "0.7015533588088118\n",
      "XGBRegressor(base_score=0.5, booster='gbtree', colsample_bylevel=1,\n",
      "       colsample_bynode=1, colsample_bytree=0.8, gamma=0.9,\n",
      "       importance_type='gain', learning_rate=0.1, max_delta_step=0,\n",
      "       max_depth=8, min_child_weight=7, missing=None, n_estimators=780,\n",
      "       n_jobs=1, nthread=None, objective='reg:squarederror',\n",
      "       random_state=0, reg_alpha=0, reg_lambda=1, scale_pos_weight=1.0,\n",
      "       seed=1, silent=None, subsample=0.8, verbosity=1)\n"
     ]
    }
   ],
   "source": [
    "best_cv_score = xgboost_grid.cv_results_\n",
    "best_params = xgboost_grid.best_params_\n",
    "best_score = xgboost_grid.best_score_\n",
    "best_rf = xgboost_grid.best_estimator_\n",
    "best_R2_score = best_rf.score(train_rf_x_interaction,log_transform_y)\n",
    "best_score_list.append(best_score)\n",
    "best_params_list.append(best_rf)\n",
    "best_R2_list.append(best_R2_score)\n",
    "print(best_score)\n",
    "print(best_R2_score)\n",
    "print(best_rf)"
   ]
  },
  {
   "cell_type": "code",
   "execution_count": 130,
   "metadata": {},
   "outputs": [],
   "source": [
    "# To track the iteration records for parameters tuning\n",
    "best_score_list = []\n",
    "best_params_list = []\n",
    "best_R2_list = []"
   ]
  },
  {
   "cell_type": "code",
   "execution_count": 196,
   "metadata": {},
   "outputs": [
    {
     "name": "stdout",
     "output_type": "stream",
     "text": [
      "[-0.20402199816154395, -0.20401817789837717, -0.18219425722869223, -0.17951258851345084, -9975290098546.92, -0.17951258851345084]\n",
      "[0.9999992890798933, 0.9999993052730449, 0.7088568666940466, 0.7015533588088118, 0.9995234591082705, 0.7015533588088118]\n",
      "[XGBRegressor(base_score=0.5, booster='gbtree', colsample_bylevel=1,\n",
      "       colsample_bynode=1, colsample_bytree=0.8, gamma=0,\n",
      "       importance_type='gain', learning_rate=0.1, max_delta_step=0,\n",
      "       max_depth=8, min_child_weight=1, missing=None, n_estimators=700,\n",
      "       n_jobs=1, nthread=None, objective='reg:squarederror',\n",
      "       random_state=0, reg_alpha=0, reg_lambda=0, scale_pos_weight=1.0,\n",
      "       seed=1, silent=None, subsample=0.8, verbosity=1), XGBRegressor(base_score=0.5, booster='gbtree', colsample_bylevel=1,\n",
      "       colsample_bynode=1, colsample_bytree=0.8, gamma=0,\n",
      "       importance_type='gain', learning_rate=0.1, max_delta_step=0,\n",
      "       max_depth=8, min_child_weight=1, missing=None, n_estimators=780,\n",
      "       n_jobs=1, nthread=None, objective='reg:squarederror',\n",
      "       random_state=0, reg_alpha=0, reg_lambda=0, scale_pos_weight=1.0,\n",
      "       seed=1, silent=None, subsample=0.8, verbosity=1), XGBRegressor(base_score=0.5, booster='gbtree', colsample_bylevel=1,\n",
      "       colsample_bynode=1, colsample_bytree=0.8, gamma=0.9,\n",
      "       importance_type='gain', learning_rate=0.1, max_delta_step=0,\n",
      "       max_depth=8, min_child_weight=7, missing=None, n_estimators=780,\n",
      "       n_jobs=1, nthread=None, objective='reg:squarederror',\n",
      "       random_state=0, reg_alpha=0, reg_lambda=0, scale_pos_weight=1.0,\n",
      "       seed=1, silent=None, subsample=0.8, verbosity=1), XGBRegressor(base_score=0.5, booster='gbtree', colsample_bylevel=1,\n",
      "       colsample_bynode=1, colsample_bytree=0.8, gamma=0.9,\n",
      "       importance_type='gain', learning_rate=0.1, max_delta_step=0,\n",
      "       max_depth=8, min_child_weight=7, missing=None, n_estimators=780,\n",
      "       n_jobs=1, nthread=None, objective='reg:squarederror',\n",
      "       random_state=0, reg_alpha=0, reg_lambda=1, scale_pos_weight=1.0,\n",
      "       seed=1, silent=None, subsample=0.8, verbosity=1), XGBRegressor(base_score=0.5, booster='gbtree', colsample_bylevel=1,\n",
      "       colsample_bynode=1, colsample_bytree=0.8, gamma=0.9,\n",
      "       importance_type='gain', learning_rate=0.1, max_delta_step=0,\n",
      "       max_depth=8, min_child_weight=7, missing=None, n_estimators=780,\n",
      "       n_jobs=1, nthread=None, objective='reg:squarederror',\n",
      "       random_state=0, reg_alpha=0, reg_lambda=1, scale_pos_weight=1.0,\n",
      "       seed=1, silent=None, subsample=0.8, verbosity=1), XGBRegressor(base_score=0.5, booster='gbtree', colsample_bylevel=1,\n",
      "       colsample_bynode=1, colsample_bytree=0.8, gamma=0.9,\n",
      "       importance_type='gain', learning_rate=0.1, max_delta_step=0,\n",
      "       max_depth=8, min_child_weight=7, missing=None, n_estimators=780,\n",
      "       n_jobs=1, nthread=None, objective='reg:squarederror',\n",
      "       random_state=0, reg_alpha=0, reg_lambda=1, scale_pos_weight=1.0,\n",
      "       seed=1, silent=None, subsample=0.8, verbosity=1)]\n"
     ]
    }
   ],
   "source": [
    "print(best_score_list)\n",
    "print(best_R2_list)\n",
    "print(best_params_list)"
   ]
  },
  {
   "cell_type": "code",
   "execution_count": 75,
   "metadata": {},
   "outputs": [],
   "source": [
    "# Another way to easy the tuning process\n",
    "# to tune parameter in smaller grid, conclusion decide by cv_score\n",
    "# cv_params = {'gamma': [i/10.0 for i in range(1,10,2)]}\n",
    "# To update hyperparameters tuning and fix the best choices be constant\n",
    "# hyperparameters2[\"max_depth\"] = grid.best_params_['max_depth']"
   ]
  },
  {
   "cell_type": "markdown",
   "metadata": {},
   "source": [
    "# Create XGBoost's DMatrix, after fine tuning the parameters"
   ]
  },
  {
   "cell_type": "code",
   "execution_count": 181,
   "metadata": {},
   "outputs": [],
   "source": [
    "trainDMat = xgb.DMatrix(data = train_rf_x_interaction, label = log_transform_y)"
   ]
  },
  {
   "cell_type": "code",
   "execution_count": 182,
   "metadata": {},
   "outputs": [],
   "source": [
    "# Lower the learning_rate and set a large num_boost_round hyperparameter to ensure convergence. \n",
    "# If convergence is slow, retry with a slightly higher learning rate (e.g. 0.075 instead of 0.05)"
   ]
  },
  {
   "cell_type": "code",
   "execution_count": 183,
   "metadata": {},
   "outputs": [],
   "source": [
    "num_boost_round = 6000\n",
    "early_stopping_rounds = 30\n",
    "# Activates early stopping. CV error needs to decrease at least every <early_stopping_rounds> round(s) to continue.\n",
    "# Last entry in evaluation history is the one from best iteration."
   ]
  },
  {
   "cell_type": "code",
   "execution_count": 185,
   "metadata": {},
   "outputs": [],
   "source": [
    "hyperparameters_boosting={'learning_rate': 0.01,               # 6th when boosting\n",
    "                          'gamma': 0.9,                       # 3rd\n",
    "                          'max_depth': 8,                     # 1st to tune\n",
    "                          'min_child_weight': 7,              # 2nd\n",
    "                          'max_delta_step': 0,\n",
    "                          'subsample': 0.8,                   # 4th\n",
    "                          'colsample_bytree': 0.8,            # 4th \n",
    "                          'colsample_bylevel': 1,\n",
    "                          'colsample_bynode': 1,\n",
    "                          'reg_lambda': 1,                    # 5th\n",
    "                          'reg_alpha': 0,                     # 5th\n",
    "                          'scale_pos_weight': 1.0,            # only when dealing with imbalance classes\n",
    "                          'n_estimators': 780,                # 1st\n",
    "                          \"booster\": \"gbtree\",\n",
    "                          \"verbosity\": 1,\n",
    "                          \"objective\": \"reg:squarederror\",\n",
    "                          \"seed\": 1\n",
    "                         }                "
   ]
  },
  {
   "cell_type": "code",
   "execution_count": 186,
   "metadata": {
    "collapsed": true
   },
   "outputs": [
    {
     "name": "stdout",
     "output_type": "stream",
     "text": [
      "[0]\ttrain-rmse:5.09682e+06+131549\ttest-rmse:5.05145e+06+674787\n",
      "[1]\ttrain-rmse:5.05579e+06+130722\ttest-rmse:5.0131e+06+675730\n",
      "[2]\ttrain-rmse:5.01623e+06+129955\ttest-rmse:4.97772e+06+675309\n",
      "[3]\ttrain-rmse:4.9784e+06+128943\ttest-rmse:4.94262e+06+676443\n",
      "[4]\ttrain-rmse:4.93951e+06+129116\ttest-rmse:4.90578e+06+678192\n",
      "[5]\ttrain-rmse:4.90137e+06+128170\ttest-rmse:4.86962e+06+680689\n",
      "[6]\ttrain-rmse:4.86336e+06+127575\ttest-rmse:4.83357e+06+682213\n",
      "[7]\ttrain-rmse:4.8254e+06+127233\ttest-rmse:4.79808e+06+683728\n",
      "[8]\ttrain-rmse:4.78727e+06+126659\ttest-rmse:4.7635e+06+685758\n",
      "[9]\ttrain-rmse:4.75032e+06+126117\ttest-rmse:4.7295e+06+689696\n",
      "[10]\ttrain-rmse:4.71282e+06+125708\ttest-rmse:4.69632e+06+689873\n",
      "[11]\ttrain-rmse:4.67667e+06+124902\ttest-rmse:4.66332e+06+692723\n",
      "[12]\ttrain-rmse:4.64155e+06+124966\ttest-rmse:4.63023e+06+693756\n",
      "[13]\ttrain-rmse:4.60687e+06+124153\ttest-rmse:4.59793e+06+696536\n",
      "[14]\ttrain-rmse:4.5706e+06+123336\ttest-rmse:4.56407e+06+699342\n",
      "[15]\ttrain-rmse:4.53592e+06+123449\ttest-rmse:4.52948e+06+700668\n",
      "[16]\ttrain-rmse:4.50101e+06+122789\ttest-rmse:4.49898e+06+703565\n",
      "[17]\ttrain-rmse:4.4664e+06+122389\ttest-rmse:4.46794e+06+704993\n",
      "[18]\ttrain-rmse:4.43345e+06+121577\ttest-rmse:4.43728e+06+706420\n",
      "[19]\ttrain-rmse:4.39992e+06+121483\ttest-rmse:4.40611e+06+708715\n",
      "[20]\ttrain-rmse:4.36721e+06+120216\ttest-rmse:4.37574e+06+709502\n",
      "[21]\ttrain-rmse:4.33511e+06+119792\ttest-rmse:4.34481e+06+711066\n",
      "[22]\ttrain-rmse:4.30321e+06+118552\ttest-rmse:4.31573e+06+711943\n",
      "[23]\ttrain-rmse:4.27018e+06+117942\ttest-rmse:4.28665e+06+712018\n",
      "[24]\ttrain-rmse:4.23929e+06+116648\ttest-rmse:4.25741e+06+715780\n",
      "[25]\ttrain-rmse:4.20877e+06+115503\ttest-rmse:4.22961e+06+717129\n",
      "[26]\ttrain-rmse:4.17834e+06+114899\ttest-rmse:4.20264e+06+716226\n",
      "[27]\ttrain-rmse:4.14781e+06+115411\ttest-rmse:4.17529e+06+717312\n",
      "[28]\ttrain-rmse:4.11723e+06+115583\ttest-rmse:4.14892e+06+718968\n",
      "[29]\ttrain-rmse:4.08754e+06+113932\ttest-rmse:4.12152e+06+720499\n",
      "[30]\ttrain-rmse:4.059e+06+114025\ttest-rmse:4.09467e+06+720880\n",
      "[31]\ttrain-rmse:4.02933e+06+113234\ttest-rmse:4.06764e+06+723135\n",
      "[32]\ttrain-rmse:3.99959e+06+112803\ttest-rmse:4.04283e+06+723199\n",
      "[33]\ttrain-rmse:3.97053e+06+112509\ttest-rmse:4.01626e+06+723824\n",
      "[34]\ttrain-rmse:3.9422e+06+113045\ttest-rmse:3.98934e+06+725970\n",
      "[35]\ttrain-rmse:3.91532e+06+112116\ttest-rmse:3.96476e+06+728837\n",
      "[36]\ttrain-rmse:3.88794e+06+113407\ttest-rmse:3.93867e+06+730365\n",
      "[37]\ttrain-rmse:3.86073e+06+113265\ttest-rmse:3.915e+06+730538\n",
      "[38]\ttrain-rmse:3.83225e+06+113060\ttest-rmse:3.88876e+06+732117\n",
      "[39]\ttrain-rmse:3.80429e+06+112982\ttest-rmse:3.86452e+06+734075\n",
      "[40]\ttrain-rmse:3.77765e+06+112475\ttest-rmse:3.83989e+06+734508\n",
      "[41]\ttrain-rmse:3.75062e+06+112246\ttest-rmse:3.81587e+06+735083\n",
      "[42]\ttrain-rmse:3.72489e+06+112411\ttest-rmse:3.7909e+06+736269\n",
      "[43]\ttrain-rmse:3.69974e+06+113425\ttest-rmse:3.76832e+06+737572\n",
      "[44]\ttrain-rmse:3.6734e+06+113527\ttest-rmse:3.7449e+06+737871\n",
      "[45]\ttrain-rmse:3.64826e+06+113848\ttest-rmse:3.72266e+06+739043\n",
      "[46]\ttrain-rmse:3.6236e+06+114605\ttest-rmse:3.70181e+06+740440\n",
      "[47]\ttrain-rmse:3.59837e+06+114529\ttest-rmse:3.68008e+06+741322\n",
      "[48]\ttrain-rmse:3.57473e+06+114176\ttest-rmse:3.66063e+06+743263\n",
      "[49]\ttrain-rmse:3.55164e+06+113783\ttest-rmse:3.63857e+06+745625\n",
      "[50]\ttrain-rmse:3.52826e+06+114058\ttest-rmse:3.61888e+06+744931\n",
      "[51]\ttrain-rmse:3.50405e+06+114010\ttest-rmse:3.59712e+06+744643\n",
      "[52]\ttrain-rmse:3.48032e+06+113084\ttest-rmse:3.57633e+06+746103\n",
      "[53]\ttrain-rmse:3.45724e+06+113737\ttest-rmse:3.55573e+06+746723\n",
      "[54]\ttrain-rmse:3.43386e+06+113268\ttest-rmse:3.53736e+06+746920\n",
      "[55]\ttrain-rmse:3.4106e+06+113494\ttest-rmse:3.51815e+06+747838\n",
      "[56]\ttrain-rmse:3.38715e+06+113476\ttest-rmse:3.49751e+06+749173\n",
      "[57]\ttrain-rmse:3.36375e+06+113800\ttest-rmse:3.47934e+06+749561\n",
      "[58]\ttrain-rmse:3.34146e+06+114155\ttest-rmse:3.45986e+06+751146\n",
      "[59]\ttrain-rmse:3.31894e+06+114181\ttest-rmse:3.44136e+06+750679\n",
      "[60]\ttrain-rmse:3.29771e+06+113060\ttest-rmse:3.42249e+06+751422\n",
      "[61]\ttrain-rmse:3.27613e+06+112716\ttest-rmse:3.40403e+06+752220\n",
      "[62]\ttrain-rmse:3.25429e+06+111975\ttest-rmse:3.38696e+06+753763\n",
      "[63]\ttrain-rmse:3.23321e+06+112486\ttest-rmse:3.36873e+06+754591\n",
      "[64]\ttrain-rmse:3.21273e+06+111584\ttest-rmse:3.35083e+06+755971\n",
      "[65]\ttrain-rmse:3.19148e+06+111416\ttest-rmse:3.33321e+06+756126\n",
      "[66]\ttrain-rmse:3.17016e+06+110885\ttest-rmse:3.31674e+06+755838\n",
      "[67]\ttrain-rmse:3.14912e+06+111589\ttest-rmse:3.29973e+06+756221\n",
      "[68]\ttrain-rmse:3.12878e+06+111665\ttest-rmse:3.28369e+06+756352\n",
      "[69]\ttrain-rmse:3.10919e+06+111085\ttest-rmse:3.26983e+06+757143\n",
      "[70]\ttrain-rmse:3.08976e+06+111084\ttest-rmse:3.25418e+06+757953\n",
      "[71]\ttrain-rmse:3.07005e+06+110813\ttest-rmse:3.23862e+06+756616\n",
      "[72]\ttrain-rmse:3.05123e+06+111464\ttest-rmse:3.22159e+06+756535\n",
      "[73]\ttrain-rmse:3.03179e+06+112012\ttest-rmse:3.20692e+06+758199\n",
      "[74]\ttrain-rmse:3.0123e+06+111880\ttest-rmse:3.19019e+06+759045\n",
      "[75]\ttrain-rmse:2.99366e+06+111842\ttest-rmse:3.17648e+06+760230\n",
      "[76]\ttrain-rmse:2.97637e+06+111903\ttest-rmse:3.16387e+06+760982\n",
      "[77]\ttrain-rmse:2.95861e+06+111093\ttest-rmse:3.14868e+06+760651\n",
      "[78]\ttrain-rmse:2.94098e+06+111412\ttest-rmse:3.13582e+06+760664\n",
      "[79]\ttrain-rmse:2.92343e+06+112250\ttest-rmse:3.12184e+06+761304\n",
      "[80]\ttrain-rmse:2.90548e+06+112382\ttest-rmse:3.10657e+06+761086\n",
      "[81]\ttrain-rmse:2.88785e+06+112447\ttest-rmse:3.09295e+06+759885\n",
      "[82]\ttrain-rmse:2.86981e+06+112894\ttest-rmse:3.0787e+06+759278\n",
      "[83]\ttrain-rmse:2.85278e+06+112971\ttest-rmse:3.06575e+06+759263\n",
      "[84]\ttrain-rmse:2.83651e+06+112865\ttest-rmse:3.05319e+06+760726\n",
      "[85]\ttrain-rmse:2.81913e+06+113364\ttest-rmse:3.03945e+06+760017\n",
      "[86]\ttrain-rmse:2.8028e+06+114551\ttest-rmse:3.02515e+06+760226\n",
      "[87]\ttrain-rmse:2.78593e+06+115221\ttest-rmse:3.01372e+06+760103\n",
      "[88]\ttrain-rmse:2.76991e+06+115394\ttest-rmse:3.0035e+06+761124\n",
      "[89]\ttrain-rmse:2.75429e+06+115700\ttest-rmse:2.9912e+06+760170\n",
      "[90]\ttrain-rmse:2.73859e+06+115367\ttest-rmse:2.97819e+06+759287\n",
      "[91]\ttrain-rmse:2.72381e+06+114537\ttest-rmse:2.96678e+06+758883\n",
      "[92]\ttrain-rmse:2.70812e+06+114576\ttest-rmse:2.95482e+06+759602\n",
      "[93]\ttrain-rmse:2.69346e+06+114310\ttest-rmse:2.94335e+06+760487\n",
      "[94]\ttrain-rmse:2.67813e+06+115542\ttest-rmse:2.93171e+06+760772\n",
      "[95]\ttrain-rmse:2.66424e+06+115994\ttest-rmse:2.92021e+06+759223\n",
      "[96]\ttrain-rmse:2.64949e+06+115962\ttest-rmse:2.90892e+06+759812\n",
      "[97]\ttrain-rmse:2.63392e+06+116392\ttest-rmse:2.89765e+06+759218\n",
      "[98]\ttrain-rmse:2.61995e+06+116563\ttest-rmse:2.88891e+06+759129\n",
      "[99]\ttrain-rmse:2.60622e+06+117010\ttest-rmse:2.87891e+06+757813\n",
      "[100]\ttrain-rmse:2.59234e+06+117257\ttest-rmse:2.86861e+06+757716\n",
      "[101]\ttrain-rmse:2.57817e+06+117524\ttest-rmse:2.85735e+06+758358\n",
      "[102]\ttrain-rmse:2.56394e+06+117556\ttest-rmse:2.84825e+06+757466\n",
      "[103]\ttrain-rmse:2.54947e+06+117482\ttest-rmse:2.83706e+06+757157\n",
      "[104]\ttrain-rmse:2.53562e+06+117396\ttest-rmse:2.82922e+06+756480\n",
      "[105]\ttrain-rmse:2.52169e+06+118268\ttest-rmse:2.81948e+06+754997\n",
      "[106]\ttrain-rmse:2.50868e+06+118099\ttest-rmse:2.80987e+06+754004\n",
      "[107]\ttrain-rmse:2.49524e+06+118663\ttest-rmse:2.8004e+06+754195\n",
      "[108]\ttrain-rmse:2.48237e+06+118996\ttest-rmse:2.79173e+06+754020\n",
      "[109]\ttrain-rmse:2.46957e+06+118870\ttest-rmse:2.7832e+06+754707\n",
      "[110]\ttrain-rmse:2.4557e+06+119267\ttest-rmse:2.77409e+06+754352\n",
      "[111]\ttrain-rmse:2.44324e+06+118744\ttest-rmse:2.76574e+06+752396\n",
      "[112]\ttrain-rmse:2.43022e+06+118266\ttest-rmse:2.75642e+06+752356\n",
      "[113]\ttrain-rmse:2.41798e+06+119691\ttest-rmse:2.74747e+06+751522\n",
      "[114]\ttrain-rmse:2.40499e+06+120142\ttest-rmse:2.73847e+06+749989\n",
      "[115]\ttrain-rmse:2.39306e+06+119981\ttest-rmse:2.73138e+06+749305\n",
      "[116]\ttrain-rmse:2.38135e+06+120173\ttest-rmse:2.72408e+06+748695\n",
      "[117]\ttrain-rmse:2.36849e+06+120615\ttest-rmse:2.71656e+06+747467\n",
      "[118]\ttrain-rmse:2.35646e+06+120925\ttest-rmse:2.70906e+06+747890\n",
      "[119]\ttrain-rmse:2.34561e+06+121642\ttest-rmse:2.70206e+06+747195\n",
      "[120]\ttrain-rmse:2.33408e+06+121848\ttest-rmse:2.69353e+06+748120\n",
      "[121]\ttrain-rmse:2.32258e+06+122466\ttest-rmse:2.68699e+06+746693\n",
      "[122]\ttrain-rmse:2.31121e+06+122406\ttest-rmse:2.67963e+06+746435\n",
      "[123]\ttrain-rmse:2.29939e+06+123027\ttest-rmse:2.67381e+06+744593\n",
      "[124]\ttrain-rmse:2.2882e+06+123499\ttest-rmse:2.66708e+06+744212\n",
      "[125]\ttrain-rmse:2.27718e+06+123704\ttest-rmse:2.66003e+06+742374\n",
      "[126]\ttrain-rmse:2.26613e+06+123816\ttest-rmse:2.65384e+06+741040\n",
      "[127]\ttrain-rmse:2.25576e+06+124884\ttest-rmse:2.64763e+06+741860\n",
      "[128]\ttrain-rmse:2.24474e+06+124917\ttest-rmse:2.64039e+06+740145\n"
     ]
    },
    {
     "name": "stdout",
     "output_type": "stream",
     "text": [
      "[129]\ttrain-rmse:2.2348e+06+125521\ttest-rmse:2.63358e+06+740359\n",
      "[130]\ttrain-rmse:2.22536e+06+125429\ttest-rmse:2.62837e+06+740832\n",
      "[131]\ttrain-rmse:2.21534e+06+125823\ttest-rmse:2.62127e+06+741441\n",
      "[132]\ttrain-rmse:2.20491e+06+126257\ttest-rmse:2.61501e+06+741541\n",
      "[133]\ttrain-rmse:2.19598e+06+126312\ttest-rmse:2.61006e+06+740637\n",
      "[134]\ttrain-rmse:2.18649e+06+126843\ttest-rmse:2.6046e+06+739491\n",
      "[135]\ttrain-rmse:2.17737e+06+127021\ttest-rmse:2.59852e+06+739673\n",
      "[136]\ttrain-rmse:2.16751e+06+127744\ttest-rmse:2.59378e+06+740302\n",
      "[137]\ttrain-rmse:2.15816e+06+127871\ttest-rmse:2.58957e+06+740186\n",
      "[138]\ttrain-rmse:2.14846e+06+127856\ttest-rmse:2.58313e+06+741473\n",
      "[139]\ttrain-rmse:2.13848e+06+128315\ttest-rmse:2.57806e+06+741353\n",
      "[140]\ttrain-rmse:2.129e+06+128436\ttest-rmse:2.57389e+06+740299\n",
      "[141]\ttrain-rmse:2.11969e+06+128401\ttest-rmse:2.56896e+06+739182\n",
      "[142]\ttrain-rmse:2.11048e+06+128781\ttest-rmse:2.56365e+06+738602\n",
      "[143]\ttrain-rmse:2.10086e+06+129307\ttest-rmse:2.55797e+06+736799\n",
      "[144]\ttrain-rmse:2.09172e+06+128948\ttest-rmse:2.55339e+06+737135\n",
      "[145]\ttrain-rmse:2.08354e+06+128676\ttest-rmse:2.54771e+06+736704\n",
      "[146]\ttrain-rmse:2.07537e+06+129195\ttest-rmse:2.54265e+06+737358\n",
      "[147]\ttrain-rmse:2.06709e+06+129979\ttest-rmse:2.53675e+06+736213\n",
      "[148]\ttrain-rmse:2.05817e+06+130254\ttest-rmse:2.53224e+06+735733\n",
      "[149]\ttrain-rmse:2.04977e+06+130443\ttest-rmse:2.52787e+06+734822\n",
      "[150]\ttrain-rmse:2.04116e+06+130627\ttest-rmse:2.52425e+06+734812\n",
      "[151]\ttrain-rmse:2.03346e+06+131203\ttest-rmse:2.51947e+06+733171\n",
      "[152]\ttrain-rmse:2.0257e+06+131745\ttest-rmse:2.51638e+06+732043\n",
      "[153]\ttrain-rmse:2.01786e+06+132097\ttest-rmse:2.51303e+06+730759\n",
      "[154]\ttrain-rmse:2.01e+06+132648\ttest-rmse:2.50886e+06+729758\n",
      "[155]\ttrain-rmse:2.00175e+06+131824\ttest-rmse:2.50459e+06+728687\n",
      "[156]\ttrain-rmse:1.99384e+06+132042\ttest-rmse:2.49993e+06+728330\n",
      "[157]\ttrain-rmse:1.98639e+06+132789\ttest-rmse:2.49641e+06+727435\n",
      "[158]\ttrain-rmse:1.97981e+06+132714\ttest-rmse:2.49211e+06+728529\n",
      "[159]\ttrain-rmse:1.97238e+06+133225\ttest-rmse:2.48726e+06+729558\n",
      "[160]\ttrain-rmse:1.96513e+06+133756\ttest-rmse:2.48434e+06+729691\n",
      "[161]\ttrain-rmse:1.95827e+06+133787\ttest-rmse:2.48236e+06+728216\n",
      "[162]\ttrain-rmse:1.95128e+06+133464\ttest-rmse:2.47855e+06+727596\n",
      "[163]\ttrain-rmse:1.94392e+06+133553\ttest-rmse:2.47508e+06+727204\n",
      "[164]\ttrain-rmse:1.93702e+06+133436\ttest-rmse:2.47236e+06+725922\n",
      "[165]\ttrain-rmse:1.92972e+06+134019\ttest-rmse:2.46867e+06+725715\n",
      "[166]\ttrain-rmse:1.92259e+06+133293\ttest-rmse:2.4663e+06+724393\n",
      "[167]\ttrain-rmse:1.91603e+06+133721\ttest-rmse:2.46321e+06+723524\n",
      "[168]\ttrain-rmse:1.91006e+06+134817\ttest-rmse:2.4588e+06+722822\n",
      "[169]\ttrain-rmse:1.90348e+06+135092\ttest-rmse:2.45475e+06+722207\n",
      "[170]\ttrain-rmse:1.89702e+06+135382\ttest-rmse:2.45245e+06+722165\n",
      "[171]\ttrain-rmse:1.89049e+06+136256\ttest-rmse:2.4497e+06+720835\n",
      "[172]\ttrain-rmse:1.88406e+06+136891\ttest-rmse:2.44659e+06+718469\n",
      "[173]\ttrain-rmse:1.87804e+06+136846\ttest-rmse:2.44391e+06+717911\n",
      "[174]\ttrain-rmse:1.87123e+06+136967\ttest-rmse:2.44107e+06+716618\n",
      "[175]\ttrain-rmse:1.86494e+06+136992\ttest-rmse:2.43855e+06+716120\n",
      "[176]\ttrain-rmse:1.85818e+06+137364\ttest-rmse:2.43548e+06+715603\n",
      "[177]\ttrain-rmse:1.85175e+06+137631\ttest-rmse:2.43365e+06+715377\n",
      "[178]\ttrain-rmse:1.84553e+06+137665\ttest-rmse:2.43256e+06+715214\n",
      "[179]\ttrain-rmse:1.83854e+06+137688\ttest-rmse:2.4306e+06+714335\n",
      "[180]\ttrain-rmse:1.83234e+06+137557\ttest-rmse:2.42801e+06+713574\n",
      "[181]\ttrain-rmse:1.82555e+06+137556\ttest-rmse:2.42506e+06+712112\n",
      "[182]\ttrain-rmse:1.81971e+06+137404\ttest-rmse:2.42227e+06+713031\n",
      "[183]\ttrain-rmse:1.81351e+06+137514\ttest-rmse:2.41966e+06+711590\n",
      "[184]\ttrain-rmse:1.80759e+06+137592\ttest-rmse:2.41728e+06+712158\n",
      "[185]\ttrain-rmse:1.80179e+06+137863\ttest-rmse:2.41476e+06+711344\n",
      "[186]\ttrain-rmse:1.79605e+06+137708\ttest-rmse:2.4132e+06+711391\n",
      "[187]\ttrain-rmse:1.79065e+06+137373\ttest-rmse:2.41078e+06+710526\n",
      "[188]\ttrain-rmse:1.78467e+06+137520\ttest-rmse:2.40974e+06+710864\n",
      "[189]\ttrain-rmse:1.77913e+06+137643\ttest-rmse:2.40827e+06+709679\n",
      "[190]\ttrain-rmse:1.77275e+06+137377\ttest-rmse:2.40661e+06+708323\n",
      "[191]\ttrain-rmse:1.768e+06+137548\ttest-rmse:2.40509e+06+708140\n",
      "[192]\ttrain-rmse:1.76209e+06+136839\ttest-rmse:2.40382e+06+706068\n",
      "[193]\ttrain-rmse:1.75609e+06+136719\ttest-rmse:2.4013e+06+705432\n",
      "[194]\ttrain-rmse:1.75072e+06+137420\ttest-rmse:2.39957e+06+704298\n",
      "[195]\ttrain-rmse:1.74575e+06+138204\ttest-rmse:2.39834e+06+703218\n",
      "[196]\ttrain-rmse:1.74012e+06+138286\ttest-rmse:2.39723e+06+702467\n",
      "[197]\ttrain-rmse:1.73517e+06+139131\ttest-rmse:2.39572e+06+702657\n",
      "[198]\ttrain-rmse:1.72991e+06+139053\ttest-rmse:2.39385e+06+701978\n",
      "[199]\ttrain-rmse:1.72468e+06+138997\ttest-rmse:2.39222e+06+701529\n",
      "[200]\ttrain-rmse:1.72023e+06+139525\ttest-rmse:2.39192e+06+701629\n",
      "[201]\ttrain-rmse:1.7154e+06+139796\ttest-rmse:2.38973e+06+700688\n",
      "[202]\ttrain-rmse:1.71003e+06+139839\ttest-rmse:2.38801e+06+700041\n",
      "[203]\ttrain-rmse:1.70528e+06+140150\ttest-rmse:2.38714e+06+699748\n",
      "[204]\ttrain-rmse:1.70029e+06+140327\ttest-rmse:2.38603e+06+699516\n",
      "[205]\ttrain-rmse:1.69549e+06+140884\ttest-rmse:2.38452e+06+699668\n",
      "[206]\ttrain-rmse:1.69087e+06+141011\ttest-rmse:2.38162e+06+699918\n",
      "[207]\ttrain-rmse:1.68566e+06+141265\ttest-rmse:2.38068e+06+698771\n",
      "[208]\ttrain-rmse:1.67999e+06+141416\ttest-rmse:2.37979e+06+698183\n",
      "[209]\ttrain-rmse:1.67533e+06+141027\ttest-rmse:2.37939e+06+697522\n",
      "[210]\ttrain-rmse:1.67043e+06+141228\ttest-rmse:2.37838e+06+695512\n",
      "[211]\ttrain-rmse:1.66622e+06+141221\ttest-rmse:2.37709e+06+695714\n",
      "[212]\ttrain-rmse:1.66225e+06+141553\ttest-rmse:2.37573e+06+694950\n",
      "[213]\ttrain-rmse:1.65786e+06+141103\ttest-rmse:2.37527e+06+693270\n",
      "[214]\ttrain-rmse:1.65359e+06+141729\ttest-rmse:2.37548e+06+692702\n",
      "[215]\ttrain-rmse:1.64901e+06+141659\ttest-rmse:2.37504e+06+691799\n",
      "[216]\ttrain-rmse:1.64444e+06+142042\ttest-rmse:2.3748e+06+691371\n",
      "[217]\ttrain-rmse:1.64062e+06+142102\ttest-rmse:2.37504e+06+690800\n",
      "[218]\ttrain-rmse:1.63651e+06+142494\ttest-rmse:2.3746e+06+690318\n",
      "[219]\ttrain-rmse:1.6328e+06+142843\ttest-rmse:2.37375e+06+689269\n",
      "[220]\ttrain-rmse:1.62883e+06+143332\ttest-rmse:2.37295e+06+688810\n",
      "[221]\ttrain-rmse:1.6256e+06+143326\ttest-rmse:2.37198e+06+688018\n",
      "[222]\ttrain-rmse:1.62167e+06+143097\ttest-rmse:2.37175e+06+687012\n",
      "[223]\ttrain-rmse:1.61759e+06+142334\ttest-rmse:2.36938e+06+686456\n",
      "[224]\ttrain-rmse:1.61375e+06+142643\ttest-rmse:2.36812e+06+686819\n",
      "[225]\ttrain-rmse:1.61043e+06+142745\ttest-rmse:2.36681e+06+687146\n",
      "[226]\ttrain-rmse:1.60634e+06+143242\ttest-rmse:2.36528e+06+686274\n",
      "[227]\ttrain-rmse:1.60259e+06+143438\ttest-rmse:2.36572e+06+685585\n",
      "[228]\ttrain-rmse:1.5991e+06+143757\ttest-rmse:2.36609e+06+684874\n",
      "[229]\ttrain-rmse:1.59527e+06+143800\ttest-rmse:2.36498e+06+685323\n",
      "[230]\ttrain-rmse:1.59117e+06+144016\ttest-rmse:2.36529e+06+684110\n",
      "[231]\ttrain-rmse:1.58726e+06+144214\ttest-rmse:2.36443e+06+683384\n",
      "[232]\ttrain-rmse:1.58405e+06+144482\ttest-rmse:2.36373e+06+684107\n",
      "[233]\ttrain-rmse:1.58093e+06+144934\ttest-rmse:2.36388e+06+684182\n",
      "[234]\ttrain-rmse:1.57755e+06+145059\ttest-rmse:2.36323e+06+682937\n",
      "[235]\ttrain-rmse:1.57405e+06+145552\ttest-rmse:2.36401e+06+682442\n",
      "[236]\ttrain-rmse:1.5708e+06+146067\ttest-rmse:2.36315e+06+681026\n",
      "[237]\ttrain-rmse:1.56807e+06+145738\ttest-rmse:2.36235e+06+680958\n",
      "[238]\ttrain-rmse:1.56477e+06+145964\ttest-rmse:2.36256e+06+680632\n",
      "[239]\ttrain-rmse:1.56161e+06+146606\ttest-rmse:2.36179e+06+679436\n",
      "[240]\ttrain-rmse:1.55821e+06+146721\ttest-rmse:2.36097e+06+678374\n",
      "[241]\ttrain-rmse:1.55499e+06+146863\ttest-rmse:2.3594e+06+677317\n",
      "[242]\ttrain-rmse:1.55199e+06+146805\ttest-rmse:2.35966e+06+676094\n",
      "[243]\ttrain-rmse:1.54887e+06+147590\ttest-rmse:2.35927e+06+675301\n",
      "[244]\ttrain-rmse:1.54576e+06+147531\ttest-rmse:2.35949e+06+675095\n",
      "[245]\ttrain-rmse:1.54278e+06+147530\ttest-rmse:2.35821e+06+675377\n",
      "[246]\ttrain-rmse:1.5403e+06+148027\ttest-rmse:2.35631e+06+676100\n",
      "[247]\ttrain-rmse:1.53763e+06+148537\ttest-rmse:2.35545e+06+676382\n",
      "[248]\ttrain-rmse:1.53441e+06+148862\ttest-rmse:2.35579e+06+675859\n",
      "[249]\ttrain-rmse:1.5307e+06+149006\ttest-rmse:2.35581e+06+674149\n",
      "[250]\ttrain-rmse:1.52742e+06+148893\ttest-rmse:2.35616e+06+673115\n",
      "[251]\ttrain-rmse:1.52385e+06+148826\ttest-rmse:2.35601e+06+672658\n",
      "[252]\ttrain-rmse:1.52125e+06+149254\ttest-rmse:2.35458e+06+672242\n",
      "[253]\ttrain-rmse:1.51795e+06+149296\ttest-rmse:2.35383e+06+671089\n",
      "[254]\ttrain-rmse:1.51489e+06+149171\ttest-rmse:2.35487e+06+670372\n",
      "[255]\ttrain-rmse:1.5116e+06+149148\ttest-rmse:2.35358e+06+670806\n"
     ]
    },
    {
     "name": "stdout",
     "output_type": "stream",
     "text": [
      "[256]\ttrain-rmse:1.50814e+06+148576\ttest-rmse:2.35192e+06+671022\n",
      "[257]\ttrain-rmse:1.50531e+06+148561\ttest-rmse:2.35083e+06+671629\n",
      "[258]\ttrain-rmse:1.50237e+06+148775\ttest-rmse:2.34943e+06+671500\n",
      "[259]\ttrain-rmse:1.49955e+06+149287\ttest-rmse:2.34803e+06+670870\n",
      "[260]\ttrain-rmse:1.49666e+06+149502\ttest-rmse:2.34698e+06+671561\n",
      "[261]\ttrain-rmse:1.49396e+06+149726\ttest-rmse:2.34538e+06+672273\n",
      "[262]\ttrain-rmse:1.4913e+06+149887\ttest-rmse:2.34607e+06+671749\n",
      "[263]\ttrain-rmse:1.48827e+06+150113\ttest-rmse:2.34655e+06+670872\n",
      "[264]\ttrain-rmse:1.48531e+06+150207\ttest-rmse:2.34673e+06+669490\n",
      "[265]\ttrain-rmse:1.48223e+06+150224\ttest-rmse:2.34551e+06+669451\n",
      "[266]\ttrain-rmse:1.47974e+06+150237\ttest-rmse:2.3449e+06+668833\n",
      "[267]\ttrain-rmse:1.47643e+06+150020\ttest-rmse:2.34531e+06+669277\n",
      "[268]\ttrain-rmse:1.47396e+06+149756\ttest-rmse:2.34617e+06+668071\n",
      "[269]\ttrain-rmse:1.47099e+06+149810\ttest-rmse:2.34668e+06+667570\n",
      "[270]\ttrain-rmse:1.46819e+06+149368\ttest-rmse:2.34731e+06+667692\n",
      "[271]\ttrain-rmse:1.46566e+06+149602\ttest-rmse:2.34775e+06+667530\n",
      "[272]\ttrain-rmse:1.4631e+06+149616\ttest-rmse:2.34769e+06+666774\n",
      "[273]\ttrain-rmse:1.46034e+06+149727\ttest-rmse:2.34882e+06+665654\n",
      "[274]\ttrain-rmse:1.45773e+06+149901\ttest-rmse:2.3478e+06+665683\n",
      "[275]\ttrain-rmse:1.45553e+06+149830\ttest-rmse:2.34747e+06+665986\n",
      "[276]\ttrain-rmse:1.45275e+06+150002\ttest-rmse:2.34768e+06+665845\n",
      "[277]\ttrain-rmse:1.45008e+06+150278\ttest-rmse:2.34695e+06+665656\n",
      "[278]\ttrain-rmse:1.44778e+06+150560\ttest-rmse:2.34682e+06+664073\n",
      "[279]\ttrain-rmse:1.44522e+06+150627\ttest-rmse:2.34775e+06+664389\n",
      "[280]\ttrain-rmse:1.44266e+06+150798\ttest-rmse:2.34836e+06+663603\n",
      "[281]\ttrain-rmse:1.43985e+06+150867\ttest-rmse:2.34939e+06+663319\n",
      "[282]\ttrain-rmse:1.43759e+06+151100\ttest-rmse:2.34876e+06+663363\n",
      "[283]\ttrain-rmse:1.43534e+06+151154\ttest-rmse:2.34851e+06+663452\n",
      "[284]\ttrain-rmse:1.43299e+06+150721\ttest-rmse:2.34791e+06+663898\n",
      "[285]\ttrain-rmse:1.43068e+06+150320\ttest-rmse:2.34909e+06+663173\n",
      "[286]\ttrain-rmse:1.42822e+06+150555\ttest-rmse:2.34877e+06+661990\n",
      "[287]\ttrain-rmse:1.42577e+06+150532\ttest-rmse:2.34867e+06+661244\n",
      "[288]\ttrain-rmse:1.42335e+06+150594\ttest-rmse:2.34877e+06+660710\n",
      "[289]\ttrain-rmse:1.42089e+06+150644\ttest-rmse:2.34813e+06+661481\n",
      "[290]\ttrain-rmse:1.41876e+06+150449\ttest-rmse:2.34789e+06+661471\n",
      "[291]\ttrain-rmse:1.41636e+06+150631\ttest-rmse:2.34835e+06+661880\n",
      "[292]\ttrain-rmse:1.41428e+06+150967\ttest-rmse:2.34745e+06+661527\n",
      "[293]\ttrain-rmse:1.41184e+06+150993\ttest-rmse:2.34651e+06+661276\n",
      "[294]\ttrain-rmse:1.40975e+06+150824\ttest-rmse:2.34595e+06+660195\n",
      "[295]\ttrain-rmse:1.40767e+06+150749\ttest-rmse:2.34588e+06+659918\n"
     ]
    }
   ],
   "source": [
    "xgbCV = xgb.cv(\n",
    "    params = hyperparameters_boosting, \n",
    "    dtrain = trainDMat, \n",
    "    num_boost_round = num_boost_round,\n",
    "    nfold = 6, #same as CV\n",
    "    metrics = {'rmse'},\n",
    "    early_stopping_rounds = early_stopping_rounds,\n",
    "    verbose_eval = True,     \n",
    ")"
   ]
  },
  {
   "cell_type": "markdown",
   "metadata": {},
   "source": [
    "# Finalise XGboost model"
   ]
  },
  {
   "cell_type": "code",
   "execution_count": 187,
   "metadata": {},
   "outputs": [],
   "source": [
    "num_boost_round = len(xgbCV)\n",
    "\n",
    "xgbFinal = xgb.train(\n",
    "    params = hyperparameters_boosting, \n",
    "    dtrain = trainDMat, \n",
    "    num_boost_round = num_boost_round,\n",
    ")"
   ]
  },
  {
   "cell_type": "code",
   "execution_count": 188,
   "metadata": {
    "collapsed": true
   },
   "outputs": [
    {
     "data": {
      "text/plain": [
       "<matplotlib.axes._subplots.AxesSubplot at 0x1c2713c908>"
      ]
     },
     "execution_count": 188,
     "metadata": {},
     "output_type": "execute_result"
    },
    {
     "data": {
      "image/png": "[encoded data removed]",
      "text/plain": [
       "<Figure size 1440x1440 with 1 Axes>"
      ]
     },
     "metadata": {
      "needs_background": "light"
     },
     "output_type": "display_data"
    }
   ],
   "source": [
    "fig, ax = plt.subplots(figsize=(20, 20))\n",
    "xgb.plot_importance(xgbFinal, ax=ax)"
   ]
  },
  {
   "cell_type": "markdown",
   "metadata": {},
   "source": [
    "# Prediction for Kaggle Submission"
   ]
  },
  {
   "cell_type": "code",
   "execution_count": 173,
   "metadata": {},
   "outputs": [],
   "source": [
    "xgbFinal_submission = xgbFinal.predict(xgb.DMatrix(test_rf_x_interaction))\n",
    "xgbFinal_submission = np.exp(xgbFinal_submission)"
   ]
  },
  {
   "cell_type": "code",
   "execution_count": 189,
   "metadata": {},
   "outputs": [],
   "source": [
    "xgbFinal_submission = xgbFinal.predict(xgb.DMatrix(test_rf_x_interaction))"
   ]
  },
  {
   "cell_type": "code",
   "execution_count": 200,
   "metadata": {},
   "outputs": [],
   "source": [
    "xgbFinal_submission = best_rf.predict(test_rf_x_interaction)\n",
    "xgbFinal_submission = np.exp(xgbFinal_submission)"
   ]
  },
  {
   "cell_type": "code",
   "execution_count": 201,
   "metadata": {},
   "outputs": [],
   "source": [
    "## Other submission style\n",
    "## Creating a Submission File to submit to Kaggle competition ##\n",
    "testData = pd.read_csv(\"test.csv\")\n",
    "submission = pd.DataFrame({\n",
    "        \"Id\": testData[\"Id\"],\n",
    "        \"Prediction\": xgbFinal_submission\n",
    "    })\n",
    "submission.to_csv('XGboost_full_model_interaction_without_boosting_16th_trial.csv',header=True, index=False)"
   ]
  }
 ],
 "metadata": {
  "kernelspec": {
   "display_name": "Python 3",
   "language": "python",
   "name": "python3"
  },
  "language_info": {
   "codemirror_mode": {
    "name": "ipython",
    "version": 3
   },
   "file_extension": ".py",
   "mimetype": "text/x-python",
   "name": "python",
   "nbconvert_exporter": "python",
   "pygments_lexer": "ipython3",
   "version": "3.7.3"
  }
 },
 "nbformat": 4,
 "nbformat_minor": 2
}
