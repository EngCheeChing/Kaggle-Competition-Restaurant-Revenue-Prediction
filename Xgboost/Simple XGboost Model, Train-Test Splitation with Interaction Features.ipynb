{
 "cells": [
  {
   "cell_type": "code",
   "execution_count": 1,
   "metadata": {},
   "outputs": [
    {
     "data": {
      "text/html": [
       "        <script type=\"text/javascript\">\n",
       "        window.PlotlyConfig = {MathJaxConfig: 'local'};\n",
       "        if (window.MathJax) {MathJax.Hub.Config({SVG: {font: \"STIX-Web\"}});}\n",
       "        if (typeof require !== 'undefined') {\n",
       "        require.undef(\"plotly\");\n",
       "        requirejs.config({\n",
       "            paths: {\n",
       "                'plotly': ['https://cdn.plot.ly/plotly-latest.min']\n",
       "            }\n",
       "        });\n",
       "        require(['plotly'], function(Plotly) {\n",
       "            window._Plotly = Plotly;\n",
       "        });\n",
       "        }\n",
       "        </script>\n",
       "        "
      ]
     },
     "metadata": {},
     "output_type": "display_data"
    },
    {
     "data": {
      "text/html": [
       "        <script type=\"text/javascript\">\n",
       "        window.PlotlyConfig = {MathJaxConfig: 'local'};\n",
       "        if (window.MathJax) {MathJax.Hub.Config({SVG: {font: \"STIX-Web\"}});}\n",
       "        if (typeof require !== 'undefined') {\n",
       "        require.undef(\"plotly\");\n",
       "        requirejs.config({\n",
       "            paths: {\n",
       "                'plotly': ['https://cdn.plot.ly/plotly-latest.min']\n",
       "            }\n",
       "        });\n",
       "        require(['plotly'], function(Plotly) {\n",
       "            window._Plotly = Plotly;\n",
       "        });\n",
       "        }\n",
       "        </script>\n",
       "        "
      ]
     },
     "metadata": {},
     "output_type": "display_data"
    }
   ],
   "source": [
    "import pandas as pd\n",
    "import numpy as np\n",
    "import plotly.plotly as py\n",
    "import plotly.graph_objs as go\n",
    "from plotly.offline import iplot, init_notebook_mode\n",
    "import matplotlib.pyplot as plt\n",
    "import seaborn as sns\n",
    "import cufflinks\n",
    "cufflinks.go_offline(connected=True)\n",
    "init_notebook_mode(connected=True)\n",
    "from sklearn.metrics import mean_squared_error,mean_absolute_error\n",
    "from statsmodels.tools.eval_measures import rmse\n",
    "from sklearn.ensemble import RandomForestClassifier\n",
    "from sklearn.model_selection import cross_val_score\n",
    "from sklearn.model_selection import train_test_split\n",
    "pd.set_option('display.max_row', 100)\n",
    "pd.set_option('display.max_column', 150)\n",
    "\n",
    "import warnings\n",
    "warnings.filterwarnings('ignore')"
   ]
  },
  {
   "cell_type": "code",
   "execution_count": 2,
   "metadata": {},
   "outputs": [],
   "source": [
    "train = pd.read_csv(\"train.csv\")\n",
    "test = pd.read_csv(\"test.csv\")\n",
    "Submission = pd.read_csv(\"sampleSubmission.csv\")"
   ]
  },
  {
   "cell_type": "code",
   "execution_count": 3,
   "metadata": {},
   "outputs": [],
   "source": [
    "train_x = train.drop(\"revenue\",axis=1)\n",
    "train_y = pd.DataFrame(train[\"revenue\"])"
   ]
  },
  {
   "cell_type": "code",
   "execution_count": 4,
   "metadata": {},
   "outputs": [
    {
     "name": "stdout",
     "output_type": "stream",
     "text": [
      "(137, 42)\n",
      "(100000, 42)\n"
     ]
    }
   ],
   "source": [
    "print(train_x.shape)\n",
    "print(test.shape)"
   ]
  },
  {
   "cell_type": "code",
   "execution_count": 5,
   "metadata": {},
   "outputs": [
    {
     "name": "stdout",
     "output_type": "stream",
     "text": [
      "(100137, 42)\n",
      "0\n"
     ]
    }
   ],
   "source": [
    "data = pd.concat([train_x,test])\n",
    "print(data.shape)\n",
    "print(data.isnull().sum().sum())"
   ]
  },
  {
   "cell_type": "code",
   "execution_count": 6,
   "metadata": {},
   "outputs": [],
   "source": [
    "def create_dummies(df,column_name):\n",
    "    dummies = pd.get_dummies(df[column_name],prefix=column_name)\n",
    "    df = pd.concat([df,dummies],axis=1)\n",
    "    return df"
   ]
  },
  {
   "cell_type": "code",
   "execution_count": 7,
   "metadata": {},
   "outputs": [],
   "source": [
    "def feature_engineer(df):\n",
    "    df = df.astype(float,errors=\"ignore\")\n",
    "    df[\"Open Date\"] = pd.to_datetime(df[\"Open Date\"], format='%m/%d/%Y')\n",
    "    df = df.set_index(\"Open Date\")\n",
    "    df[\"Open_Year\"] = df.index.year\n",
    "    df[\"Open_Month\"] = df.index.month\n",
    "    df = df.reset_index(drop=True)\n",
    "    df = create_dummies(df,\"Type\")\n",
    "    df = create_dummies(df,\"City Group\")\n",
    "    df = create_dummies(df,\"City\")\n",
    "    df = create_dummies(df,\"Open_Year\")\n",
    "    df = create_dummies(df,\"Open_Month\")\n",
    "    df = df.drop([\"City\",\"City Group\",\"Type\",\"Open_Year\",\"Open_Month\"],axis=1)\n",
    "    return df"
   ]
  },
  {
   "cell_type": "code",
   "execution_count": 8,
   "metadata": {},
   "outputs": [],
   "source": [
    "data_rf = feature_engineer(data)"
   ]
  },
  {
   "cell_type": "code",
   "execution_count": 9,
   "metadata": {},
   "outputs": [
    {
     "name": "stdout",
     "output_type": "stream",
     "text": [
      "(137, 139)\n",
      "(100000, 139)\n"
     ]
    }
   ],
   "source": [
    "train_rf_x = data_rf[:137]\n",
    "test_x = data_rf[137:]\n",
    "print(train_rf_x.shape)\n",
    "print(test_x.shape)"
   ]
  },
  {
   "cell_type": "code",
   "execution_count": 10,
   "metadata": {},
   "outputs": [],
   "source": [
    "train_rf_x = train_rf_x.drop(\"Id\",axis=1)\n",
    "Submission_id = pd.DataFrame(test_x[\"Id\"]).astype(int).reset_index(drop=True)\n",
    "test_rf_x = test_x.drop(\"Id\",axis=1).reset_index(drop=True)"
   ]
  },
  {
   "cell_type": "code",
   "execution_count": 11,
   "metadata": {},
   "outputs": [
    {
     "name": "stdout",
     "output_type": "stream",
     "text": [
      "(137, 138)\n",
      "(137, 1)\n",
      "(100000, 138)\n",
      "(100000, 1)\n"
     ]
    }
   ],
   "source": [
    "print(train_rf_x.shape) # Performed features normalization\n",
    "print(train_y.shape)\n",
    "print(test_rf_x.shape) # Performed features normalization\n",
    "print(Submission_id.shape)"
   ]
  },
  {
   "cell_type": "code",
   "execution_count": 12,
   "metadata": {},
   "outputs": [
    {
     "name": "stdout",
     "output_type": "stream",
     "text": [
      "0\n",
      "True\n"
     ]
    }
   ],
   "source": [
    "# Transform features only, and need no inverse_transform back\n",
    "from sklearn.preprocessing import StandardScaler\n",
    "train_score_scaler = StandardScaler()\n",
    "test_score_scaler = StandardScaler()\n",
    "normalize_train = pd.DataFrame(train_score_scaler.fit_transform(train_rf_x.loc[:,\"P1\":\"P37\"]),columns = train_rf_x.loc[:,\"P1\":\"P37\"].columns)\n",
    "normalize_test = pd.DataFrame(test_score_scaler.fit_transform(test_rf_x.loc[:,\"P1\":\"P37\"]),columns = test_rf_x.loc[:,\"P1\":\"P37\"].columns)\n",
    "# z- score transformation for train_rf_x & test_rf_x\n",
    "train_rf_x.loc[:,\"P1\":\"P37\"] = normalize_train\n",
    "test_rf_x.loc[:,\"P1\":\"P37\"] = normalize_test\n",
    "print(test_rf_x.isnull().sum().sum())\n",
    "print(train_rf_x.loc[:,\"P1\":\"P37\"].equals(normalize_train))"
   ]
  },
  {
   "cell_type": "code",
   "execution_count": 13,
   "metadata": {},
   "outputs": [],
   "source": [
    "# transformation for Train_y\n",
    "train_y_scaler = StandardScaler()\n",
    "normalize_train_y = pd.DataFrame(train_y_scaler.fit_transform(train_y),columns = train_y.columns)\n",
    "log_transform_y = train_y.apply(np.log)"
   ]
  },
  {
   "cell_type": "markdown",
   "metadata": {},
   "source": [
    "# Feature Engineering Part_2: Create N-way interaction features"
   ]
  },
  {
   "cell_type": "code",
   "execution_count": 14,
   "metadata": {},
   "outputs": [],
   "source": [
    "from sklearn.preprocessing import PolynomialFeatures"
   ]
  },
  {
   "cell_type": "code",
   "execution_count": 15,
   "metadata": {},
   "outputs": [],
   "source": [
    "# The interaction features can be as 2-way interaction, 3 way or more by adjusting the polynomial degree\n",
    "n_way_interactions = PolynomialFeatures(2, interaction_only=True, include_bias=False)"
   ]
  },
  {
   "cell_type": "code",
   "execution_count": 16,
   "metadata": {},
   "outputs": [],
   "source": [
    "n_way_interactions_columns = ['P1', 'P2', 'P3', 'P4', 'P5', 'P6', 'P7', 'P8', 'P9', 'P10', 'P11',\n",
    "       'P12', 'P13', 'P14', 'P15', 'P16', 'P17', 'P18', 'P19', 'P20', 'P21',\n",
    "       'P22', 'P23', 'P24', 'P25', 'P26', 'P27', 'P28', 'P29', 'P30', 'P31',\n",
    "       'P32', 'P33', 'P34', 'P35', 'P36', 'P37']"
   ]
  },
  {
   "cell_type": "code",
   "execution_count": 17,
   "metadata": {},
   "outputs": [],
   "source": [
    "train_interactions = pd.DataFrame(n_way_interactions.fit_transform(train_rf_x[n_way_interactions_columns]),columns = n_way_interactions.get_feature_names(train_rf_x[n_way_interactions_columns].columns))\n",
    "test_interactions = pd.DataFrame(n_way_interactions.fit_transform(test_rf_x[n_way_interactions_columns]),columns = n_way_interactions.get_feature_names(test_rf_x[n_way_interactions_columns].columns))"
   ]
  },
  {
   "cell_type": "code",
   "execution_count": 18,
   "metadata": {},
   "outputs": [
    {
     "name": "stdout",
     "output_type": "stream",
     "text": [
      "(137, 767)\n",
      "(100000, 767)\n"
     ]
    }
   ],
   "source": [
    "train_rf_x_interaction = pd.concat([train_rf_x,train_interactions],axis=1).drop(n_way_interactions_columns,axis=1)\n",
    "test_rf_x_interaction = pd.concat([test_rf_x,test_interactions],axis=1).drop(n_way_interactions_columns,axis=1)\n",
    "print(train_rf_x_interaction.shape)\n",
    "print(test_rf_x_interaction.shape)"
   ]
  },
  {
   "cell_type": "markdown",
   "metadata": {},
   "source": [
    "# XGboost, Grid Search with Features without interaction & log_transformation_y_"
   ]
  },
  {
   "cell_type": "code",
   "execution_count": 15,
   "metadata": {},
   "outputs": [],
   "source": [
    "import xgboost as xgb\n",
    "from sklearn.model_selection import cross_val_score\n",
    "from sklearn.model_selection import GridSearchCV\n",
    "from sklearn.metrics import confusion_matrix, mean_squared_error\n",
    "import pickle"
   ]
  },
  {
   "cell_type": "code",
   "execution_count": 82,
   "metadata": {},
   "outputs": [],
   "source": [
    "hyperparameters_dict = {\"learning_rate\": [0.1,0.2,0.3],              # range: [0,1], default = 0.3\n",
    "                   # Minimum loss reduction required to make a further partition on a leaf node of the tree. \n",
    "                   # The larger gamma is, the more conservative the algorithm will be.                   \n",
    "                   \"gamma\": [i/10.0 for i in range(1,10,2)],\n",
    "                   # Maximum depth of a tree. \n",
    "                   # Increasing this value will make the model more complex and more likely to overfit\n",
    "                   \"max_depth\": [6], \n",
    "                   # Used to control over-fitting\n",
    "                   # Too high values can lead to under-fitting hence, it should be tuned using grid search\n",
    "                   \"min_child_weight\": [1],\n",
    "                   # Usually this parameter is not needed, but it might help in logistic regression when class is extremely imbalanced\n",
    "                   \"max_delta_step\": [0],\n",
    "                   # Denotes the fraction of observations to be randomly samples for each tree\n",
    "                   # Typical values: 0.5-1\n",
    "                   \"subsample\": [0.8],\n",
    "                   # Similar to max_features in GBM, Typical values: 0.5 - 1\n",
    "                   # Denotes the fraction of columns to be randomly samples for each tree.\n",
    "                   \"colsample_bytree\": [0.8,1],\n",
    "                   \"colsample_bylevel\": [1], # colsample_bytree will control the decision over this, default = 1\n",
    "                   \"colsample_bynode\": [1],  # colsample_bytree will control the decision over this, default = 1\n",
    "                   # L2 regularization term on weights. Increasing this value will make model more conservative.\n",
    "                   \"reg_lambda\": [1], # default = 1\n",
    "                   # L1 regularization term on weights. Increasing this value will make model more conservative.\n",
    "                   \"reg_alpha\": [1],  # default = 0\n",
    "                   # Control the balance of positive and negative weights, useful for unbalanced classes. \n",
    "                   # A typical value to consider: sum(negative instances) / sum(positive instances)\n",
    "                   \"scale_pos_weight\": [1],\n",
    "                   # No. of trees ensemble, too high sometimes still can cause overfitting\n",
    "                   \"n_estimators\": [300,400], \n",
    "                   \"booster\": [\"gbtree\"],\n",
    "                   \"verbosity\": [1],\n",
    "                   \"objective\": [\"reg:squarederror\"],\n",
    "                   \"seed\": [50]\n",
    "                   }"
   ]
  },
  {
   "cell_type": "code",
   "execution_count": 103,
   "metadata": {},
   "outputs": [],
   "source": [
    "hyperparameters_tuning = {'learning_rate': [0.1],               # 6th when boosting\n",
    "                          'gamma': [0.7],                       # 3rd\n",
    "                          'max_depth': [8],                     # 1st to tune\n",
    "                          'min_child_weight': [1],              # 2nd\n",
    "                          'max_delta_step': [0],\n",
    "                          'subsample': [0.8],                   # 4th\n",
    "                          'colsample_bytree': [0.8],            # 4th \n",
    "                          'colsample_bylevel': [1],\n",
    "                          'colsample_bynode': [1],\n",
    "                          'reg_lambda': [1],                    # 5th\n",
    "                          'reg_alpha': [0],                     # 5th\n",
    "                          'scale_pos_weight': [1.0],            # only when dealing with imbalance classes\n",
    "                          'n_estimators': [300],                # 1st\n",
    "                          \"booster\": [\"gbtree\"],\n",
    "                          \"verbosity\": [1],\n",
    "                          \"objective\": [\"reg:squarederror\"],\n",
    "                          \"seed\": [50]\n",
    "                         }                "
   ]
  },
  {
   "cell_type": "code",
   "execution_count": 88,
   "metadata": {},
   "outputs": [],
   "source": [
    "# General Parameters setting inside Regressor\n",
    "xgboost = xgb.XGBRegressor()"
   ]
  },
  {
   "cell_type": "code",
   "execution_count": 89,
   "metadata": {},
   "outputs": [],
   "source": [
    "xgboost_grid = GridSearchCV(estimator = xgboost, param_grid = hyperparameters_tuning, cv = 6, iid = False, scoring=\"neg_mean_squared_error\")"
   ]
  },
  {
   "cell_type": "code",
   "execution_count": 90,
   "metadata": {},
   "outputs": [
    {
     "data": {
      "text/plain": [
       "GridSearchCV(cv=6, error_score='raise-deprecating',\n",
       "       estimator=XGBRegressor(base_score=0.5, booster='gbtree', colsample_bylevel=1,\n",
       "       colsample_bynode=1, colsample_bytree=1, gamma=0,\n",
       "       importance_type='gain', learning_rate=0.1, max_delta_step=0,\n",
       "       max_depth=3, min_child_weight=1, missing=None, n_estimators=100,\n",
       "       n_jobs=1, nthread=None, objective='reg:linear', random_state=0,\n",
       "       reg_alpha=0, reg_lambda=1, scale_pos_weight=1, seed=None,\n",
       "       silent=None, subsample=1, verbosity=1),\n",
       "       fit_params=None, iid=False, n_jobs=None,\n",
       "       param_grid={'learning_rate': [0.1], 'gamma': [0.7], 'max_depth': [8], 'min_child_weight': [1], 'max_delta_step': [0], 'subsample': [0.8], 'colsample_bytree': [0.8], 'colsample_bylevel': [1], 'colsample_bynode': [1], 'reg_lambda': [1], 'reg_alpha': [0], 'scale_pos_weight': [1.0], 'n_estimators': [300], 'booster': ['gbtree'], 'verbosity': [1], 'objective': ['reg:squarederror'], 'seed': [50]},\n",
       "       pre_dispatch='2*n_jobs', refit=True, return_train_score='warn',\n",
       "       scoring='neg_mean_squared_error', verbose=0)"
      ]
     },
     "execution_count": 90,
     "metadata": {},
     "output_type": "execute_result"
    }
   ],
   "source": [
    "xgboost_grid.fit(Train_X,Train_Y)"
   ]
  },
  {
   "cell_type": "code",
   "execution_count": 91,
   "metadata": {},
   "outputs": [
    {
     "name": "stdout",
     "output_type": "stream",
     "text": [
      "-0.18228427347345297\n",
      "XGBRegressor(base_score=0.5, booster='gbtree', colsample_bylevel=1,\n",
      "       colsample_bynode=1, colsample_bytree=0.8, gamma=0.7,\n",
      "       importance_type='gain', learning_rate=0.1, max_delta_step=0,\n",
      "       max_depth=8, min_child_weight=1, missing=None, n_estimators=300,\n",
      "       n_jobs=1, nthread=None, objective='reg:squarederror',\n",
      "       random_state=0, reg_alpha=0, reg_lambda=1, scale_pos_weight=1.0,\n",
      "       seed=50, silent=None, subsample=0.8, verbosity=1)\n"
     ]
    }
   ],
   "source": [
    "best_cv_score = xgboost_grid.cv_results_ #thus no need train-test split, as cv will automatic run for us \n",
    "best_params = xgboost_grid.best_params_\n",
    "best_score = xgboost_grid.best_score_\n",
    "best_rf = xgboost_grid.best_estimator_\n",
    "best_R2_score = best_rf.score(Train_X,Train_Y)\n",
    "best_score_list.append(best_score)\n",
    "best_params_list.append(best_rf)\n",
    "print(best_score)\n",
    "print(best_R2_score)\n",
    "print(best_rf)"
   ]
  },
  {
   "cell_type": "code",
   "execution_count": 32,
   "metadata": {},
   "outputs": [],
   "source": [
    "# To track the iteration records for parameters tuning\n",
    "best_score_list = []\n",
    "best_params_list = []"
   ]
  },
  {
   "cell_type": "code",
   "execution_count": 92,
   "metadata": {},
   "outputs": [
    {
     "name": "stdout",
     "output_type": "stream",
     "text": [
      "[-0.20102502828586, -0.20102502828586, -0.20102502828586, -0.18228427347345297, -0.1905408579103862, -0.18228427347345297, -0.18321167440992733, -0.18228427347345297, -0.18228427347345297, -0.18228427347345297]\n",
      "[XGBRegressor(base_score=0.5, booster='gbtree', colsample_bylevel=1,\n",
      "       colsample_bynode=1, colsample_bytree=0.8, gamma=0.1,\n",
      "       importance_type='gain', learning_rate=0.1, max_delta_step=0,\n",
      "       max_depth=8, min_child_weight=1, missing=None, n_estimators=300,\n",
      "       n_jobs=1, nthread=None, objective='reg:squarederror',\n",
      "       random_state=0, reg_alpha=0, reg_lambda=1, scale_pos_weight=1,\n",
      "       seed=50, silent=None, subsample=0.8, verbosity=1), XGBRegressor(base_score=0.5, booster='gbtree', colsample_bylevel=1,\n",
      "       colsample_bynode=1, colsample_bytree=0.8, gamma=0.1,\n",
      "       importance_type='gain', learning_rate=0.1, max_delta_step=0,\n",
      "       max_depth=8, min_child_weight=1, missing=None, n_estimators=300,\n",
      "       n_jobs=1, nthread=None, objective='reg:squarederror',\n",
      "       random_state=0, reg_alpha=0, reg_lambda=1, scale_pos_weight=1,\n",
      "       seed=50, silent=None, subsample=0.8, verbosity=1), XGBRegressor(base_score=0.5, booster='gbtree', colsample_bylevel=1,\n",
      "       colsample_bynode=1, colsample_bytree=0.8, gamma=0.1,\n",
      "       importance_type='gain', learning_rate=0.1, max_delta_step=0,\n",
      "       max_depth=8, min_child_weight=1, missing=None, n_estimators=300,\n",
      "       n_jobs=1, nthread=None, objective='reg:squarederror',\n",
      "       random_state=0, reg_alpha=0, reg_lambda=1, scale_pos_weight=1,\n",
      "       seed=50, silent=None, subsample=0.8, verbosity=1), XGBRegressor(base_score=0.5, booster='gbtree', colsample_bylevel=1,\n",
      "       colsample_bynode=1, colsample_bytree=0.8, gamma=0.7,\n",
      "       importance_type='gain', learning_rate=0.1, max_delta_step=0,\n",
      "       max_depth=8, min_child_weight=1, missing=None, n_estimators=300,\n",
      "       n_jobs=1, nthread=None, objective='reg:squarederror',\n",
      "       random_state=0, reg_alpha=0, reg_lambda=1, scale_pos_weight=1,\n",
      "       seed=50, silent=None, subsample=0.8, verbosity=1), XGBRegressor(base_score=0.5, booster='gbtree', colsample_bylevel=1,\n",
      "       colsample_bynode=1, colsample_bytree=0.8, gamma=1.0,\n",
      "       importance_type='gain', learning_rate=0.1, max_delta_step=0,\n",
      "       max_depth=8, min_child_weight=1, missing=None, n_estimators=300,\n",
      "       n_jobs=1, nthread=None, objective='reg:squarederror',\n",
      "       random_state=0, reg_alpha=0, reg_lambda=1, scale_pos_weight=1,\n",
      "       seed=50, silent=None, subsample=0.8, verbosity=1), XGBRegressor(base_score=0.5, booster='gbtree', colsample_bylevel=1,\n",
      "       colsample_bynode=1, colsample_bytree=0.8, gamma=0.7,\n",
      "       importance_type='gain', learning_rate=0.1, max_delta_step=0,\n",
      "       max_depth=8, min_child_weight=1, missing=None, n_estimators=300,\n",
      "       n_jobs=1, nthread=None, objective='reg:squarederror',\n",
      "       random_state=0, reg_alpha=0, reg_lambda=1, scale_pos_weight=1,\n",
      "       seed=50, silent=None, subsample=0.8, verbosity=1), XGBRegressor(base_score=0.5, booster='gbtree', colsample_bylevel=1,\n",
      "       colsample_bynode=1, colsample_bytree=0.8, gamma=0.7,\n",
      "       importance_type='gain', learning_rate=0.1, max_delta_step=0,\n",
      "       max_depth=8, min_child_weight=1, missing=None, n_estimators=300,\n",
      "       n_jobs=1, nthread=None, objective='reg:squarederror',\n",
      "       random_state=0, reg_alpha=1, reg_lambda=0.01, scale_pos_weight=1,\n",
      "       seed=50, silent=None, subsample=0.8, verbosity=1), XGBRegressor(base_score=0.5, booster='gbtree', colsample_bylevel=1,\n",
      "       colsample_bynode=1, colsample_bytree=0.8, gamma=0.7,\n",
      "       importance_type='gain', learning_rate=0.1, max_delta_step=0,\n",
      "       max_depth=8, min_child_weight=1, missing=None, n_estimators=300,\n",
      "       n_jobs=1, nthread=None, objective='reg:squarederror',\n",
      "       random_state=0, reg_alpha=0, reg_lambda=1, scale_pos_weight=1,\n",
      "       seed=50, silent=None, subsample=0.8, verbosity=1), XGBRegressor(base_score=0.5, booster='gbtree', colsample_bylevel=1,\n",
      "       colsample_bynode=1, colsample_bytree=0.8, gamma=0.7,\n",
      "       importance_type='gain', learning_rate=0.1, max_delta_step=0,\n",
      "       max_depth=8, min_child_weight=1, missing=None, n_estimators=300,\n",
      "       n_jobs=1, nthread=None, objective='reg:squarederror',\n",
      "       random_state=0, reg_alpha=0, reg_lambda=1, scale_pos_weight=1.0,\n",
      "       seed=50, silent=None, subsample=0.8, verbosity=1), XGBRegressor(base_score=0.5, booster='gbtree', colsample_bylevel=1,\n",
      "       colsample_bynode=1, colsample_bytree=0.8, gamma=0.7,\n",
      "       importance_type='gain', learning_rate=0.1, max_delta_step=0,\n",
      "       max_depth=8, min_child_weight=1, missing=None, n_estimators=300,\n",
      "       n_jobs=1, nthread=None, objective='reg:squarederror',\n",
      "       random_state=0, reg_alpha=0, reg_lambda=1, scale_pos_weight=1.0,\n",
      "       seed=50, silent=None, subsample=0.8, verbosity=1)]\n"
     ]
    }
   ],
   "source": [
    "print(best_score_list)\n",
    "print(best_params_list)"
   ]
  },
  {
   "cell_type": "code",
   "execution_count": 75,
   "metadata": {},
   "outputs": [],
   "source": [
    "# Another way to easy the tuning process\n",
    "# to tune parameter in smaller grid, conclusion decide by cv_score\n",
    "# cv_params = {'gamma': [i/10.0 for i in range(1,10,2)]}\n",
    "# To update hyperparameters tuning and fix the best choices be constant\n",
    "# hyperparameters2[\"max_depth\"] = grid.best_params_['max_depth']"
   ]
  },
  {
   "cell_type": "markdown",
   "metadata": {},
   "source": [
    "# Create XGBoost's DMatrix, after fine tuning the parameters"
   ]
  },
  {
   "cell_type": "code",
   "execution_count": 105,
   "metadata": {},
   "outputs": [],
   "source": [
    "trainDMat = xgb.DMatrix(data = Train_X, label = Train_Y)\n",
    "testDMat = xgb.DMatrix(data = Test_X, label = Test_Y)"
   ]
  },
  {
   "cell_type": "code",
   "execution_count": 106,
   "metadata": {},
   "outputs": [],
   "source": [
    "# Lower the learning_rate and set a large num_boost_round hyperparameter to ensure convergence. \n",
    "# If convergence is slow, retry with a slightly higher learning rate (e.g. 0.075 instead of 0.05)"
   ]
  },
  {
   "cell_type": "code",
   "execution_count": 107,
   "metadata": {},
   "outputs": [],
   "source": [
    "num_boost_round = 3000\n",
    "early_stopping_rounds = 30\n",
    "# Activates early stopping. CV error needs to decrease at least every <early_stopping_rounds> round(s) to continue.\n",
    "# Last entry in evaluation history is the one from best iteration."
   ]
  },
  {
   "cell_type": "code",
   "execution_count": 111,
   "metadata": {},
   "outputs": [],
   "source": [
    "hyperparameters_boosting = {'learning_rate': 0.1,               # 6th when boosting\n",
    "                          'gamma': 0.7,                       # 3rd\n",
    "                          'max_depth': 8,                     # 1st to tune\n",
    "                          'min_child_weight': 1,              # 2nd\n",
    "                          'max_delta_step': 0,\n",
    "                          'subsample': 0.8,                   # 4th\n",
    "                          'colsample_bytree': 0.8,            # 4th \n",
    "                          'colsample_bylevel': 1,\n",
    "                          'colsample_bynode': 1,\n",
    "                          'reg_lambda': 1,                    # 5th\n",
    "                          'reg_alpha': 0,                     # 5th\n",
    "                          'scale_pos_weight': 1,            # only when dealing with imbalance classes\n",
    "                          'n_estimators': 300,                # 1st\n",
    "                          \"booster\": \"gbtree\",\n",
    "                          \"verbosity\": 1,\n",
    "                          \"objective\": \"reg:squarederror\",\n",
    "                          \"seed\": 50,\n",
    "                          \"eval_metric\": \"rmse\"\n",
    "                         }                "
   ]
  },
  {
   "cell_type": "code",
   "execution_count": 110,
   "metadata": {
    "scrolled": true
   },
   "outputs": [
    {
     "name": "stdout",
     "output_type": "stream",
     "text": [
      "[0]\ttrain-rmse:13.2265+0.0108401\ttest-rmse:13.2261+0.0686147\n",
      "[1]\ttrain-rmse:11.923+0.00953072\ttest-rmse:11.9226+0.0699095\n",
      "[2]\ttrain-rmse:10.748+0.00767675\ttest-rmse:10.7476+0.0713054\n",
      "[3]\ttrain-rmse:9.69106+0.00754386\ttest-rmse:9.69064+0.0710435\n",
      "[4]\ttrain-rmse:8.73765+0.00792305\ttest-rmse:8.7372+0.070929\n",
      "[5]\ttrain-rmse:7.87651+0.00644545\ttest-rmse:7.87605+0.0724131\n",
      "[6]\ttrain-rmse:7.10444+0.00472645\ttest-rmse:7.10395+0.0734492\n",
      "[7]\ttrain-rmse:6.40539+0.00589813\ttest-rmse:6.40488+0.0713949\n",
      "[8]\ttrain-rmse:5.77645+0.00788474\ttest-rmse:5.77591+0.0684892\n",
      "[9]\ttrain-rmse:5.21201+0.00609821\ttest-rmse:5.21144+0.06987\n",
      "[10]\ttrain-rmse:4.70154+0.0072992\ttest-rmse:4.70095+0.0706475\n",
      "[11]\ttrain-rmse:4.24208+0.00539752\ttest-rmse:4.24146+0.0697037\n",
      "[12]\ttrain-rmse:3.83107+0.00446488\ttest-rmse:3.83042+0.0698107\n",
      "[13]\ttrain-rmse:3.45941+0.00547692\ttest-rmse:3.45873+0.0682441\n",
      "[14]\ttrain-rmse:3.12427+0.00337667\ttest-rmse:3.12356+0.0690794\n",
      "[15]\ttrain-rmse:2.82394+0.00293315\ttest-rmse:2.82321+0.0686064\n",
      "[16]\ttrain-rmse:2.55245+0.00344082\ttest-rmse:2.55169+0.0691198\n",
      "[17]\ttrain-rmse:2.30866+0.00340944\ttest-rmse:2.30789+0.0690263\n",
      "[18]\ttrain-rmse:2.09069+0.00190647\ttest-rmse:2.08877+0.0673176\n",
      "[19]\ttrain-rmse:1.89563+0.00157134\ttest-rmse:1.89288+0.0651558\n",
      "[20]\ttrain-rmse:1.71924+0.00310719\ttest-rmse:1.71642+0.0635862\n",
      "[21]\ttrain-rmse:1.56115+0.00301729\ttest-rmse:1.55704+0.0589517\n",
      "[22]\ttrain-rmse:1.42032+0.0047502\ttest-rmse:1.41684+0.0576173\n",
      "[23]\ttrain-rmse:1.29255+0.00604709\ttest-rmse:1.28793+0.0549568\n",
      "[24]\ttrain-rmse:1.17988+0.00617775\ttest-rmse:1.17562+0.0526567\n",
      "[25]\ttrain-rmse:1.07964+0.00568295\ttest-rmse:1.07782+0.0466711\n",
      "[26]\ttrain-rmse:0.988419+0.00638933\ttest-rmse:0.988376+0.0460588\n",
      "[27]\ttrain-rmse:0.907709+0.00627035\ttest-rmse:0.910287+0.0440769\n",
      "[28]\ttrain-rmse:0.835818+0.00720183\ttest-rmse:0.840011+0.0462105\n",
      "[29]\ttrain-rmse:0.77031+0.00766854\ttest-rmse:0.778188+0.0409388\n",
      "[30]\ttrain-rmse:0.713195+0.00581066\ttest-rmse:0.720397+0.0420896\n",
      "[31]\ttrain-rmse:0.663747+0.00707311\ttest-rmse:0.676047+0.0424375\n",
      "[32]\ttrain-rmse:0.619508+0.0084887\ttest-rmse:0.638433+0.0437198\n",
      "[33]\ttrain-rmse:0.580696+0.0107681\ttest-rmse:0.604533+0.0449559\n",
      "[34]\ttrain-rmse:0.547264+0.0118809\ttest-rmse:0.574391+0.0461355\n",
      "[35]\ttrain-rmse:0.518296+0.012312\ttest-rmse:0.547925+0.0487494\n",
      "[36]\ttrain-rmse:0.492989+0.0122151\ttest-rmse:0.527784+0.049126\n",
      "[37]\ttrain-rmse:0.469374+0.0132503\ttest-rmse:0.509155+0.0521865\n",
      "[38]\ttrain-rmse:0.449741+0.0132465\ttest-rmse:0.495181+0.0537365\n",
      "[39]\ttrain-rmse:0.432658+0.0121305\ttest-rmse:0.48134+0.0574534\n",
      "[40]\ttrain-rmse:0.418601+0.0125282\ttest-rmse:0.471057+0.0609391\n",
      "[41]\ttrain-rmse:0.408305+0.014447\ttest-rmse:0.463618+0.0632583\n",
      "[42]\ttrain-rmse:0.397358+0.0120121\ttest-rmse:0.453697+0.06563\n",
      "[43]\ttrain-rmse:0.388107+0.0111166\ttest-rmse:0.447369+0.0674199\n",
      "[44]\ttrain-rmse:0.380169+0.0127054\ttest-rmse:0.442924+0.0693065\n",
      "[45]\ttrain-rmse:0.372917+0.0131953\ttest-rmse:0.439001+0.0721851\n",
      "[46]\ttrain-rmse:0.366523+0.0129365\ttest-rmse:0.43633+0.0763805\n",
      "[47]\ttrain-rmse:0.359989+0.0129183\ttest-rmse:0.433855+0.0751601\n",
      "[48]\ttrain-rmse:0.356066+0.0123479\ttest-rmse:0.431968+0.0759158\n",
      "[49]\ttrain-rmse:0.350672+0.0125301\ttest-rmse:0.429932+0.0770604\n",
      "[50]\ttrain-rmse:0.347564+0.0130389\ttest-rmse:0.427964+0.0777764\n",
      "[51]\ttrain-rmse:0.345744+0.0132051\ttest-rmse:0.426819+0.0783151\n",
      "[52]\ttrain-rmse:0.342406+0.0132204\ttest-rmse:0.425946+0.0787863\n",
      "[53]\ttrain-rmse:0.340343+0.0117521\ttest-rmse:0.424919+0.0794011\n",
      "[54]\ttrain-rmse:0.338287+0.0117097\ttest-rmse:0.425575+0.0796831\n",
      "[55]\ttrain-rmse:0.335442+0.0128891\ttest-rmse:0.424934+0.0801395\n",
      "[56]\ttrain-rmse:0.33352+0.0137034\ttest-rmse:0.424324+0.0811695\n",
      "[57]\ttrain-rmse:0.332179+0.0146473\ttest-rmse:0.423977+0.0813453\n",
      "[58]\ttrain-rmse:0.331624+0.0146007\ttest-rmse:0.423535+0.0816741\n",
      "[59]\ttrain-rmse:0.33128+0.0146713\ttest-rmse:0.423222+0.0819441\n",
      "[60]\ttrain-rmse:0.329912+0.014886\ttest-rmse:0.423701+0.0821476\n",
      "[61]\ttrain-rmse:0.32749+0.0146084\ttest-rmse:0.424395+0.0827921\n",
      "[62]\ttrain-rmse:0.32734+0.0145758\ttest-rmse:0.424227+0.082918\n",
      "[63]\ttrain-rmse:0.325091+0.0141004\ttest-rmse:0.423746+0.0834437\n",
      "[64]\ttrain-rmse:0.32278+0.013771\ttest-rmse:0.423245+0.0837967\n",
      "[65]\ttrain-rmse:0.322049+0.0141147\ttest-rmse:0.423356+0.0835134\n",
      "[66]\ttrain-rmse:0.321935+0.0141429\ttest-rmse:0.423131+0.0834984\n",
      "[67]\ttrain-rmse:0.317809+0.0111611\ttest-rmse:0.422636+0.0837762\n",
      "[68]\ttrain-rmse:0.316643+0.0117564\ttest-rmse:0.422362+0.0834692\n",
      "[69]\ttrain-rmse:0.31661+0.0117407\ttest-rmse:0.422351+0.0835215\n",
      "[70]\ttrain-rmse:0.316607+0.0117413\ttest-rmse:0.422318+0.0835117\n",
      "[71]\ttrain-rmse:0.315031+0.0112967\ttest-rmse:0.421952+0.0834929\n",
      "[72]\ttrain-rmse:0.314402+0.0114531\ttest-rmse:0.422101+0.083835\n",
      "[73]\ttrain-rmse:0.314361+0.01147\ttest-rmse:0.42217+0.0840663\n",
      "[74]\ttrain-rmse:0.314343+0.0114663\ttest-rmse:0.42211+0.084014\n",
      "[75]\ttrain-rmse:0.313232+0.0104368\ttest-rmse:0.421661+0.0842871\n",
      "[76]\ttrain-rmse:0.311406+0.0108032\ttest-rmse:0.422066+0.083641\n",
      "[77]\ttrain-rmse:0.311395+0.0108106\ttest-rmse:0.422088+0.0836775\n",
      "[78]\ttrain-rmse:0.311106+0.0102223\ttest-rmse:0.422398+0.0834679\n",
      "[79]\ttrain-rmse:0.311097+0.0102203\ttest-rmse:0.422336+0.083524\n",
      "[80]\ttrain-rmse:0.311098+0.0102161\ttest-rmse:0.422316+0.0834685\n",
      "[81]\ttrain-rmse:0.311088+0.0102224\ttest-rmse:0.422394+0.0836246\n",
      "[82]\ttrain-rmse:0.31011+0.0105881\ttest-rmse:0.421624+0.0843714\n",
      "[83]\ttrain-rmse:0.308802+0.00957361\ttest-rmse:0.421429+0.0846721\n",
      "[84]\ttrain-rmse:0.308813+0.00957683\ttest-rmse:0.421465+0.084718\n",
      "[85]\ttrain-rmse:0.308801+0.00957823\ttest-rmse:0.421557+0.0848817\n",
      "[86]\ttrain-rmse:0.308793+0.00957818\ttest-rmse:0.421538+0.0848636\n",
      "[87]\ttrain-rmse:0.308794+0.00958093\ttest-rmse:0.421406+0.084849\n",
      "[88]\ttrain-rmse:0.307631+0.00982448\ttest-rmse:0.421248+0.0851338\n",
      "[89]\ttrain-rmse:0.306373+0.011122\ttest-rmse:0.42059+0.0842845\n",
      "[90]\ttrain-rmse:0.306371+0.0111191\ttest-rmse:0.420671+0.0842876\n",
      "[91]\ttrain-rmse:0.306369+0.0111186\ttest-rmse:0.420746+0.0843495\n",
      "[92]\ttrain-rmse:0.306372+0.0111229\ttest-rmse:0.420692+0.0843113\n",
      "[93]\ttrain-rmse:0.306373+0.0111159\ttest-rmse:0.420511+0.0840963\n",
      "[94]\ttrain-rmse:0.30579+0.0113392\ttest-rmse:0.421027+0.0842768\n",
      "[95]\ttrain-rmse:0.305803+0.0113341\ttest-rmse:0.421217+0.0843959\n",
      "[96]\ttrain-rmse:0.305579+0.0114625\ttest-rmse:0.421533+0.0844173\n",
      "[97]\ttrain-rmse:0.305043+0.0114616\ttest-rmse:0.422747+0.0861627\n",
      "[98]\ttrain-rmse:0.305045+0.0114585\ttest-rmse:0.422661+0.0860322\n",
      "[99]\ttrain-rmse:0.304105+0.0121672\ttest-rmse:0.422943+0.0859522\n",
      "[100]\ttrain-rmse:0.303044+0.01333\ttest-rmse:0.422962+0.0859524\n",
      "[101]\ttrain-rmse:0.303035+0.0133383\ttest-rmse:0.422827+0.085978\n",
      "[102]\ttrain-rmse:0.30305+0.0133291\ttest-rmse:0.423005+0.0860695\n",
      "[103]\ttrain-rmse:0.303067+0.0133198\ttest-rmse:0.423137+0.0861819\n",
      "[104]\ttrain-rmse:0.303063+0.0133109\ttest-rmse:0.423165+0.086229\n",
      "[105]\ttrain-rmse:0.303046+0.0133346\ttest-rmse:0.423069+0.0861744\n",
      "[106]\ttrain-rmse:0.303047+0.0133216\ttest-rmse:0.42291+0.0860516\n",
      "[107]\ttrain-rmse:0.303045+0.0133251\ttest-rmse:0.423011+0.0862129\n",
      "[108]\ttrain-rmse:0.303041+0.0133309\ttest-rmse:0.422879+0.0861542\n",
      "[109]\ttrain-rmse:0.303054+0.0133332\ttest-rmse:0.422847+0.0861617\n",
      "[110]\ttrain-rmse:0.303051+0.0133424\ttest-rmse:0.422848+0.0862282\n",
      "[111]\ttrain-rmse:0.303066+0.0133487\ttest-rmse:0.42296+0.0864369\n",
      "[112]\ttrain-rmse:0.303063+0.0133498\ttest-rmse:0.422869+0.0863685\n",
      "[113]\ttrain-rmse:0.30306+0.0133574\ttest-rmse:0.422996+0.0865202\n",
      "[114]\ttrain-rmse:0.300531+0.0104731\ttest-rmse:0.420887+0.0877889\n",
      "[115]\ttrain-rmse:0.300526+0.0104816\ttest-rmse:0.420759+0.0875871\n",
      "[116]\ttrain-rmse:0.300521+0.0104629\ttest-rmse:0.420805+0.0876592\n",
      "[117]\ttrain-rmse:0.300514+0.0104596\ttest-rmse:0.420837+0.0875714\n",
      "[118]\ttrain-rmse:0.300515+0.0104624\ttest-rmse:0.420694+0.0875002\n",
      "[119]\ttrain-rmse:0.300513+0.0104583\ttest-rmse:0.420671+0.0874851\n",
      "[120]\ttrain-rmse:0.299538+0.0103701\ttest-rmse:0.420747+0.087506\n",
      "[121]\ttrain-rmse:0.299544+0.0103712\ttest-rmse:0.420784+0.087511\n",
      "[122]\ttrain-rmse:0.29954+0.0103664\ttest-rmse:0.420803+0.0875337\n"
     ]
    }
   ],
   "source": [
    "xgbCV = xgb.cv(\n",
    "    params = hyperparameters_boosting, \n",
    "    dtrain = trainDMat, \n",
    "    num_boost_round = num_boost_round,\n",
    "    nfold = 6, #same as CV\n",
    "    metrics = {'rmse'},\n",
    "    early_stopping_rounds = early_stopping_rounds,\n",
    "    verbose_eval = True,\n",
    "    seed = 50     \n",
    ")"
   ]
  },
  {
   "cell_type": "markdown",
   "metadata": {},
   "source": [
    "# Finalise XGboost model & Check the Test Set Evaluation"
   ]
  },
  {
   "cell_type": "code",
   "execution_count": 122,
   "metadata": {},
   "outputs": [
    {
     "name": "stdout",
     "output_type": "stream",
     "text": [
      "[0]\ttrain-rmse:13.2243\teval-rmse:13.3321\n",
      "[1]\ttrain-rmse:11.918\teval-rmse:12.026\n",
      "[2]\ttrain-rmse:10.7425\teval-rmse:10.8507\n",
      "[3]\ttrain-rmse:9.68185\teval-rmse:9.79039\n",
      "[4]\ttrain-rmse:8.72594\teval-rmse:8.83477\n",
      "[5]\ttrain-rmse:7.86346\teval-rmse:7.9726\n",
      "[6]\ttrain-rmse:7.09099\teval-rmse:7.20048\n",
      "[7]\ttrain-rmse:6.39675\teval-rmse:6.50662\n",
      "[8]\ttrain-rmse:5.76976\teval-rmse:5.88004\n",
      "[9]\ttrain-rmse:5.2035\teval-rmse:5.31422\n",
      "[10]\ttrain-rmse:4.69459\teval-rmse:4.80579\n",
      "[11]\ttrain-rmse:4.23543\teval-rmse:4.34715\n",
      "[12]\ttrain-rmse:3.81998\teval-rmse:3.93226\n",
      "[13]\ttrain-rmse:3.44473\teval-rmse:3.55761\n",
      "[14]\ttrain-rmse:3.11174\teval-rmse:3.22525\n",
      "[15]\ttrain-rmse:2.8162\teval-rmse:2.93036\n",
      "[16]\ttrain-rmse:2.54667\teval-rmse:2.66153\n",
      "[17]\ttrain-rmse:2.30253\teval-rmse:2.4181\n",
      "[18]\ttrain-rmse:2.08534\teval-rmse:2.20677\n",
      "[19]\ttrain-rmse:1.88762\teval-rmse:2.00984\n",
      "[20]\ttrain-rmse:1.71113\teval-rmse:1.83712\n",
      "[21]\ttrain-rmse:1.55645\teval-rmse:1.6835\n",
      "[22]\ttrain-rmse:1.41298\teval-rmse:1.5445\n",
      "[23]\ttrain-rmse:1.28411\teval-rmse:1.41589\n",
      "[24]\ttrain-rmse:1.16915\teval-rmse:1.30964\n",
      "[25]\ttrain-rmse:1.07025\teval-rmse:1.21436\n",
      "[26]\ttrain-rmse:0.980445\teval-rmse:1.13059\n",
      "[27]\ttrain-rmse:0.900262\teval-rmse:1.05187\n",
      "[28]\ttrain-rmse:0.827534\teval-rmse:0.98699\n",
      "[29]\ttrain-rmse:0.763934\teval-rmse:0.929637\n",
      "[30]\ttrain-rmse:0.710304\teval-rmse:0.875164\n",
      "[31]\ttrain-rmse:0.662336\teval-rmse:0.830516\n",
      "[32]\ttrain-rmse:0.616629\teval-rmse:0.792145\n",
      "[33]\ttrain-rmse:0.578992\teval-rmse:0.755332\n",
      "[34]\ttrain-rmse:0.548017\teval-rmse:0.726042\n",
      "[35]\ttrain-rmse:0.51942\teval-rmse:0.702273\n",
      "[36]\ttrain-rmse:0.492042\teval-rmse:0.67811\n",
      "[37]\ttrain-rmse:0.469458\teval-rmse:0.655242\n",
      "[38]\ttrain-rmse:0.445636\teval-rmse:0.634419\n",
      "[39]\ttrain-rmse:0.431731\teval-rmse:0.619311\n",
      "[40]\ttrain-rmse:0.418739\teval-rmse:0.611438\n",
      "[41]\ttrain-rmse:0.406476\teval-rmse:0.602109\n",
      "[42]\ttrain-rmse:0.390636\teval-rmse:0.589982\n",
      "[43]\ttrain-rmse:0.383121\teval-rmse:0.581033\n",
      "[44]\ttrain-rmse:0.374361\teval-rmse:0.574569\n",
      "[45]\ttrain-rmse:0.369115\teval-rmse:0.567804\n",
      "[46]\ttrain-rmse:0.360104\teval-rmse:0.55992\n",
      "[47]\ttrain-rmse:0.356456\teval-rmse:0.554758\n",
      "[48]\ttrain-rmse:0.349818\teval-rmse:0.551041\n",
      "[49]\ttrain-rmse:0.347123\teval-rmse:0.546753\n",
      "[50]\ttrain-rmse:0.345369\teval-rmse:0.543766\n",
      "[51]\ttrain-rmse:0.343533\teval-rmse:0.540403\n",
      "[52]\ttrain-rmse:0.34192\teval-rmse:0.537158\n",
      "[53]\ttrain-rmse:0.340868\teval-rmse:0.534827\n",
      "[54]\ttrain-rmse:0.340104\teval-rmse:0.532975\n",
      "[55]\ttrain-rmse:0.339349\teval-rmse:0.530949\n",
      "[56]\ttrain-rmse:0.337747\teval-rmse:0.533188\n",
      "[57]\ttrain-rmse:0.337516\teval-rmse:0.53248\n",
      "[58]\ttrain-rmse:0.33732\teval-rmse:0.531851\n",
      "[59]\ttrain-rmse:0.337011\teval-rmse:0.530786\n",
      "[60]\ttrain-rmse:0.333454\teval-rmse:0.532506\n",
      "[61]\ttrain-rmse:0.333129\teval-rmse:0.531277\n",
      "[62]\ttrain-rmse:0.332905\teval-rmse:0.530312\n",
      "[63]\ttrain-rmse:0.327068\teval-rmse:0.530554\n",
      "[64]\ttrain-rmse:0.326996\teval-rmse:0.530162\n",
      "[65]\ttrain-rmse:0.326894\teval-rmse:0.529546\n",
      "[66]\ttrain-rmse:0.321646\teval-rmse:0.532504\n",
      "[67]\ttrain-rmse:0.321632\teval-rmse:0.53241\n",
      "[68]\ttrain-rmse:0.321544\teval-rmse:0.53172\n",
      "[69]\ttrain-rmse:0.321564\teval-rmse:0.531886\n",
      "[70]\ttrain-rmse:0.32153\teval-rmse:0.531596\n",
      "[71]\ttrain-rmse:0.321633\teval-rmse:0.532415\n",
      "[72]\ttrain-rmse:0.321558\teval-rmse:0.531836\n",
      "[73]\ttrain-rmse:0.321567\teval-rmse:0.531918\n",
      "[74]\ttrain-rmse:0.321619\teval-rmse:0.532315\n",
      "[75]\ttrain-rmse:0.321583\teval-rmse:0.532045\n",
      "[76]\ttrain-rmse:0.321546\teval-rmse:0.53174\n",
      "[77]\ttrain-rmse:0.321495\teval-rmse:0.531258\n",
      "[78]\ttrain-rmse:0.321492\teval-rmse:0.531226\n",
      "[79]\ttrain-rmse:0.321543\teval-rmse:0.531713\n",
      "[80]\ttrain-rmse:0.321538\teval-rmse:0.531671\n",
      "[81]\ttrain-rmse:0.321562\teval-rmse:0.531876\n",
      "[82]\ttrain-rmse:0.321571\teval-rmse:0.531944\n",
      "[83]\ttrain-rmse:0.321526\teval-rmse:0.53156\n",
      "[84]\ttrain-rmse:0.321515\teval-rmse:0.531451\n",
      "[85]\ttrain-rmse:0.321581\teval-rmse:0.532024\n",
      "[86]\ttrain-rmse:0.321534\teval-rmse:0.531634\n",
      "[87]\ttrain-rmse:0.321442\teval-rmse:0.530623\n",
      "[88]\ttrain-rmse:0.321428\teval-rmse:0.530407\n",
      "[89]\ttrain-rmse:0.321457\teval-rmse:0.530828\n",
      "[90]\ttrain-rmse:0.321496\teval-rmse:0.53127\n",
      "[91]\ttrain-rmse:0.321491\teval-rmse:0.53121\n",
      "[92]\ttrain-rmse:0.321488\teval-rmse:0.531188\n",
      "[93]\ttrain-rmse:0.321476\teval-rmse:0.531047\n"
     ]
    }
   ],
   "source": [
    "num_boost_round = len(xgbCV)\n",
    "\n",
    "xgbFinal = xgb.train(\n",
    "    params = hyperparameters_boosting, \n",
    "    dtrain = trainDMat, \n",
    "    num_boost_round = num_boost_round,\n",
    "    evals = [(trainDMat, 'train'), \n",
    "             (testDMat, 'eval')]\n",
    ")"
   ]
  },
  {
   "cell_type": "code",
   "execution_count": 123,
   "metadata": {},
   "outputs": [
    {
     "data": {
      "text/plain": [
       "<matplotlib.axes._subplots.AxesSubplot at 0x1c305c7048>"
      ]
     },
     "execution_count": 123,
     "metadata": {},
     "output_type": "execute_result"
    },
    {
     "data": {
      "image/png": "[encoded data removed]",
      "text/plain": [
       "<Figure size 432x288 with 1 Axes>"
      ]
     },
     "metadata": {
      "needs_background": "light"
     },
     "output_type": "display_data"
    }
   ],
   "source": [
    "xgb.plot_importance(xgbFinal)"
   ]
  },
  {
   "cell_type": "code",
   "execution_count": 134,
   "metadata": {},
   "outputs": [],
   "source": [
    "xgbFinal_train_preds = xgbFinal.predict(xgb.DMatrix(Train_X))\n",
    "xgbFinal_test_preds = xgbFinal.predict(xgb.DMatrix(Test_X))"
   ]
  },
  {
   "cell_type": "code",
   "execution_count": 135,
   "metadata": {},
   "outputs": [
    {
     "name": "stdout",
     "output_type": "stream",
     "text": [
      "1.3791614437949278\n",
      "1.7007115927670675\n"
     ]
    }
   ],
   "source": [
    "Train_RMSE = np.sqrt(mean_squared_error(Train_Y,xgbFinal_train_preds))\n",
    "Test_RMSE = np.sqrt(mean_squared_error(Test_Y,xgbFinal_test_preds))\n",
    "Train_RMSE = np.exp(Train_RMSE)\n",
    "Test_RMSE = np.exp(Test_RMSE)\n",
    "print(Train_RMSE)\n",
    "print(Test_RMSE)"
   ]
  },
  {
   "cell_type": "markdown",
   "metadata": {},
   "source": [
    "# Prediction for Kaggle Submission"
   ]
  },
  {
   "cell_type": "code",
   "execution_count": 136,
   "metadata": {},
   "outputs": [],
   "source": [
    "xgbFinal_submission = xgbFinal.predict(xgb.DMatrix(test_rf_x))\n",
    "xgbFinal_submission = np.exp(xgbFinal_submission)"
   ]
  },
  {
   "cell_type": "code",
   "execution_count": 137,
   "metadata": {},
   "outputs": [],
   "source": [
    "## Other submission style\n",
    "## Creating a Submission File to submit to Kaggle competition ##\n",
    "testData = pd.read_csv(\"test.csv\")\n",
    "submission = pd.DataFrame({\n",
    "        \"Id\": testData[\"Id\"],\n",
    "        \"Prediction\": xgbFinal_submission\n",
    "    })\n",
    "submission.to_csv('XGboost_testing_12th_trial.csv',header=True, index=False)"
   ]
  },
  {
   "cell_type": "markdown",
   "metadata": {},
   "source": [
    "# Saving the final model"
   ]
  },
  {
   "cell_type": "code",
   "execution_count": 140,
   "metadata": {},
   "outputs": [],
   "source": [
    "pickle.dump(xgbFinal, open(\"xgbFinal.pickle.dat\", \"wb\"))"
   ]
  },
  {
   "cell_type": "markdown",
   "metadata": {},
   "source": [
    "# Loading the final model"
   ]
  },
  {
   "cell_type": "code",
   "execution_count": 142,
   "metadata": {},
   "outputs": [],
   "source": [
    "xgb_test = pickle.load(open(\"xgbFinal.pickle.dat\", \"rb\"))"
   ]
  },
  {
   "cell_type": "code",
   "execution_count": 143,
   "metadata": {},
   "outputs": [],
   "source": [
    "# Re-forecast the prediction to verify the model\n",
    "xgb_test_p = xgb_test.predict(xgb.DMatrix(test_rf_x))\n",
    "xgb_test_p = np.exp(xgb_test_p)"
   ]
  },
  {
   "cell_type": "code",
   "execution_count": 150,
   "metadata": {},
   "outputs": [
    {
     "data": {
      "text/plain": [
       "100000"
      ]
     },
     "execution_count": 150,
     "metadata": {},
     "output_type": "execute_result"
    }
   ],
   "source": [
    "verify_model = (xgbFinal_submission == xgb_test_p)\n",
    "verify_model.sum()"
   ]
  }
 ],
 "metadata": {
  "kernelspec": {
   "display_name": "Python 3",
   "language": "python",
   "name": "python3"
  },
  "language_info": {
   "codemirror_mode": {
    "name": "ipython",
    "version": 3
   },
   "file_extension": ".py",
   "mimetype": "text/x-python",
   "name": "python",
   "nbconvert_exporter": "python",
   "pygments_lexer": "ipython3",
   "version": "3.7.3"
  }
 },
 "nbformat": 4,
 "nbformat_minor": 2
}
