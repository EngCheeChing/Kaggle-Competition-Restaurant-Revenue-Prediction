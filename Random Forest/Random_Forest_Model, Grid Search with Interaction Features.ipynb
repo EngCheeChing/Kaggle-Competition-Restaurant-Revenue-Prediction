{
 "cells": [
  {
   "cell_type": "code",
   "execution_count": 23,
   "metadata": {},
   "outputs": [
    {
     "data": {
      "text/html": [
       "        <script type=\"text/javascript\">\n",
       "        window.PlotlyConfig = {MathJaxConfig: 'local'};\n",
       "        if (window.MathJax) {MathJax.Hub.Config({SVG: {font: \"STIX-Web\"}});}\n",
       "        if (typeof require !== 'undefined') {\n",
       "        require.undef(\"plotly\");\n",
       "        requirejs.config({\n",
       "            paths: {\n",
       "                'plotly': ['https://cdn.plot.ly/plotly-latest.min']\n",
       "            }\n",
       "        });\n",
       "        require(['plotly'], function(Plotly) {\n",
       "            window._Plotly = Plotly;\n",
       "        });\n",
       "        }\n",
       "        </script>\n",
       "        "
      ]
     },
     "metadata": {},
     "output_type": "display_data"
    },
    {
     "data": {
      "text/html": [
       "        <script type=\"text/javascript\">\n",
       "        window.PlotlyConfig = {MathJaxConfig: 'local'};\n",
       "        if (window.MathJax) {MathJax.Hub.Config({SVG: {font: \"STIX-Web\"}});}\n",
       "        if (typeof require !== 'undefined') {\n",
       "        require.undef(\"plotly\");\n",
       "        requirejs.config({\n",
       "            paths: {\n",
       "                'plotly': ['https://cdn.plot.ly/plotly-latest.min']\n",
       "            }\n",
       "        });\n",
       "        require(['plotly'], function(Plotly) {\n",
       "            window._Plotly = Plotly;\n",
       "        });\n",
       "        }\n",
       "        </script>\n",
       "        "
      ]
     },
     "metadata": {},
     "output_type": "display_data"
    }
   ],
   "source": [
    "import pandas as pd\n",
    "import numpy as np\n",
    "import plotly.plotly as py\n",
    "import plotly.graph_objs as go\n",
    "from plotly.offline import iplot, init_notebook_mode\n",
    "import matplotlib.pyplot as plt\n",
    "import seaborn as sns\n",
    "import cufflinks\n",
    "cufflinks.go_offline(connected=True)\n",
    "init_notebook_mode(connected=True)\n",
    "from sklearn.metrics import mean_squared_error,mean_absolute_error\n",
    "from statsmodels.tools.eval_measures import rmse\n",
    "from sklearn.ensemble import RandomForestClassifier\n",
    "from sklearn.model_selection import cross_val_score\n",
    "from sklearn.model_selection import train_test_split\n",
    "pd.set_option('display.max_row', 100)\n",
    "pd.set_option('display.max_column', 150)\n",
    "\n",
    "import warnings\n",
    "warnings.filterwarnings('ignore')"
   ]
  },
  {
   "cell_type": "code",
   "execution_count": 24,
   "metadata": {},
   "outputs": [],
   "source": [
    "train = pd.read_csv(\"train.csv\")\n",
    "test = pd.read_csv(\"test.csv\")\n",
    "Submission = pd.read_csv(\"sampleSubmission.csv\")"
   ]
  },
  {
   "cell_type": "code",
   "execution_count": 25,
   "metadata": {},
   "outputs": [],
   "source": [
    "train_x = train.drop(\"revenue\",axis=1)\n",
    "train_y = pd.DataFrame(train[\"revenue\"])"
   ]
  },
  {
   "cell_type": "code",
   "execution_count": 26,
   "metadata": {},
   "outputs": [
    {
     "name": "stdout",
     "output_type": "stream",
     "text": [
      "(137, 42)\n",
      "(100000, 42)\n"
     ]
    }
   ],
   "source": [
    "print(train_x.shape)\n",
    "print(test.shape)"
   ]
  },
  {
   "cell_type": "code",
   "execution_count": 27,
   "metadata": {},
   "outputs": [
    {
     "name": "stdout",
     "output_type": "stream",
     "text": [
      "(100137, 42)\n",
      "0\n"
     ]
    }
   ],
   "source": [
    "data = pd.concat([train_x,test])\n",
    "print(data.shape)\n",
    "print(data.isnull().sum().sum())"
   ]
  },
  {
   "cell_type": "code",
   "execution_count": 28,
   "metadata": {},
   "outputs": [],
   "source": [
    "def create_dummies(df,column_name):\n",
    "    dummies = pd.get_dummies(df[column_name],prefix=column_name)\n",
    "    df = pd.concat([df,dummies],axis=1)\n",
    "    return df"
   ]
  },
  {
   "cell_type": "code",
   "execution_count": 29,
   "metadata": {},
   "outputs": [],
   "source": [
    "def feature_engineer(df):\n",
    "    df = df.astype(float,errors=\"ignore\")\n",
    "    df[\"Open Date\"] = pd.to_datetime(df[\"Open Date\"], format='%m/%d/%Y')\n",
    "    df = df.set_index(\"Open Date\")\n",
    "    df[\"Open_Year\"] = df.index.year\n",
    "    df[\"Open_Month\"] = df.index.month\n",
    "    df = df.reset_index(drop=True)\n",
    "    df = create_dummies(df,\"Type\")\n",
    "    df = create_dummies(df,\"City Group\")\n",
    "    df = create_dummies(df,\"City\")\n",
    "    df = create_dummies(df,\"Open_Year\")\n",
    "    df = create_dummies(df,\"Open_Month\")\n",
    "    df = df.drop([\"City\",\"City Group\",\"Type\",\"Open_Year\",\"Open_Month\"],axis=1)\n",
    "    return df"
   ]
  },
  {
   "cell_type": "code",
   "execution_count": 30,
   "metadata": {},
   "outputs": [],
   "source": [
    "data_rf = feature_engineer(data)"
   ]
  },
  {
   "cell_type": "code",
   "execution_count": 31,
   "metadata": {},
   "outputs": [
    {
     "name": "stdout",
     "output_type": "stream",
     "text": [
      "(137, 139)\n",
      "(100000, 139)\n"
     ]
    }
   ],
   "source": [
    "train_rf_x = data_rf[:137]\n",
    "test_x = data_rf[137:]\n",
    "print(train_rf_x.shape)\n",
    "print(test_x.shape)"
   ]
  },
  {
   "cell_type": "code",
   "execution_count": 32,
   "metadata": {},
   "outputs": [],
   "source": [
    "train_rf_x = train_rf_x.drop(\"Id\",axis=1)\n",
    "Submission_id = pd.DataFrame(test_x[\"Id\"]).astype(int).reset_index(drop=True)\n",
    "test_rf_x = test_x.drop(\"Id\",axis=1).reset_index(drop=True)"
   ]
  },
  {
   "cell_type": "code",
   "execution_count": 33,
   "metadata": {},
   "outputs": [
    {
     "name": "stdout",
     "output_type": "stream",
     "text": [
      "(137, 138)\n",
      "(137, 1)\n",
      "(100000, 138)\n",
      "(100000, 1)\n"
     ]
    }
   ],
   "source": [
    "print(train_rf_x.shape) # Perform features normalization\n",
    "print(train_y.shape)\n",
    "print(test_rf_x.shape) # Perform features normalization\n",
    "print(Submission_id.shape)"
   ]
  },
  {
   "cell_type": "code",
   "execution_count": 34,
   "metadata": {},
   "outputs": [
    {
     "name": "stdout",
     "output_type": "stream",
     "text": [
      "0\n",
      "True\n"
     ]
    }
   ],
   "source": [
    "# Transform features only, and need no inverse_transform back\n",
    "from sklearn.preprocessing import StandardScaler\n",
    "train_score_scaler = StandardScaler()\n",
    "test_score_scaler = StandardScaler()\n",
    "normalize_train = pd.DataFrame(train_score_scaler.fit_transform(train_rf_x.loc[:,\"P1\":\"P37\"]),columns = train_rf_x.loc[:,\"P1\":\"P37\"].columns)\n",
    "normalize_test = pd.DataFrame(test_score_scaler.fit_transform(test_rf_x.loc[:,\"P1\":\"P37\"]),columns = test_rf_x.loc[:,\"P1\":\"P37\"].columns)\n",
    "# z- score transformation for train_rf_x & test_rf_x\n",
    "train_rf_x.loc[:,\"P1\":\"P37\"] = normalize_train\n",
    "test_rf_x.loc[:,\"P1\":\"P37\"] = normalize_test\n",
    "print(test_rf_x.isnull().sum().sum())\n",
    "print(train_rf_x.loc[:,\"P1\":\"P37\"].equals(normalize_train))"
   ]
  },
  {
   "cell_type": "code",
   "execution_count": 35,
   "metadata": {},
   "outputs": [],
   "source": [
    "# transformation for Train_y\n",
    "train_y_scaler = StandardScaler()\n",
    "normalize_train_y = pd.DataFrame(train_y_scaler.fit_transform(train_y),columns = train_y.columns)\n",
    "log_transform_y = train_y.apply(np.log)"
   ]
  },
  {
   "cell_type": "markdown",
   "metadata": {},
   "source": [
    "# Feature Engineering: Create N-way interaction features"
   ]
  },
  {
   "cell_type": "code",
   "execution_count": 36,
   "metadata": {},
   "outputs": [],
   "source": [
    "from sklearn.preprocessing import PolynomialFeatures"
   ]
  },
  {
   "cell_type": "code",
   "execution_count": 37,
   "metadata": {},
   "outputs": [],
   "source": [
    "# The interaction features can be as 2-way interaction, 3 way or more by adjusting the polynomial degree\n",
    "n_way_interactions = PolynomialFeatures(2, interaction_only=True, include_bias=False)"
   ]
  },
  {
   "cell_type": "code",
   "execution_count": 38,
   "metadata": {},
   "outputs": [],
   "source": [
    "n_way_interactions_columns = ['P1', 'P2', 'P3', 'P4', 'P5', 'P6', 'P7', 'P8', 'P9', 'P10', 'P11',\n",
    "       'P12', 'P13', 'P14', 'P15', 'P16', 'P17', 'P18', 'P19', 'P20', 'P21',\n",
    "       'P22', 'P23', 'P24', 'P25', 'P26', 'P27', 'P28', 'P29', 'P30', 'P31',\n",
    "       'P32', 'P33', 'P34', 'P35', 'P36', 'P37']"
   ]
  },
  {
   "cell_type": "code",
   "execution_count": 39,
   "metadata": {},
   "outputs": [],
   "source": [
    "train_interactions = pd.DataFrame(n_way_interactions.fit_transform(train_rf_x[n_way_interactions_columns]),columns = n_way_interactions.get_feature_names(train_rf_x[n_way_interactions_columns].columns))\n",
    "test_interactions = pd.DataFrame(n_way_interactions.fit_transform(test_rf_x[n_way_interactions_columns]),columns = n_way_interactions.get_feature_names(test_rf_x[n_way_interactions_columns].columns))"
   ]
  },
  {
   "cell_type": "code",
   "execution_count": 40,
   "metadata": {},
   "outputs": [
    {
     "name": "stdout",
     "output_type": "stream",
     "text": [
      "(137, 767)\n",
      "(100000, 767)\n"
     ]
    }
   ],
   "source": [
    "train_rf_x_interaction = pd.concat([train_rf_x,train_interactions],axis=1).drop(n_way_interactions_columns,axis=1)\n",
    "test_rf_x_interaction = pd.concat([test_rf_x,test_interactions],axis=1).drop(n_way_interactions_columns,axis=1)\n",
    "print(train_rf_x_interaction.shape)\n",
    "print(test_rf_x_interaction.shape)"
   ]
  },
  {
   "cell_type": "markdown",
   "metadata": {},
   "source": [
    "# Train_Test_Split"
   ]
  },
  {
   "cell_type": "code",
   "execution_count": 41,
   "metadata": {},
   "outputs": [],
   "source": [
    "# Train_test_split\n",
    "Train_X, Test_X, Train_Y, Test_Y = train_test_split(train_rf_x, log_transform_y, test_size=0.20,random_state = 1)"
   ]
  },
  {
   "cell_type": "markdown",
   "metadata": {},
   "source": [
    "# Random Forest Regressor, Grid Search with log_transformation_y"
   ]
  },
  {
   "cell_type": "code",
   "execution_count": 42,
   "metadata": {},
   "outputs": [],
   "source": [
    "from sklearn.ensemble import RandomForestRegressor\n",
    "from sklearn.model_selection import cross_val_score\n",
    "from sklearn.model_selection import GridSearchCV"
   ]
  },
  {
   "cell_type": "code",
   "execution_count": 43,
   "metadata": {},
   "outputs": [],
   "source": [
    "hyperparameters = {\"criterion\": [\"mse\"],\n",
    "                   \"max_depth\": [None],   \n",
    "                   \"max_features\": [\"auto\",\"log2\", \"sqrt\",0.5], \n",
    "                   \"min_samples_split\": [2,4],\n",
    "                   \"n_estimators\": [300,400,500,600,700,800,900,1000],\n",
    "                   \"oob_score\": [True,False],\n",
    "                  }"
   ]
  },
  {
   "cell_type": "code",
   "execution_count": 44,
   "metadata": {},
   "outputs": [],
   "source": [
    "hyperparameters2 = {\"criterion\": [\"mse\"],\n",
    "                   \"max_depth\": [None],   \n",
    "                   \"max_features\": [\"auto\",\"log2\", \"sqrt\"],\n",
    "                   \"min_samples_split\": [2,4], \n",
    "                   \"n_estimators\": [30,60,80,100,200,300,400]\n",
    "                  }"
   ]
  },
  {
   "cell_type": "code",
   "execution_count": 45,
   "metadata": {},
   "outputs": [
    {
     "data": {
      "text/plain": [
       "GridSearchCV(cv=6, error_score='raise-deprecating',\n",
       "       estimator=RandomForestRegressor(bootstrap=True, criterion='mse', max_depth=None,\n",
       "           max_features='auto', max_leaf_nodes=None,\n",
       "           min_impurity_decrease=0.0, min_impurity_split=None,\n",
       "           min_samples_leaf=1, min_samples_split=2,\n",
       "           min_weight_fraction_leaf=0.0, n_estimators='warn', n_jobs=None,\n",
       "           oob_score=False, random_state=None, verbose=0, warm_start=False),\n",
       "       fit_params=None, iid='warn', n_jobs=None,\n",
       "       param_grid={'criterion': ['mse'], 'max_depth': [None], 'max_features': ['auto', 'log2', 'sqrt'], 'min_samples_split': [2, 4], 'n_estimators': [30, 60, 80, 100, 200]},\n",
       "       pre_dispatch='2*n_jobs', refit=True, return_train_score='warn',\n",
       "       scoring=None, verbose=0)"
      ]
     },
     "execution_count": 45,
     "metadata": {},
     "output_type": "execute_result"
    }
   ],
   "source": [
    "cls = RandomForestRegressor()\n",
    "grid = GridSearchCV(cls,param_grid=hyperparameters2,cv=6)\n",
    "grid.fit(train_rf_x_interaction, log_transform_y)"
   ]
  },
  {
   "cell_type": "code",
   "execution_count": 46,
   "metadata": {},
   "outputs": [
    {
     "name": "stdout",
     "output_type": "stream",
     "text": [
      "{'criterion': 'mse', 'max_depth': None, 'max_features': 'log2', 'min_samples_split': 4, 'n_estimators': 80}\n",
      "0.14906281208574632\n",
      "RandomForestRegressor(bootstrap=True, criterion='mse', max_depth=None,\n",
      "           max_features='log2', max_leaf_nodes=None,\n",
      "           min_impurity_decrease=0.0, min_impurity_split=None,\n",
      "           min_samples_leaf=1, min_samples_split=4,\n",
      "           min_weight_fraction_leaf=0.0, n_estimators=80, n_jobs=None,\n",
      "           oob_score=False, random_state=None, verbose=0, warm_start=False)\n"
     ]
    }
   ],
   "source": [
    "best_params = grid.best_params_\n",
    "best_score = grid.best_score_\n",
    "best_rf = grid.best_estimator_\n",
    "print(best_params)\n",
    "print(best_score)\n",
    "print(best_rf)"
   ]
  },
  {
   "cell_type": "code",
   "execution_count": 47,
   "metadata": {},
   "outputs": [
    {
     "name": "stdout",
     "output_type": "stream",
     "text": [
      "[ 0.16951943  0.03904301  0.26035376  0.15365182  0.32043636 -0.0698795 ]\n",
      "0.14552081155375965\n"
     ]
    }
   ],
   "source": [
    "scores = cross_val_score(best_rf, train_rf_x_interaction, log_transform_y, cv=6)\n",
    "accuracy_rf = scores.mean()\n",
    "print(scores)\n",
    "print(accuracy_rf)"
   ]
  },
  {
   "cell_type": "code",
   "execution_count": 48,
   "metadata": {},
   "outputs": [
    {
     "data": {
      "text/plain": [
       "0.8109682374262545"
      ]
     },
     "execution_count": 48,
     "metadata": {},
     "output_type": "execute_result"
    }
   ],
   "source": [
    "best_rf.score(train_rf_x_interaction,log_transform_y)"
   ]
  },
  {
   "cell_type": "code",
   "execution_count": 49,
   "metadata": {},
   "outputs": [],
   "source": [
    "pred = best_rf.predict(test_rf_x_interaction)"
   ]
  },
  {
   "cell_type": "code",
   "execution_count": 50,
   "metadata": {},
   "outputs": [],
   "source": [
    "pred = np.exp(pred)"
   ]
  },
  {
   "cell_type": "code",
   "execution_count": 51,
   "metadata": {},
   "outputs": [],
   "source": [
    "## Other submission style\n",
    "## Creating a Submission File to submit to Kaggle competition ##\n",
    "testData = pd.read_csv(\"test.csv\")\n",
    "submission = pd.DataFrame({\n",
    "        \"Id\": testData[\"Id\"],\n",
    "        \"Prediction\": pred\n",
    "    })\n",
    "submission.to_csv('RandomForestSimple_log_interaction_features_9th_trial.csv',header=True, index=False)"
   ]
  },
  {
   "cell_type": "markdown",
   "metadata": {},
   "source": [
    "# Random Forest Regressor, Grid Search with z-score Normalization_y"
   ]
  },
  {
   "cell_type": "code",
   "execution_count": 52,
   "metadata": {},
   "outputs": [],
   "source": [
    "from sklearn.ensemble import RandomForestRegressor\n",
    "from sklearn.model_selection import cross_val_score\n",
    "from sklearn.model_selection import GridSearchCV"
   ]
  },
  {
   "cell_type": "code",
   "execution_count": 53,
   "metadata": {},
   "outputs": [],
   "source": [
    "hyperparameters = {\"criterion\": [\"mse\"],\n",
    "                   \"max_depth\": [None],   # Use for regularization, prevent overfitting\n",
    "                   \"max_features\": [\"auto\",\"log2\", \"sqrt\",0.5], # Use for regularization, prevent overfitting\n",
    "                   \"min_samples_split\": [2,4], # Use for regularization, prevent overfitting\n",
    "                   \"n_estimators\": [300,400,500,600,700,800,900,1000],\n",
    "                   \"oob_score\": [True,False],\n",
    "                  }"
   ]
  },
  {
   "cell_type": "code",
   "execution_count": 54,
   "metadata": {},
   "outputs": [],
   "source": [
    "hyperparameters2 = {\"criterion\": [\"mse\"],\n",
    "                   \"max_depth\": [None],   # Use for regularization, prevent overfitting\n",
    "                   \"max_features\": [\"auto\",\"log2\", \"sqrt\"], # Use for regularization, prevent overfitting\n",
    "                   \"min_samples_split\": [2,4], # Use for regularization, prevent overfitting\n",
    "                   \"n_estimators\": [30,60,80,100,200,300,400] # Many ensemble trees reduces overfitting\n",
    "                  }"
   ]
  },
  {
   "cell_type": "code",
   "execution_count": 55,
   "metadata": {},
   "outputs": [
    {
     "data": {
      "text/plain": [
       "GridSearchCV(cv=6, error_score='raise-deprecating',\n",
       "       estimator=RandomForestRegressor(bootstrap=True, criterion='mse', max_depth=None,\n",
       "           max_features='auto', max_leaf_nodes=None,\n",
       "           min_impurity_decrease=0.0, min_impurity_split=None,\n",
       "           min_samples_leaf=1, min_samples_split=2,\n",
       "           min_weight_fraction_leaf=0.0, n_estimators='warn', n_jobs=None,\n",
       "           oob_score=False, random_state=None, verbose=0, warm_start=False),\n",
       "       fit_params=None, iid='warn', n_jobs=None,\n",
       "       param_grid={'criterion': ['mse'], 'max_depth': [None], 'max_features': ['auto', 'log2', 'sqrt'], 'min_samples_split': [2, 4], 'n_estimators': [30, 60, 80, 100, 200, 300, 400]},\n",
       "       pre_dispatch='2*n_jobs', refit=True, return_train_score='warn',\n",
       "       scoring=None, verbose=0)"
      ]
     },
     "execution_count": 55,
     "metadata": {},
     "output_type": "execute_result"
    }
   ],
   "source": [
    "cls = RandomForestRegressor()\n",
    "grid = GridSearchCV(cls,param_grid=hyperparameters2,cv=6)\n",
    "grid.fit(train_rf_x_interaction, normalize_train_y)"
   ]
  },
  {
   "cell_type": "code",
   "execution_count": 56,
   "metadata": {},
   "outputs": [
    {
     "name": "stdout",
     "output_type": "stream",
     "text": [
      "{'criterion': 'mse', 'max_depth': None, 'max_features': 'auto', 'min_samples_split': 2, 'n_estimators': 30}\n",
      "0.032854049477246246\n",
      "RandomForestRegressor(bootstrap=True, criterion='mse', max_depth=None,\n",
      "           max_features='auto', max_leaf_nodes=None,\n",
      "           min_impurity_decrease=0.0, min_impurity_split=None,\n",
      "           min_samples_leaf=1, min_samples_split=2,\n",
      "           min_weight_fraction_leaf=0.0, n_estimators=30, n_jobs=None,\n",
      "           oob_score=False, random_state=None, verbose=0, warm_start=False)\n"
     ]
    }
   ],
   "source": [
    "best_params = grid.best_params_\n",
    "best_score = grid.best_score_\n",
    "best_rf = grid.best_estimator_\n",
    "print(best_params)\n",
    "print(best_score)\n",
    "print(best_rf)"
   ]
  },
  {
   "cell_type": "code",
   "execution_count": 57,
   "metadata": {},
   "outputs": [
    {
     "name": "stdout",
     "output_type": "stream",
     "text": [
      "[ 0.06955238 -0.13615583  0.26602754 -0.20222923  0.08959258 -0.32799559]\n",
      "-0.0402013583190666\n"
     ]
    }
   ],
   "source": [
    "scores = cross_val_score(best_rf, train_rf_x_interaction, normalize_train_y, cv=6)\n",
    "accuracy_rf = scores.mean()\n",
    "print(scores)\n",
    "print(accuracy_rf)"
   ]
  },
  {
   "cell_type": "code",
   "execution_count": 58,
   "metadata": {},
   "outputs": [
    {
     "data": {
      "text/plain": [
       "0.8373624300986184"
      ]
     },
     "execution_count": 58,
     "metadata": {},
     "output_type": "execute_result"
    }
   ],
   "source": [
    "best_rf.score(train_rf_x_interaction,normalize_train_y)"
   ]
  },
  {
   "cell_type": "code",
   "execution_count": 59,
   "metadata": {},
   "outputs": [],
   "source": [
    "pred = best_rf.predict(test_rf_x_interaction)"
   ]
  },
  {
   "cell_type": "code",
   "execution_count": 60,
   "metadata": {},
   "outputs": [],
   "source": [
    "pred = train_y_scaler.inverse_transform(pred)"
   ]
  },
  {
   "cell_type": "code",
   "execution_count": 61,
   "metadata": {},
   "outputs": [],
   "source": [
    "## Other submission style\n",
    "## Creating a Submission File to submit to Kaggle competition ##\n",
    "testData = pd.read_csv(\"test.csv\")\n",
    "submission = pd.DataFrame({\n",
    "        \"Id\": testData[\"Id\"],\n",
    "        \"Prediction\": pred\n",
    "    })\n",
    "submission.to_csv('RandomForestSimple_z-score_interaction_features_10th_trial.csv',header=True, index=False)"
   ]
  }
 ],
 "metadata": {
  "kernelspec": {
   "display_name": "Python 3",
   "language": "python",
   "name": "python3"
  },
  "language_info": {
   "codemirror_mode": {
    "name": "ipython",
    "version": 3
   },
   "file_extension": ".py",
   "mimetype": "text/x-python",
   "name": "python",
   "nbconvert_exporter": "python",
   "pygments_lexer": "ipython3",
   "version": "3.7.3"
  }
 },
 "nbformat": 4,
 "nbformat_minor": 2
}
