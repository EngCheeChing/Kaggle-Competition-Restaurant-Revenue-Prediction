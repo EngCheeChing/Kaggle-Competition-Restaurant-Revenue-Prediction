{
 "cells": [
  {
   "cell_type": "code",
   "execution_count": null,
   "metadata": {},
   "outputs": [],
   "source": [
    "import pandas as pd\n",
    "import numpy as np\n",
    "import plotly.plotly as py\n",
    "import plotly.graph_objs as go\n",
    "from plotly.offline import iplot, init_notebook_mode\n",
    "import matplotlib.pyplot as plt\n",
    "import seaborn as sns\n",
    "import cufflinks\n",
    "cufflinks.go_offline(connected=True)\n",
    "init_notebook_mode(connected=True)\n",
    "from sklearn.metrics import mean_squared_error,mean_absolute_error\n",
    "from statsmodels.tools.eval_measures import rmse\n",
    "from sklearn.ensemble import RandomForestClassifier\n",
    "from sklearn.model_selection import cross_val_score\n",
    "from sklearn.model_selection import train_test_split\n",
    "pd.set_option('display.max_row', 100)\n",
    "pd.set_option('display.max_column', 150)\n",
    "\n",
    "import warnings\n",
    "warnings.filterwarnings('ignore')"
   ]
  },
  {
   "cell_type": "code",
   "execution_count": null,
   "metadata": {},
   "outputs": [],
   "source": [
    "train = pd.read_csv(\"train.csv\")\n",
    "test = pd.read_csv(\"test.csv\")\n",
    "Submission = pd.read_csv(\"sampleSubmission.csv\")"
   ]
  },
  {
   "cell_type": "code",
   "execution_count": null,
   "metadata": {},
   "outputs": [],
   "source": [
    "train_x = train.drop(\"revenue\",axis=1)\n",
    "train_y = pd.DataFrame(train[\"revenue\"])"
   ]
  },
  {
   "cell_type": "code",
   "execution_count": null,
   "metadata": {},
   "outputs": [],
   "source": [
    "print(train_x.shape)\n",
    "print(test.shape)"
   ]
  },
  {
   "cell_type": "code",
   "execution_count": null,
   "metadata": {},
   "outputs": [],
   "source": [
    "data = pd.concat([train_x,test])\n",
    "print(data.shape)\n",
    "print(data.isnull().sum().sum())"
   ]
  },
  {
   "cell_type": "code",
   "execution_count": null,
   "metadata": {},
   "outputs": [],
   "source": [
    "def create_dummies(df,column_name):\n",
    "    dummies = pd.get_dummies(df[column_name],prefix=column_name)\n",
    "    df = pd.concat([df,dummies],axis=1)\n",
    "    return df"
   ]
  },
  {
   "cell_type": "code",
   "execution_count": null,
   "metadata": {},
   "outputs": [],
   "source": [
    "def feature_engineer(df):\n",
    "    df = df.astype(float,errors=\"ignore\")\n",
    "    df[\"Open Date\"] = pd.to_datetime(df[\"Open Date\"], format='%m/%d/%Y')\n",
    "    df = df.set_index(\"Open Date\")\n",
    "    df[\"Open_Year\"] = df.index.year\n",
    "    df[\"Open_Month\"] = df.index.month\n",
    "    df = df.reset_index(drop=True)\n",
    "    df = create_dummies(df,\"Type\")\n",
    "    df = create_dummies(df,\"City Group\")\n",
    "    df = create_dummies(df,\"City\")\n",
    "    df = create_dummies(df,\"Open_Year\")\n",
    "    df = create_dummies(df,\"Open_Month\")\n",
    "    df = df.drop([\"City\",\"City Group\",\"Type\",\"Open_Year\",\"Open_Month\"],axis=1)\n",
    "    return df"
   ]
  },
  {
   "cell_type": "code",
   "execution_count": null,
   "metadata": {},
   "outputs": [],
   "source": [
    "data_rf = feature_engineer(data)"
   ]
  },
  {
   "cell_type": "code",
   "execution_count": null,
   "metadata": {},
   "outputs": [],
   "source": [
    "train_rf_x = data_rf[:137]\n",
    "test_x = data_rf[137:]\n",
    "print(train_rf_x.shape)\n",
    "print(test_x.shape)"
   ]
  },
  {
   "cell_type": "code",
   "execution_count": null,
   "metadata": {},
   "outputs": [],
   "source": [
    "train_rf_x = train_rf_x.drop(\"Id\",axis=1)\n",
    "Submission_id = pd.DataFrame(test_x[\"Id\"]).astype(int).reset_index(drop=True)\n",
    "test_rf_x = test_x.drop(\"Id\",axis=1).reset_index(drop=True)"
   ]
  },
  {
   "cell_type": "code",
   "execution_count": null,
   "metadata": {},
   "outputs": [],
   "source": [
    "print(train_rf_x.shape) # Perform features normalization\n",
    "print(train_y.shape)\n",
    "print(test_rf_x.shape) # Perform features normalization\n",
    "print(Submission_id.shape)"
   ]
  },
  {
   "cell_type": "code",
   "execution_count": null,
   "metadata": {},
   "outputs": [],
   "source": [
    "# Transform features only, and need no inverse_transform back\n",
    "from sklearn.preprocessing import StandardScaler\n",
    "train_score_scaler = StandardScaler()\n",
    "test_score_scaler = StandardScaler()\n",
    "normalize_train = pd.DataFrame(train_score_scaler.fit_transform(train_rf_x.loc[:,\"P1\":\"P37\"]),columns = train_rf_x.loc[:,\"P1\":\"P37\"].columns)\n",
    "normalize_test = pd.DataFrame(test_score_scaler.fit_transform(test_rf_x.loc[:,\"P1\":\"P37\"]),columns = test_rf_x.loc[:,\"P1\":\"P37\"].columns)\n",
    "# z- score transformation for train_rf_x & test_rf_x\n",
    "train_rf_x.loc[:,\"P1\":\"P37\"] = normalize_train\n",
    "test_rf_x.loc[:,\"P1\":\"P37\"] = normalize_test\n",
    "print(test_rf_x.isnull().sum().sum())\n",
    "print(train_rf_x.loc[:,\"P1\":\"P37\"].equals(normalize_train))"
   ]
  },
  {
   "cell_type": "code",
   "execution_count": null,
   "metadata": {},
   "outputs": [],
   "source": [
    "# transformation for Train_y\n",
    "train_y_scaler = StandardScaler()\n",
    "normalize_train_y = pd.DataFrame(train_y_scaler.fit_transform(train_y),columns = train_y.columns)\n",
    "log_transform_y = train_y.apply(np.log)"
   ]
  },
  {
   "cell_type": "markdown",
   "metadata": {},
   "source": [
    "# Feature Engineering Part_1: Remove Low Correlation features"
   ]
  },
  {
   "cell_type": "code",
   "execution_count": null,
   "metadata": {},
   "outputs": [],
   "source": [
    "def plot_correlation_heatmap(df):\n",
    "    corr = df.corr()\n",
    "    \n",
    "    sns.set(style=\"white\")\n",
    "    mask = np.zeros_like(corr, dtype=np.bool)\n",
    "    mask[np.triu_indices_from(mask)] = True\n",
    "\n",
    "    f, ax = plt.subplots(figsize=(20, 20))\n",
    "    cmap = sns.diverging_palette(220, 10, as_cmap=True)\n",
    "\n",
    "\n",
    "    sns.heatmap(corr, mask=mask, cmap=cmap, vmax=.3, center=0,\n",
    "            square=True, linewidths=.5, cbar_kws={\"shrink\": .5})\n",
    "    plt.show()"
   ]
  },
  {
   "cell_type": "code",
   "execution_count": null,
   "metadata": {},
   "outputs": [],
   "source": [
    "features_train = pd.concat([train_rf_x,log_transform_y],axis=1)"
   ]
  },
  {
   "cell_type": "code",
   "execution_count": null,
   "metadata": {},
   "outputs": [],
   "source": [
    "heat_map_columns = ['P1', 'P2', 'P3', 'P4', 'P5', 'P6', 'P7', 'P8', 'P9', 'P10', 'P11',\n",
    "       'P12', 'P13', 'P14', 'P15', 'P16', 'P17', 'P18', 'P19', 'P20', 'P21',\n",
    "       'P22', 'P23', 'P24', 'P25', 'P26', 'P27', 'P28', 'P29', 'P30', 'P31',\n",
    "       'P32', 'P33', 'P34', 'P35', 'P36', 'P37',\"revenue\"]"
   ]
  },
  {
   "cell_type": "code",
   "execution_count": null,
   "metadata": {},
   "outputs": [],
   "source": [
    "plot_correlation_heatmap(features_train[heat_map_columns])"
   ]
  },
  {
   "cell_type": "code",
   "execution_count": null,
   "metadata": {},
   "outputs": [],
   "source": [
    "# Sort the correlation values with the target columns revenue only\n",
    "features_train_revenue_corr = features_train[features_train.columns[:]].corr()['revenue'][:-1].abs().sort_values(ascending=False)\n",
    "revenue_corr_filter = features_train_revenue_corr[features_train_revenue_corr > 0.04]\n",
    "print(features_train_revenue_corr)"
   ]
  },
  {
   "cell_type": "code",
   "execution_count": null,
   "metadata": {},
   "outputs": [],
   "source": [
    "revenue_corr_filter_columns = revenue_corr_filter.index"
   ]
  },
  {
   "cell_type": "code",
   "execution_count": null,
   "metadata": {},
   "outputs": [],
   "source": [
    "train_rf_x_engine = train_rf_x[revenue_corr_filter_columns]\n",
    "test_rf_x_engine = test_rf_x[revenue_corr_filter_columns]"
   ]
  },
  {
   "cell_type": "markdown",
   "metadata": {},
   "source": [
    "# Random Forest Regressor, Grid Search with only significant correlation Features & log_transformation_y"
   ]
  },
  {
   "cell_type": "code",
   "execution_count": null,
   "metadata": {},
   "outputs": [],
   "source": [
    "from sklearn.ensemble import RandomForestRegressor\n",
    "from sklearn.model_selection import cross_val_score\n",
    "from sklearn.model_selection import GridSearchCV"
   ]
  },
  {
   "cell_type": "code",
   "execution_count": null,
   "metadata": {},
   "outputs": [],
   "source": [
    "hyperparameters = {\"criterion\": [\"mse\"],\n",
    "                   \"max_depth\": [None],   # Use for regularization, prevent overfitting\n",
    "                   \"max_features\": [\"auto\",\"log2\", \"sqrt\",0.5], # Use for regularization, prevent overfitting\n",
    "                   \"min_samples_split\": [2,4], # Use for regularization, prevent overfitting\n",
    "                   \"n_estimators\": [300,400,500,600,700,800,900,1000],\n",
    "                   \"oob_score\": [True,False],\n",
    "                  }"
   ]
  },
  {
   "cell_type": "code",
   "execution_count": null,
   "metadata": {},
   "outputs": [],
   "source": [
    "hyperparameters2 = {\"criterion\": [\"mse\"],\n",
    "                   \"max_depth\": [None],   # Use for regularization, prevent overfitting\n",
    "                   \"max_features\": [\"auto\",\"log2\", \"sqrt\"], # Use for regularization, prevent overfitting\n",
    "                   \"min_samples_split\": [2,4], # Use for regularization, prevent overfitting\n",
    "                   \"n_estimators\": [30,60,80,100,200,300,400,500] # Many ensemble trees reduces overfitting\n",
    "                  }"
   ]
  },
  {
   "cell_type": "code",
   "execution_count": null,
   "metadata": {},
   "outputs": [],
   "source": [
    "cls = RandomForestRegressor()\n",
    "grid = GridSearchCV(cls,param_grid=hyperparameters2,cv=6)\n",
    "grid.fit(train_rf_x_engine, log_transform_y)"
   ]
  },
  {
   "cell_type": "code",
   "execution_count": null,
   "metadata": {},
   "outputs": [],
   "source": [
    "best_params = grid.best_params_\n",
    "best_score = grid.best_score_\n",
    "best_rf = grid.best_estimator_\n",
    "print(best_params)\n",
    "print(best_score)\n",
    "print(best_rf)"
   ]
  },
  {
   "cell_type": "code",
   "execution_count": null,
   "metadata": {},
   "outputs": [],
   "source": [
    "scores = cross_val_score(best_rf, train_rf_x_engine, log_transform_y, cv=6)\n",
    "accuracy_rf = scores.mean()\n",
    "print(scores)\n",
    "print(accuracy_rf)"
   ]
  },
  {
   "cell_type": "code",
   "execution_count": null,
   "metadata": {},
   "outputs": [],
   "source": [
    "best_rf.score(train_rf_x_engine,log_transform_y)"
   ]
  },
  {
   "cell_type": "code",
   "execution_count": null,
   "metadata": {},
   "outputs": [],
   "source": [
    "pred = best_rf.predict(test_rf_x_engine)"
   ]
  },
  {
   "cell_type": "code",
   "execution_count": null,
   "metadata": {},
   "outputs": [],
   "source": [
    "pred = np.exp(pred)"
   ]
  },
  {
   "cell_type": "code",
   "execution_count": null,
   "metadata": {},
   "outputs": [],
   "source": [
    "## Other submission style\n",
    "## Creating a Submission File to submit to Kaggle competition ##\n",
    "testData = pd.read_csv(\"test.csv\")\n",
    "submission = pd.DataFrame({\n",
    "        \"Id\": testData[\"Id\"],\n",
    "        \"Prediction\": pred\n",
    "    })\n",
    "submission.to_csv('RandomForestSimple_log_transform_feature_engine_8th_trial.csv',header=True, index=False)"
   ]
  }
 ],
 "metadata": {
  "kernelspec": {
   "display_name": "Python 3",
   "language": "python",
   "name": "python3"
  },
  "language_info": {
   "codemirror_mode": {
    "name": "ipython",
    "version": 3
   },
   "file_extension": ".py",
   "mimetype": "text/x-python",
   "name": "python",
   "nbconvert_exporter": "python",
   "pygments_lexer": "ipython3",
   "version": "3.7.3"
  }
 },
 "nbformat": 4,
 "nbformat_minor": 2
}
